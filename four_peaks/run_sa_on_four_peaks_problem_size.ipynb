{
 "cells": [
  {
   "cell_type": "code",
   "execution_count": 1,
   "metadata": {},
   "outputs": [],
   "source": [
    "import pandas as pd\n",
    "from tqdm import tqdm\n",
    "import os\n",
    "import time\n",
    "\n",
    "import sys\n",
    "sys.path.append('../mlrose')\n",
    "from mlrose_hiive.generators.four_peaks_generator import FourPeaksGenerator\n",
    "from mlrose_hiive import SARunner\n",
    "from mlrose_hiive import GeomDecay, ExpDecay, ArithDecay\n",
    "import numpy as np"
   ]
  },
  {
   "cell_type": "code",
   "execution_count": 2,
   "metadata": {},
   "outputs": [],
   "source": [
    "ALGORITHM = 'sa'\n",
    "T_PCT = 0.4\n",
    "PROBLEM_SIZE_LIST = [10, 30, 50, 100, 200, 500]\n",
    "# MAX_ITERATIONS = 10000\n",
    "MAX_ATTEMPTS = 1e9\n",
    "NUM_RUNS = 3\n",
    "MIN_T = 0.001\n",
    "\n",
    "TEMPERATURE = 10\n",
    "DECAY = 'ExpDecay'"
   ]
  },
  {
   "cell_type": "code",
   "execution_count": 3,
   "metadata": {},
   "outputs": [],
   "source": [
    "def get_opt_fitness(problem_size, t_pct):\n",
    "    R = (1 - t_pct)*problem_size\n",
    "    if R == int(R):\n",
    "        R = int(R) - 1\n",
    "    else:\n",
    "        R = int(R)\n",
    "    return problem_size + R"
   ]
  },
  {
   "cell_type": "code",
   "execution_count": 4,
   "metadata": {},
   "outputs": [],
   "source": [
    "def get_exp_decay(init_temp, max_iters):\n",
    "    r = (\n",
    "        -np.log(MIN_T / init_temp)\n",
    "        /\n",
    "        max_iters\n",
    "    )\n",
    "    return ExpDecay(init_temp=init_temp, exp_const=r, min_temp=MIN_T)\n",
    "def get_geom_decay(init_temp, max_iters):\n",
    "    r = (\n",
    "        (MIN_T / init_temp) ** (1 / max_iters)\n",
    "    )\n",
    "    return GeomDecay(init_temp=init_temp, decay=r, min_temp=MIN_T)\n",
    "def get_arith_decay(init_temp, max_iters):\n",
    "    r = (\n",
    "        (init_temp - MIN_T)\n",
    "        /\n",
    "        max_iters\n",
    "    )\n",
    "    return ArithDecay(init_temp=init_temp, decay=r, min_temp=MIN_T)"
   ]
  },
  {
   "cell_type": "code",
   "execution_count": 5,
   "metadata": {},
   "outputs": [
    {
     "name": "stdout",
     "output_type": "stream",
     "text": [
      "Creating new metrics file..\n"
     ]
    }
   ],
   "source": [
    "df_path = f'metrics_problem_size/{ALGORITHM}.csv'\n",
    "os.makedirs(os.path.dirname(df_path), exist_ok=True)\n",
    "if not os.path.exists(df_path):\n",
    "    print('Creating new metrics file..')\n",
    "    all_df = pd.DataFrame(columns=[\n",
    "        # runner columns\n",
    "        'Iteration', 'Time', 'Fitness', 'FEvals', 'Temperature', 'max_iters',\n",
    "        # problem config\n",
    "        'problem_size', 't_pct', 'decay_type', 'max_attempts', \n",
    "        # run config\n",
    "        'run_number', 'group_timestamp', 'total_runtime',\n",
    "    ])\n",
    "    all_df.to_csv(df_path, index=False)\n",
    "all_df = pd.read_csv(df_path)"
   ]
  },
  {
   "cell_type": "code",
   "execution_count": 6,
   "metadata": {},
   "outputs": [
    {
     "name": "stdout",
     "output_type": "stream",
     "text": [
      "Problem Size: 10\n"
     ]
    },
    {
     "name": "stderr",
     "output_type": "stream",
     "text": [
      " 67%|██████▋   | 2/3 [00:00<00:00,  9.45it/s]"
     ]
    },
    {
     "name": "stdout",
     "output_type": "stream",
     "text": [
      "Max Fitness: 10.0\n",
      "Max Iteration: 1000\n",
      "Max Fitness: 15.0\n",
      "Max Iteration: 1000\n",
      "Max Fitness: 10.0\n",
      "Max Iteration: 1000\n"
     ]
    },
    {
     "name": "stderr",
     "output_type": "stream",
     "text": [
      "100%|██████████| 3/3 [00:00<00:00,  9.57it/s]\n"
     ]
    },
    {
     "name": "stdout",
     "output_type": "stream",
     "text": [
      "Problem Size: 30\n"
     ]
    },
    {
     "name": "stderr",
     "output_type": "stream",
     "text": [
      " 33%|███▎      | 1/3 [00:00<00:01,  1.30it/s]"
     ]
    },
    {
     "name": "stdout",
     "output_type": "stream",
     "text": [
      "Max Fitness: 30.0\n",
      "Max Iteration: 3000\n"
     ]
    },
    {
     "name": "stderr",
     "output_type": "stream",
     "text": [
      " 67%|██████▋   | 2/3 [00:01<00:00,  1.32it/s]"
     ]
    },
    {
     "name": "stdout",
     "output_type": "stream",
     "text": [
      "Max Fitness: 30.0\n",
      "Max Iteration: 3000\n"
     ]
    },
    {
     "name": "stderr",
     "output_type": "stream",
     "text": [
      "100%|██████████| 3/3 [00:02<00:00,  1.32it/s]"
     ]
    },
    {
     "name": "stdout",
     "output_type": "stream",
     "text": [
      "Max Fitness: 30.0\n",
      "Max Iteration: 3000\n",
      "Problem Size: 50\n"
     ]
    },
    {
     "name": "stderr",
     "output_type": "stream",
     "text": [
      "\n",
      " 33%|███▎      | 1/3 [00:02<00:04,  2.05s/it]"
     ]
    },
    {
     "name": "stdout",
     "output_type": "stream",
     "text": [
      "Max Fitness: 50.0\n",
      "Max Iteration: 5000\n"
     ]
    },
    {
     "name": "stderr",
     "output_type": "stream",
     "text": [
      " 67%|██████▋   | 2/3 [00:04<00:02,  2.06s/it]"
     ]
    },
    {
     "name": "stdout",
     "output_type": "stream",
     "text": [
      "Max Fitness: 50.0\n",
      "Max Iteration: 5000\n"
     ]
    },
    {
     "name": "stderr",
     "output_type": "stream",
     "text": [
      "100%|██████████| 3/3 [00:06<00:00,  2.05s/it]"
     ]
    },
    {
     "name": "stdout",
     "output_type": "stream",
     "text": [
      "Max Fitness: 50.0\n",
      "Max Iteration: 5000\n",
      "Problem Size: 100\n"
     ]
    },
    {
     "name": "stderr",
     "output_type": "stream",
     "text": [
      "\n",
      " 33%|███▎      | 1/3 [00:07<00:15,  7.97s/it]"
     ]
    },
    {
     "name": "stdout",
     "output_type": "stream",
     "text": [
      "Max Fitness: 100.0\n",
      "Max Iteration: 10000\n"
     ]
    },
    {
     "name": "stderr",
     "output_type": "stream",
     "text": [
      " 67%|██████▋   | 2/3 [00:15<00:08,  8.00s/it]"
     ]
    },
    {
     "name": "stdout",
     "output_type": "stream",
     "text": [
      "Max Fitness: 100.0\n",
      "Max Iteration: 10000\n"
     ]
    },
    {
     "name": "stderr",
     "output_type": "stream",
     "text": [
      "100%|██████████| 3/3 [00:23<00:00,  7.98s/it]"
     ]
    },
    {
     "name": "stdout",
     "output_type": "stream",
     "text": [
      "Max Fitness: 100.0\n",
      "Max Iteration: 10000\n"
     ]
    },
    {
     "name": "stderr",
     "output_type": "stream",
     "text": [
      "\n"
     ]
    },
    {
     "name": "stdout",
     "output_type": "stream",
     "text": [
      "Problem Size: 200\n"
     ]
    },
    {
     "name": "stderr",
     "output_type": "stream",
     "text": [
      " 33%|███▎      | 1/3 [00:32<01:04, 32.18s/it]"
     ]
    },
    {
     "name": "stdout",
     "output_type": "stream",
     "text": [
      "Max Fitness: 163.0\n",
      "Max Iteration: 20000\n"
     ]
    },
    {
     "name": "stderr",
     "output_type": "stream",
     "text": [
      " 67%|██████▋   | 2/3 [01:04<00:32, 32.34s/it]"
     ]
    },
    {
     "name": "stdout",
     "output_type": "stream",
     "text": [
      "Max Fitness: 190.0\n",
      "Max Iteration: 20000\n"
     ]
    },
    {
     "name": "stderr",
     "output_type": "stream",
     "text": [
      "100%|██████████| 3/3 [01:37<00:00, 32.46s/it]"
     ]
    },
    {
     "name": "stdout",
     "output_type": "stream",
     "text": [
      "Max Fitness: 133.0\n",
      "Max Iteration: 20000\n"
     ]
    },
    {
     "name": "stderr",
     "output_type": "stream",
     "text": [
      "\n"
     ]
    },
    {
     "name": "stdout",
     "output_type": "stream",
     "text": [
      "Problem Size: 500\n"
     ]
    },
    {
     "name": "stderr",
     "output_type": "stream",
     "text": [
      " 33%|███▎      | 1/3 [03:32<07:05, 212.56s/it]"
     ]
    },
    {
     "name": "stdout",
     "output_type": "stream",
     "text": [
      "Max Fitness: 158.0\n",
      "Max Iteration: 50000\n"
     ]
    },
    {
     "name": "stderr",
     "output_type": "stream",
     "text": [
      " 67%|██████▋   | 2/3 [07:20<03:41, 221.73s/it]"
     ]
    },
    {
     "name": "stdout",
     "output_type": "stream",
     "text": [
      "Max Fitness: 175.0\n",
      "Max Iteration: 50000\n"
     ]
    },
    {
     "name": "stderr",
     "output_type": "stream",
     "text": [
      "100%|██████████| 3/3 [11:16<00:00, 225.61s/it]"
     ]
    },
    {
     "name": "stdout",
     "output_type": "stream",
     "text": [
      "Max Fitness: 175.0\n",
      "Max Iteration: 50000\n"
     ]
    },
    {
     "name": "stderr",
     "output_type": "stream",
     "text": [
      "\n"
     ]
    }
   ],
   "source": [
    "for problem_size in PROBLEM_SIZE_LIST:\n",
    "    print(f\"Problem Size: {problem_size}\")\n",
    "\n",
    "    MAX_ITERATIONS = 100 * problem_size\n",
    "\n",
    "    if DECAY == 'ExpDecay':\n",
    "        decay_type = get_exp_decay(TEMPERATURE, MAX_ITERATIONS)\n",
    "    elif DECAY == 'GeomDecay':\n",
    "        decay_type = get_geom_decay(TEMPERATURE, MAX_ITERATIONS)\n",
    "    elif DECAY == 'ArithDecay':\n",
    "        decay_type = get_arith_decay(TEMPERATURE, MAX_ITERATIONS)\n",
    "    else:\n",
    "        raise ValueError('Invalid decay type')\n",
    "\n",
    "    if (\n",
    "        (all_df['problem_size'] == problem_size) &\n",
    "        (all_df['t_pct'] == T_PCT) &\n",
    "        (all_df['decay_type'] == DECAY) &\n",
    "        (all_df['Temperature'] == TEMPERATURE) &\n",
    "        (all_df['max_attempts'] == MAX_ATTEMPTS)\n",
    "    ).any():\n",
    "        print('Already run')\n",
    "        continue\n",
    "\n",
    "    opt_fitness = get_opt_fitness(problem_size, T_PCT)\n",
    "\n",
    "    group_timestamp = int(time.time())\n",
    "    time.sleep(1)\n",
    "    for run_i in tqdm(range(NUM_RUNS)):\n",
    "        t_start = time.perf_counter()\n",
    "        problem = FourPeaksGenerator().generate(seed=run_i, size=problem_size, t_pct=T_PCT)\n",
    "        runner = SARunner(\n",
    "            problem=problem,\n",
    "            experiment_name='SA',\n",
    "            output_directory='.',\n",
    "            seed=run_i,\n",
    "            iteration_list=[MAX_ITERATIONS],\n",
    "            max_attempts=MAX_ATTEMPTS,\n",
    "            temperature_list=[decay_type],\n",
    "            # decay_list=[decay_type],\n",
    "        )\n",
    "        _, df_run_curves = runner.run()\n",
    "\n",
    "        df_run_curves['problem_size'] = problem_size\n",
    "        df_run_curves['t_pct'] = T_PCT\n",
    "        df_run_curves['decay_type'] = DECAY\n",
    "        df_run_curves['max_attempts'] = MAX_ATTEMPTS\n",
    "\n",
    "        df_run_curves['Temperature'] = TEMPERATURE\n",
    "        df_run_curves['max_iters'] = MAX_ITERATIONS\n",
    "\n",
    "        df_run_curves['run_number'] = run_i\n",
    "        df_run_curves['group_timestamp'] = group_timestamp\n",
    "\n",
    "        print(f\"Max Fitness: {df_run_curves['Fitness'].max()}\")\n",
    "        print(f\"Max Iteration: {df_run_curves['Iteration'].max()}\")\n",
    "\n",
    "        t_end = time.perf_counter()\n",
    "        df_run_curves['total_runtime'] = t_end - t_start\n",
    "        df_run_curves['optimal_fitness'] = opt_fitness\n",
    "\n",
    "        all_df = pd.concat([all_df, df_run_curves])\n",
    "    all_df.reset_index(inplace=True, drop=True)\n",
    "    all_df.to_csv(df_path, index=False)"
   ]
  },
  {
   "cell_type": "code",
   "execution_count": 7,
   "metadata": {},
   "outputs": [
    {
     "data": {
      "text/plain": [
       "Index(['Iteration', 'Time', 'Fitness', 'FEvals', 'Temperature', 'max_iters',\n",
       "       'problem_size', 't_pct', 'decay_type', 'max_attempts', 'run_number',\n",
       "       'group_timestamp', 'total_runtime', 'optimal_fitness'],\n",
       "      dtype='object')"
      ]
     },
     "execution_count": 7,
     "metadata": {},
     "output_type": "execute_result"
    }
   ],
   "source": [
    "all_df.columns"
   ]
  },
  {
   "cell_type": "code",
   "execution_count": 8,
   "metadata": {},
   "outputs": [],
   "source": [
    "agg_df = pd.DataFrame()\n",
    "for group_timestamp in all_df['group_timestamp'].unique():\n",
    "    df = all_df[all_df['group_timestamp'] == group_timestamp]\n",
    "    max_fit = df['Fitness'].max()\n",
    "    total_iters = df['Iteration'].max()\n",
    "    max_fevals = df['FEvals'].max()\n",
    "    df.drop(columns=['Fitness', 'Iteration', 'FEvals', 'Time'], inplace=True)\n",
    "    assert(len(df) > NUM_RUNS)\n",
    "    df.drop_duplicates(inplace=True)\n",
    "    assert(len(df) == NUM_RUNS)\n",
    "    df['max_fitness'] = max_fit\n",
    "    df['total_iterations'] = total_iters\n",
    "    df['max_fevals'] = max_fevals\n",
    "    agg_df = pd.concat([agg_df, df])\n",
    "agg_df.reset_index(inplace=True, drop=True)"
   ]
  },
  {
   "cell_type": "code",
   "execution_count": 9,
   "metadata": {},
   "outputs": [],
   "source": [
    "df_path = f'metrics_problem_size/{ALGORITHM}_agg.csv'\n",
    "agg_df.to_csv(df_path, index=False)"
   ]
  },
  {
   "cell_type": "code",
   "execution_count": 10,
   "metadata": {},
   "outputs": [
    {
     "data": {
      "text/html": [
       "<div>\n",
       "<style scoped>\n",
       "    .dataframe tbody tr th:only-of-type {\n",
       "        vertical-align: middle;\n",
       "    }\n",
       "\n",
       "    .dataframe tbody tr th {\n",
       "        vertical-align: top;\n",
       "    }\n",
       "\n",
       "    .dataframe thead th {\n",
       "        text-align: right;\n",
       "    }\n",
       "</style>\n",
       "<table border=\"1\" class=\"dataframe\">\n",
       "  <thead>\n",
       "    <tr style=\"text-align: right;\">\n",
       "      <th></th>\n",
       "      <th>Temperature</th>\n",
       "      <th>max_iters</th>\n",
       "      <th>problem_size</th>\n",
       "      <th>t_pct</th>\n",
       "      <th>decay_type</th>\n",
       "      <th>max_attempts</th>\n",
       "      <th>run_number</th>\n",
       "      <th>group_timestamp</th>\n",
       "      <th>total_runtime</th>\n",
       "      <th>optimal_fitness</th>\n",
       "      <th>max_fitness</th>\n",
       "      <th>total_iterations</th>\n",
       "      <th>max_fevals</th>\n",
       "    </tr>\n",
       "  </thead>\n",
       "  <tbody>\n",
       "    <tr>\n",
       "      <th>0</th>\n",
       "      <td>10</td>\n",
       "      <td>1000</td>\n",
       "      <td>10</td>\n",
       "      <td>0.4</td>\n",
       "      <td>ExpDecay</td>\n",
       "      <td>1.000000e+09</td>\n",
       "      <td>0</td>\n",
       "      <td>1719007945</td>\n",
       "      <td>0.111252</td>\n",
       "      <td>15.0</td>\n",
       "      <td>15.0</td>\n",
       "      <td>1000</td>\n",
       "      <td>1221.0</td>\n",
       "    </tr>\n",
       "    <tr>\n",
       "      <th>1</th>\n",
       "      <td>10</td>\n",
       "      <td>1000</td>\n",
       "      <td>10</td>\n",
       "      <td>0.4</td>\n",
       "      <td>ExpDecay</td>\n",
       "      <td>1.000000e+09</td>\n",
       "      <td>1</td>\n",
       "      <td>1719007945</td>\n",
       "      <td>0.100554</td>\n",
       "      <td>15.0</td>\n",
       "      <td>15.0</td>\n",
       "      <td>1000</td>\n",
       "      <td>1221.0</td>\n",
       "    </tr>\n",
       "    <tr>\n",
       "      <th>2</th>\n",
       "      <td>10</td>\n",
       "      <td>1000</td>\n",
       "      <td>10</td>\n",
       "      <td>0.4</td>\n",
       "      <td>ExpDecay</td>\n",
       "      <td>1.000000e+09</td>\n",
       "      <td>2</td>\n",
       "      <td>1719007945</td>\n",
       "      <td>0.098667</td>\n",
       "      <td>15.0</td>\n",
       "      <td>15.0</td>\n",
       "      <td>1000</td>\n",
       "      <td>1221.0</td>\n",
       "    </tr>\n",
       "    <tr>\n",
       "      <th>3</th>\n",
       "      <td>10</td>\n",
       "      <td>3000</td>\n",
       "      <td>30</td>\n",
       "      <td>0.4</td>\n",
       "      <td>ExpDecay</td>\n",
       "      <td>1.000000e+09</td>\n",
       "      <td>0</td>\n",
       "      <td>1719007946</td>\n",
       "      <td>0.768637</td>\n",
       "      <td>47.0</td>\n",
       "      <td>30.0</td>\n",
       "      <td>3000</td>\n",
       "      <td>3940.0</td>\n",
       "    </tr>\n",
       "    <tr>\n",
       "      <th>4</th>\n",
       "      <td>10</td>\n",
       "      <td>3000</td>\n",
       "      <td>30</td>\n",
       "      <td>0.4</td>\n",
       "      <td>ExpDecay</td>\n",
       "      <td>1.000000e+09</td>\n",
       "      <td>1</td>\n",
       "      <td>1719007946</td>\n",
       "      <td>0.753081</td>\n",
       "      <td>47.0</td>\n",
       "      <td>30.0</td>\n",
       "      <td>3000</td>\n",
       "      <td>3940.0</td>\n",
       "    </tr>\n",
       "    <tr>\n",
       "      <th>5</th>\n",
       "      <td>10</td>\n",
       "      <td>3000</td>\n",
       "      <td>30</td>\n",
       "      <td>0.4</td>\n",
       "      <td>ExpDecay</td>\n",
       "      <td>1.000000e+09</td>\n",
       "      <td>2</td>\n",
       "      <td>1719007946</td>\n",
       "      <td>0.748580</td>\n",
       "      <td>47.0</td>\n",
       "      <td>30.0</td>\n",
       "      <td>3000</td>\n",
       "      <td>3940.0</td>\n",
       "    </tr>\n",
       "    <tr>\n",
       "      <th>6</th>\n",
       "      <td>10</td>\n",
       "      <td>5000</td>\n",
       "      <td>50</td>\n",
       "      <td>0.4</td>\n",
       "      <td>ExpDecay</td>\n",
       "      <td>1.000000e+09</td>\n",
       "      <td>0</td>\n",
       "      <td>1719007950</td>\n",
       "      <td>2.050576</td>\n",
       "      <td>79.0</td>\n",
       "      <td>50.0</td>\n",
       "      <td>5000</td>\n",
       "      <td>7002.0</td>\n",
       "    </tr>\n",
       "    <tr>\n",
       "      <th>7</th>\n",
       "      <td>10</td>\n",
       "      <td>5000</td>\n",
       "      <td>50</td>\n",
       "      <td>0.4</td>\n",
       "      <td>ExpDecay</td>\n",
       "      <td>1.000000e+09</td>\n",
       "      <td>1</td>\n",
       "      <td>1719007950</td>\n",
       "      <td>2.067503</td>\n",
       "      <td>79.0</td>\n",
       "      <td>50.0</td>\n",
       "      <td>5000</td>\n",
       "      <td>7002.0</td>\n",
       "    </tr>\n",
       "    <tr>\n",
       "      <th>8</th>\n",
       "      <td>10</td>\n",
       "      <td>5000</td>\n",
       "      <td>50</td>\n",
       "      <td>0.4</td>\n",
       "      <td>ExpDecay</td>\n",
       "      <td>1.000000e+09</td>\n",
       "      <td>2</td>\n",
       "      <td>1719007950</td>\n",
       "      <td>2.013933</td>\n",
       "      <td>79.0</td>\n",
       "      <td>50.0</td>\n",
       "      <td>5000</td>\n",
       "      <td>7002.0</td>\n",
       "    </tr>\n",
       "    <tr>\n",
       "      <th>9</th>\n",
       "      <td>10</td>\n",
       "      <td>10000</td>\n",
       "      <td>100</td>\n",
       "      <td>0.4</td>\n",
       "      <td>ExpDecay</td>\n",
       "      <td>1.000000e+09</td>\n",
       "      <td>0</td>\n",
       "      <td>1719007957</td>\n",
       "      <td>7.968158</td>\n",
       "      <td>159.0</td>\n",
       "      <td>100.0</td>\n",
       "      <td>10000</td>\n",
       "      <td>15453.0</td>\n",
       "    </tr>\n",
       "    <tr>\n",
       "      <th>10</th>\n",
       "      <td>10</td>\n",
       "      <td>10000</td>\n",
       "      <td>100</td>\n",
       "      <td>0.4</td>\n",
       "      <td>ExpDecay</td>\n",
       "      <td>1.000000e+09</td>\n",
       "      <td>1</td>\n",
       "      <td>1719007957</td>\n",
       "      <td>8.024885</td>\n",
       "      <td>159.0</td>\n",
       "      <td>100.0</td>\n",
       "      <td>10000</td>\n",
       "      <td>15453.0</td>\n",
       "    </tr>\n",
       "    <tr>\n",
       "      <th>11</th>\n",
       "      <td>10</td>\n",
       "      <td>10000</td>\n",
       "      <td>100</td>\n",
       "      <td>0.4</td>\n",
       "      <td>ExpDecay</td>\n",
       "      <td>1.000000e+09</td>\n",
       "      <td>2</td>\n",
       "      <td>1719007957</td>\n",
       "      <td>7.941515</td>\n",
       "      <td>159.0</td>\n",
       "      <td>100.0</td>\n",
       "      <td>10000</td>\n",
       "      <td>15453.0</td>\n",
       "    </tr>\n",
       "    <tr>\n",
       "      <th>12</th>\n",
       "      <td>10</td>\n",
       "      <td>20000</td>\n",
       "      <td>200</td>\n",
       "      <td>0.4</td>\n",
       "      <td>ExpDecay</td>\n",
       "      <td>1.000000e+09</td>\n",
       "      <td>0</td>\n",
       "      <td>1719007982</td>\n",
       "      <td>32.173734</td>\n",
       "      <td>319.0</td>\n",
       "      <td>190.0</td>\n",
       "      <td>20000</td>\n",
       "      <td>35479.0</td>\n",
       "    </tr>\n",
       "    <tr>\n",
       "      <th>13</th>\n",
       "      <td>10</td>\n",
       "      <td>20000</td>\n",
       "      <td>200</td>\n",
       "      <td>0.4</td>\n",
       "      <td>ExpDecay</td>\n",
       "      <td>1.000000e+09</td>\n",
       "      <td>1</td>\n",
       "      <td>1719007982</td>\n",
       "      <td>32.449982</td>\n",
       "      <td>319.0</td>\n",
       "      <td>190.0</td>\n",
       "      <td>20000</td>\n",
       "      <td>35479.0</td>\n",
       "    </tr>\n",
       "    <tr>\n",
       "      <th>14</th>\n",
       "      <td>10</td>\n",
       "      <td>20000</td>\n",
       "      <td>200</td>\n",
       "      <td>0.4</td>\n",
       "      <td>ExpDecay</td>\n",
       "      <td>1.000000e+09</td>\n",
       "      <td>2</td>\n",
       "      <td>1719007982</td>\n",
       "      <td>32.751345</td>\n",
       "      <td>319.0</td>\n",
       "      <td>190.0</td>\n",
       "      <td>20000</td>\n",
       "      <td>35479.0</td>\n",
       "    </tr>\n",
       "    <tr>\n",
       "      <th>15</th>\n",
       "      <td>10</td>\n",
       "      <td>50000</td>\n",
       "      <td>500</td>\n",
       "      <td>0.4</td>\n",
       "      <td>ExpDecay</td>\n",
       "      <td>1.000000e+09</td>\n",
       "      <td>0</td>\n",
       "      <td>1719008081</td>\n",
       "      <td>212.538020</td>\n",
       "      <td>799.0</td>\n",
       "      <td>175.0</td>\n",
       "      <td>50000</td>\n",
       "      <td>93335.0</td>\n",
       "    </tr>\n",
       "    <tr>\n",
       "      <th>16</th>\n",
       "      <td>10</td>\n",
       "      <td>50000</td>\n",
       "      <td>500</td>\n",
       "      <td>0.4</td>\n",
       "      <td>ExpDecay</td>\n",
       "      <td>1.000000e+09</td>\n",
       "      <td>1</td>\n",
       "      <td>1719008081</td>\n",
       "      <td>228.138526</td>\n",
       "      <td>799.0</td>\n",
       "      <td>175.0</td>\n",
       "      <td>50000</td>\n",
       "      <td>93335.0</td>\n",
       "    </tr>\n",
       "    <tr>\n",
       "      <th>17</th>\n",
       "      <td>10</td>\n",
       "      <td>50000</td>\n",
       "      <td>500</td>\n",
       "      <td>0.4</td>\n",
       "      <td>ExpDecay</td>\n",
       "      <td>1.000000e+09</td>\n",
       "      <td>2</td>\n",
       "      <td>1719008081</td>\n",
       "      <td>236.106181</td>\n",
       "      <td>799.0</td>\n",
       "      <td>175.0</td>\n",
       "      <td>50000</td>\n",
       "      <td>93335.0</td>\n",
       "    </tr>\n",
       "  </tbody>\n",
       "</table>\n",
       "</div>"
      ],
      "text/plain": [
       "   Temperature max_iters problem_size  t_pct decay_type  max_attempts  \\\n",
       "0           10      1000           10    0.4   ExpDecay  1.000000e+09   \n",
       "1           10      1000           10    0.4   ExpDecay  1.000000e+09   \n",
       "2           10      1000           10    0.4   ExpDecay  1.000000e+09   \n",
       "3           10      3000           30    0.4   ExpDecay  1.000000e+09   \n",
       "4           10      3000           30    0.4   ExpDecay  1.000000e+09   \n",
       "5           10      3000           30    0.4   ExpDecay  1.000000e+09   \n",
       "6           10      5000           50    0.4   ExpDecay  1.000000e+09   \n",
       "7           10      5000           50    0.4   ExpDecay  1.000000e+09   \n",
       "8           10      5000           50    0.4   ExpDecay  1.000000e+09   \n",
       "9           10     10000          100    0.4   ExpDecay  1.000000e+09   \n",
       "10          10     10000          100    0.4   ExpDecay  1.000000e+09   \n",
       "11          10     10000          100    0.4   ExpDecay  1.000000e+09   \n",
       "12          10     20000          200    0.4   ExpDecay  1.000000e+09   \n",
       "13          10     20000          200    0.4   ExpDecay  1.000000e+09   \n",
       "14          10     20000          200    0.4   ExpDecay  1.000000e+09   \n",
       "15          10     50000          500    0.4   ExpDecay  1.000000e+09   \n",
       "16          10     50000          500    0.4   ExpDecay  1.000000e+09   \n",
       "17          10     50000          500    0.4   ExpDecay  1.000000e+09   \n",
       "\n",
       "   run_number group_timestamp  total_runtime  optimal_fitness  max_fitness  \\\n",
       "0           0      1719007945       0.111252             15.0         15.0   \n",
       "1           1      1719007945       0.100554             15.0         15.0   \n",
       "2           2      1719007945       0.098667             15.0         15.0   \n",
       "3           0      1719007946       0.768637             47.0         30.0   \n",
       "4           1      1719007946       0.753081             47.0         30.0   \n",
       "5           2      1719007946       0.748580             47.0         30.0   \n",
       "6           0      1719007950       2.050576             79.0         50.0   \n",
       "7           1      1719007950       2.067503             79.0         50.0   \n",
       "8           2      1719007950       2.013933             79.0         50.0   \n",
       "9           0      1719007957       7.968158            159.0        100.0   \n",
       "10          1      1719007957       8.024885            159.0        100.0   \n",
       "11          2      1719007957       7.941515            159.0        100.0   \n",
       "12          0      1719007982      32.173734            319.0        190.0   \n",
       "13          1      1719007982      32.449982            319.0        190.0   \n",
       "14          2      1719007982      32.751345            319.0        190.0   \n",
       "15          0      1719008081     212.538020            799.0        175.0   \n",
       "16          1      1719008081     228.138526            799.0        175.0   \n",
       "17          2      1719008081     236.106181            799.0        175.0   \n",
       "\n",
       "    total_iterations  max_fevals  \n",
       "0               1000      1221.0  \n",
       "1               1000      1221.0  \n",
       "2               1000      1221.0  \n",
       "3               3000      3940.0  \n",
       "4               3000      3940.0  \n",
       "5               3000      3940.0  \n",
       "6               5000      7002.0  \n",
       "7               5000      7002.0  \n",
       "8               5000      7002.0  \n",
       "9              10000     15453.0  \n",
       "10             10000     15453.0  \n",
       "11             10000     15453.0  \n",
       "12             20000     35479.0  \n",
       "13             20000     35479.0  \n",
       "14             20000     35479.0  \n",
       "15             50000     93335.0  \n",
       "16             50000     93335.0  \n",
       "17             50000     93335.0  "
      ]
     },
     "execution_count": 10,
     "metadata": {},
     "output_type": "execute_result"
    }
   ],
   "source": [
    "agg_df"
   ]
  },
  {
   "cell_type": "code",
   "execution_count": null,
   "metadata": {},
   "outputs": [],
   "source": []
  }
 ],
 "metadata": {
  "kernelspec": {
   "display_name": "venv",
   "language": "python",
   "name": "python3"
  },
  "language_info": {
   "codemirror_mode": {
    "name": "ipython",
    "version": 3
   },
   "file_extension": ".py",
   "mimetype": "text/x-python",
   "name": "python",
   "nbconvert_exporter": "python",
   "pygments_lexer": "ipython3",
   "version": "3.12.2"
  }
 },
 "nbformat": 4,
 "nbformat_minor": 2
}

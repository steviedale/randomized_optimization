{
 "cells": [
  {
   "cell_type": "code",
   "execution_count": 101,
   "metadata": {},
   "outputs": [],
   "source": [
    "import pandas as pd\n",
    "from tqdm import tqdm\n",
    "import os\n",
    "import yaml\n",
    "\n",
    "import sys\n",
    "sys.path.append('../mlrose')\n",
    "from mlrose_hiive.generators.four_peaks_generator import FourPeaksGenerator\n",
    "from mlrose_hiive import GARunner"
   ]
  },
  {
   "cell_type": "code",
   "execution_count": 102,
   "metadata": {},
   "outputs": [],
   "source": [
    "ALGORITHM = 'ga'\n",
    "MUTATION_RATE_LIST = [0.25, 0.5, 0.75, 0.9]\n",
    "\n",
    "T_PCT = [0.25]\n",
    "PROBLEM_SIZE_LIST = [5, 10, 20, 50, 100, 200, 500, 1000]\n",
    "ITERATIONS_LIST = [1000]\n",
    "MAX_ATTEMPTS_LIST = [1000]\n",
    "NUM_RUNS = [3]\n",
    "POPULATION_SIZES_LIST = [10, 50, 100, 200, 500, 1000]"
   ]
  },
  {
   "cell_type": "code",
   "execution_count": 103,
   "metadata": {},
   "outputs": [
    {
     "name": "stdout",
     "output_type": "stream",
     "text": [
      "249.0\n"
     ]
    },
    {
     "data": {
      "text/plain": [
       "87"
      ]
     },
     "execution_count": 103,
     "metadata": {},
     "output_type": "execute_result"
    }
   ],
   "source": [
    "from mlrose_hiive.fitness.four_peaks import FourPeaks\n",
    "print(500*0.498)\n",
    "problem = FourPeaks(t_pct=0.1)\n",
    "problem.evaluate([1]*13 + [0]*37)"
   ]
  },
  {
   "cell_type": "code",
   "execution_count": 98,
   "metadata": {},
   "outputs": [],
   "source": [
    "max_attempts = 1000000\n",
    "iterations = 1000\n",
    "population_size = 500\n",
    "mutation_rate = 0.1\n",
    "problem_size = 20\n",
    "t_pct = 0.4"
   ]
  },
  {
   "cell_type": "code",
   "execution_count": 104,
   "metadata": {},
   "outputs": [
    {
     "name": "stdout",
     "output_type": "stream",
     "text": [
      "31\n"
     ]
    }
   ],
   "source": [
    "def get_opt_fitness(problem_size):\n",
    "    R = (1- t_pct)*problem_size\n",
    "    if R == int(R):\n",
    "        R = int(R) - 1\n",
    "    else:\n",
    "        R = int(R)\n",
    "\n",
    "    return problem_size + R\n",
    "OPT_FITNESS = get_opt_fitness(problem_size)\n",
    "print(OPT_FITNESS)"
   ]
  },
  {
   "cell_type": "code",
   "execution_count": 99,
   "metadata": {},
   "outputs": [],
   "source": [
    "# SEED = 6\n",
    "import time\n",
    "SEED = int(time.time())\n",
    "problem = FourPeaksGenerator().generate(seed=SEED, size=problem_size, t_pct=t_pct)\n",
    "sa = GARunner(\n",
    "    problem=problem,\n",
    "    experiment_name='dontcare',\n",
    "    output_directory='./',\n",
    "    seed=SEED,\n",
    "    max_attempts=max_attempts,\n",
    "    iteration_list=[iterations],\n",
    "    population_sizes=[population_size],\n",
    "    mutation_rates=[mutation_rate]\n",
    ")\n",
    "x, df_run_curves = sa.run()"
   ]
  },
  {
   "cell_type": "code",
   "execution_count": 100,
   "metadata": {},
   "outputs": [
    {
     "data": {
      "text/plain": [
       "31.0"
      ]
     },
     "execution_count": 100,
     "metadata": {},
     "output_type": "execute_result"
    }
   ],
   "source": [
    "df_run_curves['Fitness'].max()"
   ]
  },
  {
   "cell_type": "code",
   "execution_count": 105,
   "metadata": {},
   "outputs": [
    {
     "data": {
      "text/html": [
       "<div>\n",
       "<style scoped>\n",
       "    .dataframe tbody tr th:only-of-type {\n",
       "        vertical-align: middle;\n",
       "    }\n",
       "\n",
       "    .dataframe tbody tr th {\n",
       "        vertical-align: top;\n",
       "    }\n",
       "\n",
       "    .dataframe thead th {\n",
       "        text-align: right;\n",
       "    }\n",
       "</style>\n",
       "<table border=\"1\" class=\"dataframe\">\n",
       "  <thead>\n",
       "    <tr style=\"text-align: right;\">\n",
       "      <th></th>\n",
       "      <th>Iteration</th>\n",
       "      <th>Time</th>\n",
       "      <th>Fitness</th>\n",
       "      <th>FEvals</th>\n",
       "      <th>Population Size</th>\n",
       "      <th>Mutation Rate</th>\n",
       "      <th>max_iters</th>\n",
       "    </tr>\n",
       "  </thead>\n",
       "  <tbody>\n",
       "    <tr>\n",
       "      <th>991</th>\n",
       "      <td>991</td>\n",
       "      <td>31.907346</td>\n",
       "      <td>31.0</td>\n",
       "      <td>496994.0</td>\n",
       "      <td>500</td>\n",
       "      <td>0.1</td>\n",
       "      <td>1000</td>\n",
       "    </tr>\n",
       "    <tr>\n",
       "      <th>992</th>\n",
       "      <td>992</td>\n",
       "      <td>31.939975</td>\n",
       "      <td>31.0</td>\n",
       "      <td>497495.0</td>\n",
       "      <td>500</td>\n",
       "      <td>0.1</td>\n",
       "      <td>1000</td>\n",
       "    </tr>\n",
       "    <tr>\n",
       "      <th>993</th>\n",
       "      <td>993</td>\n",
       "      <td>31.974642</td>\n",
       "      <td>31.0</td>\n",
       "      <td>497996.0</td>\n",
       "      <td>500</td>\n",
       "      <td>0.1</td>\n",
       "      <td>1000</td>\n",
       "    </tr>\n",
       "    <tr>\n",
       "      <th>994</th>\n",
       "      <td>994</td>\n",
       "      <td>32.008893</td>\n",
       "      <td>31.0</td>\n",
       "      <td>498497.0</td>\n",
       "      <td>500</td>\n",
       "      <td>0.1</td>\n",
       "      <td>1000</td>\n",
       "    </tr>\n",
       "    <tr>\n",
       "      <th>995</th>\n",
       "      <td>995</td>\n",
       "      <td>32.040354</td>\n",
       "      <td>31.0</td>\n",
       "      <td>498998.0</td>\n",
       "      <td>500</td>\n",
       "      <td>0.1</td>\n",
       "      <td>1000</td>\n",
       "    </tr>\n",
       "    <tr>\n",
       "      <th>996</th>\n",
       "      <td>996</td>\n",
       "      <td>32.070342</td>\n",
       "      <td>31.0</td>\n",
       "      <td>499499.0</td>\n",
       "      <td>500</td>\n",
       "      <td>0.1</td>\n",
       "      <td>1000</td>\n",
       "    </tr>\n",
       "    <tr>\n",
       "      <th>997</th>\n",
       "      <td>997</td>\n",
       "      <td>32.101837</td>\n",
       "      <td>31.0</td>\n",
       "      <td>500000.0</td>\n",
       "      <td>500</td>\n",
       "      <td>0.1</td>\n",
       "      <td>1000</td>\n",
       "    </tr>\n",
       "    <tr>\n",
       "      <th>998</th>\n",
       "      <td>998</td>\n",
       "      <td>32.133738</td>\n",
       "      <td>31.0</td>\n",
       "      <td>500501.0</td>\n",
       "      <td>500</td>\n",
       "      <td>0.1</td>\n",
       "      <td>1000</td>\n",
       "    </tr>\n",
       "    <tr>\n",
       "      <th>999</th>\n",
       "      <td>999</td>\n",
       "      <td>32.165477</td>\n",
       "      <td>31.0</td>\n",
       "      <td>501002.0</td>\n",
       "      <td>500</td>\n",
       "      <td>0.1</td>\n",
       "      <td>1000</td>\n",
       "    </tr>\n",
       "    <tr>\n",
       "      <th>1000</th>\n",
       "      <td>1000</td>\n",
       "      <td>32.197467</td>\n",
       "      <td>31.0</td>\n",
       "      <td>501503.0</td>\n",
       "      <td>500</td>\n",
       "      <td>0.1</td>\n",
       "      <td>1000</td>\n",
       "    </tr>\n",
       "  </tbody>\n",
       "</table>\n",
       "</div>"
      ],
      "text/plain": [
       "      Iteration       Time  Fitness    FEvals  Population Size  Mutation Rate  \\\n",
       "991         991  31.907346     31.0  496994.0              500            0.1   \n",
       "992         992  31.939975     31.0  497495.0              500            0.1   \n",
       "993         993  31.974642     31.0  497996.0              500            0.1   \n",
       "994         994  32.008893     31.0  498497.0              500            0.1   \n",
       "995         995  32.040354     31.0  498998.0              500            0.1   \n",
       "996         996  32.070342     31.0  499499.0              500            0.1   \n",
       "997         997  32.101837     31.0  500000.0              500            0.1   \n",
       "998         998  32.133738     31.0  500501.0              500            0.1   \n",
       "999         999  32.165477     31.0  501002.0              500            0.1   \n",
       "1000       1000  32.197467     31.0  501503.0              500            0.1   \n",
       "\n",
       "      max_iters  \n",
       "991        1000  \n",
       "992        1000  \n",
       "993        1000  \n",
       "994        1000  \n",
       "995        1000  \n",
       "996        1000  \n",
       "997        1000  \n",
       "998        1000  \n",
       "999        1000  \n",
       "1000       1000  "
      ]
     },
     "execution_count": 105,
     "metadata": {},
     "output_type": "execute_result"
    }
   ],
   "source": [
    "df_run_curves.tail(10)"
   ]
  },
  {
   "cell_type": "code",
   "execution_count": null,
   "metadata": {},
   "outputs": [],
   "source": [
    "df_path = f'metrics/{ALGORITHM}.csv'\n",
    "if not os.path.exists(df_path):\n",
    "    df = pd.DataFrame(columns=[\n",
    "        'problem_size', 'mutation_rate', 'population_size', 'iterations', 'max_attempts', \n",
    "        'run_number', 'best_fitness', 'time', 'fevals'])\n",
    "    df.to_csv(df_path, index=False)\n",
    "df = pd.read_csv(df_path)"
   ]
  },
  {
   "cell_type": "code",
   "execution_count": null,
   "metadata": {},
   "outputs": [],
   "source": [
    "all_df = pd.DataFrame()\n",
    "group_i = 0\n",
    "run_i = 0\n",
    "for problem_size in PROBLEM_SIZE_LIST:\n",
    "    print(f'Problem Size: {problem_size}')\n",
    "    for iterations in ITERATIONS_LIST:\n",
    "        print(f'Iterations: {iterations}')\n",
    "        for max_attempts in MAX_ATTEMPTS_LIST:\n",
    "            print(f'Max Attempts: {max_attempts}')\n",
    "            for population_size in POPULATION_SIZES_LIST:\n",
    "                print(f'Population Size: {population_size}')\n",
    "                for mutation_rate in MUTATION_RATE_LIST:\n",
    "                    print(f\"Mutation Rate: {mutation_rate}\")\n",
    "                    for i in tqdm(range(NUM_RUNS)):\n",
    "                        problem = FourPeaksGenerator().generate(seed=SEED+i, size=problem_size, t_pct=T_PCT)\n",
    "                        sa = GARunner(\n",
    "                            problem=problem,\n",
    "                            experiment_name='dontcare',\n",
    "                            output_directory='./',\n",
    "                            seed=SEED+i,\n",
    "                            max_attempts=max_attempts,\n",
    "                            iteration_list=[iterations],\n",
    "                            population_sizes=[population_size],\n",
    "                            mutation_rates=[mutation_rate]\n",
    "                        )\n",
    "                        _, df_run_curves = sa.run()\n",
    "                        df_run_curves['group_number'] = group_i\n",
    "                        df_run_curves['run_number'] = run_i\n",
    "                        df_run_curves['problem_size'] = problem_size\n",
    "                        df_run_curves['max_iterations'] = iterations\n",
    "                        df_run_curves['max_attempts'] = max_attempts\n",
    "                        df_run_curves['population_size'] = population_size\n",
    "                        df_run_curves['mutation_rate'] = mutation_rate\n",
    "\n",
    "                        print(f\"Max Fitness: {df_run_curves['Fitness'].max()}\")\n",
    "                        print(f\"Max Iteration: {df_run_curves['Iteration'].max()}\")\n",
    "\n",
    "                        all_df = pd.concat([all_df, df_run_curves], axis=0)\n",
    "                        run_i += 1\n",
    "                    group_i += 1\n",
    "all_df.reset_index(inplace=True, drop=True)"
   ]
  },
  {
   "cell_type": "code",
   "execution_count": null,
   "metadata": {},
   "outputs": [],
   "source": [
    "print(f\"Max: {all_df['Fitness'].max()}\")\n",
    "print(f\"Min: {all_df['Fitness'].min()}\")"
   ]
  },
  {
   "cell_type": "code",
   "execution_count": null,
   "metadata": {},
   "outputs": [],
   "source": [
    "all_df.to_csv(os.path.join(output_dir, 'learning_curve.csv'), index=False)"
   ]
  },
  {
   "cell_type": "code",
   "execution_count": null,
   "metadata": {},
   "outputs": [],
   "source": []
  }
 ],
 "metadata": {
  "kernelspec": {
   "display_name": "venv",
   "language": "python",
   "name": "python3"
  },
  "language_info": {
   "codemirror_mode": {
    "name": "ipython",
    "version": 3
   },
   "file_extension": ".py",
   "mimetype": "text/x-python",
   "name": "python",
   "nbconvert_exporter": "python",
   "pygments_lexer": "ipython3",
   "version": "3.8.10"
  }
 },
 "nbformat": 4,
 "nbformat_minor": 2
}

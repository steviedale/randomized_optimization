{
 "cells": [
  {
   "cell_type": "code",
   "execution_count": null,
   "metadata": {},
   "outputs": [],
   "source": [
    "import pandas as pd\n",
    "from tqdm import tqdm\n",
    "import os\n",
    "import time\n",
    "\n",
    "import sys\n",
    "sys.path.append('../mlrose')\n",
    "from mlrose_hiive.generators.four_peaks_generator import FourPeaksGenerator\n",
    "from mlrose_hiive import GARunner\n",
    "from mlrose_hiive.fitness.four_peaks import FourPeaks \n",
    "from mlrose_hiive import GeomDecay, ExpDecay, ArithDecay"
   ]
  },
  {
   "cell_type": "code",
   "execution_count": null,
   "metadata": {},
   "outputs": [],
   "source": [
    "ALGORITHM = 'ga'\n",
    "T_PCT = 0.4\n",
    "PROBLEM_SIZE = 30\n",
    "MAX_ITERATIONS = 10000\n",
    "MAX_ATTEMPTS = PROBLEM_SIZE * 5\n",
    "NUM_RUNS = 3\n",
    "\n",
    "MUTATION_RATE_LIST = [0.1, 0.3, 0.5, 0.7]\n",
    "\n",
    "POPULATION_SIZES_LIST = [10, 100, 500, 1000]"
   ]
  },
  {
   "cell_type": "code",
   "execution_count": null,
   "metadata": {},
   "outputs": [],
   "source": [
    "problem = FourPeaks(t_pct=0.4)\n",
    "problem.evaluate([1]*21 + [0]*29)"
   ]
  },
  {
   "cell_type": "code",
   "execution_count": null,
   "metadata": {},
   "outputs": [],
   "source": [
    "def get_opt_fitness(problem_size, t_pct):\n",
    "    R = (1 - t_pct)*problem_size\n",
    "    if R == int(R):\n",
    "        R = int(R) - 1\n",
    "    else:\n",
    "        R = int(R)\n",
    "    return problem_size + R\n",
    "OPT_FITNESS = get_opt_fitness(PROBLEM_SIZE, T_PCT)\n",
    "print(OPT_FITNESS)"
   ]
  },
  {
   "cell_type": "code",
   "execution_count": null,
   "metadata": {},
   "outputs": [],
   "source": [
    "# SEED = 6\n",
    "SEED = int(time.time())\n",
    "problem = FourPeaksGenerator().generate(seed=SEED, size=PROBLEM_SIZE, t_pct=T_PCT)\n",
    "\n",
    "runner = GARunner(\n",
    "    problem=problem,\n",
    "    experiment_name='GA',\n",
    "    output_directory='.',\n",
    "    seed=SEED,\n",
    "    iteration_list=[1000],\n",
    "    max_attempts=PROBLEM_SIZE*5,\n",
    "    population_sizes=[500],\n",
    "    mutation_rates=[0.2],\n",
    ")\n",
    "x, df_run_curves = runner.run()"
   ]
  },
  {
   "cell_type": "code",
   "execution_count": null,
   "metadata": {},
   "outputs": [],
   "source": [
    "print(df_run_curves['Fitness'].max())\n",
    "df_run_curves.head()"
   ]
  },
  {
   "cell_type": "code",
   "execution_count": null,
   "metadata": {},
   "outputs": [],
   "source": [
    "df_path = f'metrics/{ALGORITHM}.csv'\n",
    "os.makedirs(os.path.dirname(df_path), exist_ok=True)\n",
    "if not os.path.exists(df_path):\n",
    "    all_df = pd.DataFrame(columns=[\n",
    "        # runner columns\n",
    "        'Iteration', 'Time', 'Fitness', 'FEvals', 'Population Size', 'Mutation Rate', 'max_iters',\n",
    "        # problem config\n",
    "        'problem_size', 't_pct', 'max_attempts', \n",
    "        # run config\n",
    "        'run_number', 'group_timestamp', 'total_runtime',\n",
    "    ])\n",
    "    all_df.to_csv(df_path, index=False)\n",
    "all_df = pd.read_csv(df_path)"
   ]
  },
  {
   "cell_type": "code",
   "execution_count": null,
   "metadata": {},
   "outputs": [],
   "source": [
    "for mutation in MUTATION_RATE_LIST:\n",
    "    print(f'Mutation: {mutation}')\n",
    "    for population in POPULATION_SIZES_LIST:\n",
    "        print(f\"Population: {population}\")\n",
    "\n",
    "        if (\n",
    "            (all_df['problem_size'] == PROBLEM_SIZE) &\n",
    "            (all_df['t_pct'] == T_PCT) &\n",
    "            (all_df['Population Size'] == population) &\n",
    "            (all_df['Mutation Rate'] == mutation) &\n",
    "            (all_df['max_attempts'] == MAX_ATTEMPTS) &\n",
    "            (all_df['max_iters'] == MAX_ITERATIONS)\n",
    "        ).any():\n",
    "            print('Already run')\n",
    "            continue\n",
    "\n",
    "        group_timestamp = int(time.time())\n",
    "        time.sleep(1)\n",
    "        max_fitnesses = []\n",
    "        for run_i in tqdm(range(NUM_RUNS)):\n",
    "            t_start = time.perf_counter()\n",
    "            problem = FourPeaksGenerator().generate(seed=run_i, size=PROBLEM_SIZE, t_pct=T_PCT)\n",
    "            runner = GARunner(\n",
    "                problem=problem,\n",
    "                experiment_name='GA',\n",
    "                output_directory='.',\n",
    "                seed=run_i,\n",
    "                iteration_list=[MAX_ITERATIONS],\n",
    "                max_attempts=MAX_ATTEMPTS,\n",
    "                population_sizes=[population],\n",
    "                mutation_rates=[mutation],\n",
    "            )\n",
    "            _, df_run_curves = runner.run()\n",
    "\n",
    "            df_run_curves['problem_size'] = PROBLEM_SIZE\n",
    "            df_run_curves['t_pct'] = T_PCT\n",
    "            df_run_curves['max_attempts'] = MAX_ATTEMPTS\n",
    "\n",
    "            df_run_curves['Population Size'] = population\n",
    "            df_run_curves['Mutation Rate'] = mutation\n",
    "            df_run_curves['max_iters'] = MAX_ITERATIONS\n",
    "\n",
    "            df_run_curves['run_number'] = run_i\n",
    "            df_run_curves['group_timestamp'] = group_timestamp\n",
    "\n",
    "            # print(f\"Max Fitness: {df_run_curves['Fitness'].max()}\")\n",
    "            # print(f\"Max Iteration: {df_run_curves['Iteration'].max()}\")\n",
    "\n",
    "            max_fitnesses.append(df_run_curves['Fitness'].max())\n",
    "\n",
    "            t_end = time.perf_counter()\n",
    "            df_run_curves['total_runtime'] = t_end - t_start\n",
    "\n",
    "            all_df = pd.concat([all_df, df_run_curves])\n",
    "\n",
    "        print(f\"Max Fitnesses: {max_fitnesses}\")\n",
    "\n",
    "        all_df.reset_index(inplace=True, drop=True)\n",
    "        all_df.to_csv(df_path, index=False)"
   ]
  },
  {
   "cell_type": "code",
   "execution_count": null,
   "metadata": {},
   "outputs": [],
   "source": [
    "all_df.columns"
   ]
  },
  {
   "cell_type": "code",
   "execution_count": null,
   "metadata": {},
   "outputs": [],
   "source": [
    "agg_df = pd.DataFrame()\n",
    "for group_timestamp in all_df['group_timestamp'].unique():\n",
    "    df = all_df[all_df['group_timestamp'] == group_timestamp]\n",
    "    max_fit = df['Fitness'].max()\n",
    "    total_iters = df['Iteration'].max()\n",
    "    max_fevals = df['FEvals'].max()\n",
    "    df.drop(columns=['Fitness', 'Iteration', 'FEvals', 'Time'], inplace=True)\n",
    "    assert(len(df) > NUM_RUNS)\n",
    "    df.drop_duplicates(inplace=True)\n",
    "    assert(len(df) == NUM_RUNS)\n",
    "    df['max_fitness'] = max_fit\n",
    "    df['total_iterations'] = total_iters\n",
    "    df['max_fevals'] = max_fevals\n",
    "    agg_df = pd.concat([agg_df, df])\n",
    "agg_df.reset_index(inplace=True, drop=True)"
   ]
  },
  {
   "cell_type": "code",
   "execution_count": null,
   "metadata": {},
   "outputs": [],
   "source": [
    "df_path = f'metrics/{ALGORITHM}_agg.csv'\n",
    "agg_df.to_csv(df_path, index=False)"
   ]
  },
  {
   "cell_type": "code",
   "execution_count": null,
   "metadata": {},
   "outputs": [],
   "source": []
  }
 ],
 "metadata": {
  "kernelspec": {
   "display_name": "venv",
   "language": "python",
   "name": "python3"
  },
  "language_info": {
   "codemirror_mode": {
    "name": "ipython",
    "version": 3
   },
   "file_extension": ".py",
   "mimetype": "text/x-python",
   "name": "python",
   "nbconvert_exporter": "python",
   "pygments_lexer": "ipython3",
   "version": "3.12.2"
  }
 },
 "nbformat": 4,
 "nbformat_minor": 2
}

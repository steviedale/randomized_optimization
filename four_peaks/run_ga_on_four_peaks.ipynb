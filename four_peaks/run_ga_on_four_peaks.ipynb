{
 "cells": [
  {
   "cell_type": "code",
   "execution_count": 1,
   "metadata": {},
   "outputs": [],
   "source": [
    "import pandas as pd\n",
    "from tqdm import tqdm\n",
    "import os\n",
    "import time\n",
    "\n",
    "import sys\n",
    "sys.path.append('../mlrose')\n",
    "from mlrose_hiive.generators.four_peaks_generator import FourPeaksGenerator\n",
    "from mlrose_hiive import GARunner\n",
    "from mlrose_hiive.fitness.four_peaks import FourPeaks \n",
    "from mlrose_hiive import GeomDecay, ExpDecay, ArithDecay"
   ]
  },
  {
   "cell_type": "code",
   "execution_count": 2,
   "metadata": {},
   "outputs": [],
   "source": [
    "ALGORITHM = 'ga'\n",
    "T_PCT = 0.4\n",
    "PROBLEM_SIZE = 30\n",
    "MAX_ITERATIONS = 10000\n",
    "MAX_ATTEMPTS = PROBLEM_SIZE * 5\n",
    "NUM_RUNS = 3\n",
    "\n",
    "MUTATION_RATE_LIST = [0.1, 0.3, 0.5, 0.7]\n",
    "\n",
    "POPULATION_SIZES_LIST = [10, 100, 500, 1000]"
   ]
  },
  {
   "cell_type": "code",
   "execution_count": 3,
   "metadata": {},
   "outputs": [
    {
     "data": {
      "text/plain": [
       "79"
      ]
     },
     "execution_count": 3,
     "metadata": {},
     "output_type": "execute_result"
    }
   ],
   "source": [
    "problem = FourPeaks(t_pct=0.4)\n",
    "problem.evaluate([1]*21 + [0]*29)"
   ]
  },
  {
   "cell_type": "code",
   "execution_count": 4,
   "metadata": {},
   "outputs": [
    {
     "name": "stdout",
     "output_type": "stream",
     "text": [
      "47\n"
     ]
    }
   ],
   "source": [
    "def get_opt_fitness(problem_size, t_pct):\n",
    "    R = (1 - t_pct)*problem_size\n",
    "    if R == int(R):\n",
    "        R = int(R) - 1\n",
    "    else:\n",
    "        R = int(R)\n",
    "    return problem_size + R\n",
    "OPT_FITNESS = get_opt_fitness(PROBLEM_SIZE, T_PCT)\n",
    "print(OPT_FITNESS)"
   ]
  },
  {
   "cell_type": "code",
   "execution_count": 5,
   "metadata": {},
   "outputs": [],
   "source": [
    "# SEED = 6\n",
    "SEED = int(time.time())\n",
    "problem = FourPeaksGenerator().generate(seed=SEED, size=PROBLEM_SIZE, t_pct=T_PCT)\n",
    "\n",
    "runner = GARunner(\n",
    "    problem=problem,\n",
    "    experiment_name='GA',\n",
    "    output_directory='.',\n",
    "    seed=SEED,\n",
    "    iteration_list=[1000],\n",
    "    max_attempts=PROBLEM_SIZE*5,\n",
    "    population_sizes=[500],\n",
    "    mutation_rates=[0.2],\n",
    ")\n",
    "x, df_run_curves = runner.run()"
   ]
  },
  {
   "cell_type": "code",
   "execution_count": 6,
   "metadata": {},
   "outputs": [
    {
     "name": "stdout",
     "output_type": "stream",
     "text": [
      "47.0\n"
     ]
    },
    {
     "data": {
      "text/html": [
       "<div>\n",
       "<style scoped>\n",
       "    .dataframe tbody tr th:only-of-type {\n",
       "        vertical-align: middle;\n",
       "    }\n",
       "\n",
       "    .dataframe tbody tr th {\n",
       "        vertical-align: top;\n",
       "    }\n",
       "\n",
       "    .dataframe thead th {\n",
       "        text-align: right;\n",
       "    }\n",
       "</style>\n",
       "<table border=\"1\" class=\"dataframe\">\n",
       "  <thead>\n",
       "    <tr style=\"text-align: right;\">\n",
       "      <th></th>\n",
       "      <th>Iteration</th>\n",
       "      <th>Time</th>\n",
       "      <th>Fitness</th>\n",
       "      <th>FEvals</th>\n",
       "      <th>Population Size</th>\n",
       "      <th>Mutation Rate</th>\n",
       "      <th>max_iters</th>\n",
       "    </tr>\n",
       "  </thead>\n",
       "  <tbody>\n",
       "    <tr>\n",
       "      <th>0</th>\n",
       "      <td>0</td>\n",
       "      <td>0.003813</td>\n",
       "      <td>1.0</td>\n",
       "      <td>500.0</td>\n",
       "      <td>500</td>\n",
       "      <td>0.2</td>\n",
       "      <td>1000</td>\n",
       "    </tr>\n",
       "    <tr>\n",
       "      <th>1</th>\n",
       "      <td>1</td>\n",
       "      <td>0.016769</td>\n",
       "      <td>11.0</td>\n",
       "      <td>1002.0</td>\n",
       "      <td>500</td>\n",
       "      <td>0.2</td>\n",
       "      <td>1000</td>\n",
       "    </tr>\n",
       "    <tr>\n",
       "      <th>2</th>\n",
       "      <td>2</td>\n",
       "      <td>0.026377</td>\n",
       "      <td>12.0</td>\n",
       "      <td>1504.0</td>\n",
       "      <td>500</td>\n",
       "      <td>0.2</td>\n",
       "      <td>1000</td>\n",
       "    </tr>\n",
       "    <tr>\n",
       "      <th>3</th>\n",
       "      <td>3</td>\n",
       "      <td>0.036435</td>\n",
       "      <td>12.0</td>\n",
       "      <td>2005.0</td>\n",
       "      <td>500</td>\n",
       "      <td>0.2</td>\n",
       "      <td>1000</td>\n",
       "    </tr>\n",
       "    <tr>\n",
       "      <th>4</th>\n",
       "      <td>4</td>\n",
       "      <td>0.046143</td>\n",
       "      <td>14.0</td>\n",
       "      <td>2507.0</td>\n",
       "      <td>500</td>\n",
       "      <td>0.2</td>\n",
       "      <td>1000</td>\n",
       "    </tr>\n",
       "  </tbody>\n",
       "</table>\n",
       "</div>"
      ],
      "text/plain": [
       "   Iteration      Time  Fitness  FEvals  Population Size  Mutation Rate  \\\n",
       "0          0  0.003813      1.0   500.0              500            0.2   \n",
       "1          1  0.016769     11.0  1002.0              500            0.2   \n",
       "2          2  0.026377     12.0  1504.0              500            0.2   \n",
       "3          3  0.036435     12.0  2005.0              500            0.2   \n",
       "4          4  0.046143     14.0  2507.0              500            0.2   \n",
       "\n",
       "   max_iters  \n",
       "0       1000  \n",
       "1       1000  \n",
       "2       1000  \n",
       "3       1000  \n",
       "4       1000  "
      ]
     },
     "execution_count": 6,
     "metadata": {},
     "output_type": "execute_result"
    }
   ],
   "source": [
    "print(df_run_curves['Fitness'].max())\n",
    "df_run_curves.head()"
   ]
  },
  {
   "cell_type": "code",
   "execution_count": 7,
   "metadata": {},
   "outputs": [],
   "source": [
    "df_path = f'metrics/{ALGORITHM}.csv'\n",
    "os.makedirs(os.path.dirname(df_path), exist_ok=True)\n",
    "if not os.path.exists(df_path):\n",
    "    all_df = pd.DataFrame(columns=[\n",
    "        # runner columns\n",
    "        'Iteration', 'Time', 'Fitness', 'FEvals', 'Population Size', 'Mutation Rate', 'max_iters',\n",
    "        # problem config\n",
    "        'problem_size', 't_pct', 'max_attempts', \n",
    "        # run config\n",
    "        'run_number', 'group_timestamp', 'total_runtime',\n",
    "    ])\n",
    "    all_df.to_csv(df_path, index=False)\n",
    "all_df = pd.read_csv(df_path)"
   ]
  },
  {
   "cell_type": "code",
   "execution_count": 8,
   "metadata": {},
   "outputs": [
    {
     "name": "stdout",
     "output_type": "stream",
     "text": [
      "Mutation: 0.01\n",
      "Population: 10\n"
     ]
    },
    {
     "name": "stderr",
     "output_type": "stream",
     "text": [
      "100%|██████████| 3/3 [00:00<00:00, 31.32it/s]\n"
     ]
    },
    {
     "name": "stdout",
     "output_type": "stream",
     "text": [
      "Max Fitnesses: [np.float64(5.0), np.float64(5.0), np.float64(5.0)]\n",
      "Population: 100\n"
     ]
    },
    {
     "name": "stderr",
     "output_type": "stream",
     "text": [
      "100%|██████████| 3/3 [00:01<00:00,  1.78it/s]\n"
     ]
    },
    {
     "name": "stdout",
     "output_type": "stream",
     "text": [
      "Max Fitnesses: [np.float64(45.0), np.float64(30.0), np.float64(24.0)]\n",
      "Population: 1000\n"
     ]
    },
    {
     "name": "stderr",
     "output_type": "stream",
     "text": [
      "100%|██████████| 3/3 [00:13<00:00,  4.36s/it]\n"
     ]
    },
    {
     "name": "stdout",
     "output_type": "stream",
     "text": [
      "Max Fitnesses: [np.float64(47.0), np.float64(47.0), np.float64(47.0)]\n",
      "Mutation: 0.1\n",
      "Population: 10\n"
     ]
    },
    {
     "name": "stderr",
     "output_type": "stream",
     "text": [
      "100%|██████████| 3/3 [00:00<00:00,  7.24it/s]\n"
     ]
    },
    {
     "name": "stdout",
     "output_type": "stream",
     "text": [
      "Max Fitnesses: [np.float64(23.0), np.float64(30.0), np.float64(27.0)]\n",
      "Population: 100\n"
     ]
    },
    {
     "name": "stderr",
     "output_type": "stream",
     "text": [
      "100%|██████████| 3/3 [00:01<00:00,  2.69it/s]\n"
     ]
    },
    {
     "name": "stdout",
     "output_type": "stream",
     "text": [
      "Max Fitnesses: [np.float64(30.0), np.float64(30.0), np.float64(30.0)]\n",
      "Population: 1000\n"
     ]
    },
    {
     "name": "stderr",
     "output_type": "stream",
     "text": [
      "100%|██████████| 3/3 [00:11<00:00,  3.70s/it]\n"
     ]
    },
    {
     "name": "stdout",
     "output_type": "stream",
     "text": [
      "Max Fitnesses: [np.float64(47.0), np.float64(47.0), np.float64(47.0)]\n",
      "Mutation: 0.5\n",
      "Population: 10\n"
     ]
    },
    {
     "name": "stderr",
     "output_type": "stream",
     "text": [
      "100%|██████████| 3/3 [00:00<00:00,  9.37it/s]\n"
     ]
    },
    {
     "name": "stdout",
     "output_type": "stream",
     "text": [
      "Max Fitnesses: [np.float64(30.0), np.float64(30.0), np.float64(30.0)]\n",
      "Population: 100\n"
     ]
    },
    {
     "name": "stderr",
     "output_type": "stream",
     "text": [
      "100%|██████████| 3/3 [00:01<00:00,  2.82it/s]\n"
     ]
    },
    {
     "name": "stdout",
     "output_type": "stream",
     "text": [
      "Max Fitnesses: [np.float64(30.0), np.float64(30.0), np.float64(30.0)]\n",
      "Population: 1000\n"
     ]
    },
    {
     "name": "stderr",
     "output_type": "stream",
     "text": [
      "100%|██████████| 3/3 [00:11<00:00,  3.97s/it]"
     ]
    },
    {
     "name": "stdout",
     "output_type": "stream",
     "text": [
      "Max Fitnesses: [np.float64(47.0), np.float64(30.0), np.float64(47.0)]\n"
     ]
    },
    {
     "name": "stderr",
     "output_type": "stream",
     "text": [
      "\n"
     ]
    }
   ],
   "source": [
    "for mutation in MUTATION_RATE_LIST:\n",
    "    print(f'Mutation: {mutation}')\n",
    "    for population in POPULATION_SIZES_LIST:\n",
    "        print(f\"Population: {population}\")\n",
    "\n",
    "        if (\n",
    "            (all_df['problem_size'] == PROBLEM_SIZE) &\n",
    "            (all_df['t_pct'] == T_PCT) &\n",
    "            (all_df['Population Size'] == population) &\n",
    "            (all_df['Mutation Rate'] == mutation) &\n",
    "            (all_df['max_attempts'] == MAX_ATTEMPTS) &\n",
    "            (all_df['max_iters'] == MAX_ITERATIONS)\n",
    "        ).any():\n",
    "            print('Already run')\n",
    "            continue\n",
    "\n",
    "        group_timestamp = int(time.time())\n",
    "        time.sleep(1)\n",
    "        max_fitnesses = []\n",
    "        for run_i in tqdm(range(NUM_RUNS)):\n",
    "            t_start = time.perf_counter()\n",
    "            problem = FourPeaksGenerator().generate(seed=run_i, size=PROBLEM_SIZE, t_pct=T_PCT)\n",
    "            runner = GARunner(\n",
    "                problem=problem,\n",
    "                experiment_name='GA',\n",
    "                output_directory='.',\n",
    "                seed=run_i,\n",
    "                iteration_list=[MAX_ITERATIONS],\n",
    "                max_attempts=MAX_ATTEMPTS,\n",
    "                population_sizes=[population],\n",
    "                mutation_rates=[mutation],\n",
    "            )\n",
    "            _, df_run_curves = runner.run()\n",
    "\n",
    "            df_run_curves['problem_size'] = PROBLEM_SIZE\n",
    "            df_run_curves['t_pct'] = T_PCT\n",
    "            df_run_curves['max_attempts'] = MAX_ATTEMPTS\n",
    "\n",
    "            df_run_curves['Population Size'] = population\n",
    "            df_run_curves['Mutation Rate'] = mutation\n",
    "            df_run_curves['max_iters'] = MAX_ITERATIONS\n",
    "\n",
    "            df_run_curves['run_number'] = run_i\n",
    "            df_run_curves['group_timestamp'] = group_timestamp\n",
    "\n",
    "            # print(f\"Max Fitness: {df_run_curves['Fitness'].max()}\")\n",
    "            # print(f\"Max Iteration: {df_run_curves['Iteration'].max()}\")\n",
    "\n",
    "            max_fitnesses.append(df_run_curves['Fitness'].max())\n",
    "\n",
    "            t_end = time.perf_counter()\n",
    "            df_run_curves['total_runtime'] = t_end - t_start\n",
    "\n",
    "            all_df = pd.concat([all_df, df_run_curves])\n",
    "\n",
    "        print(f\"Max Fitnesses: {max_fitnesses}\")\n",
    "\n",
    "        all_df.reset_index(inplace=True, drop=True)\n",
    "        all_df.to_csv(df_path, index=False)"
   ]
  },
  {
   "cell_type": "code",
   "execution_count": 9,
   "metadata": {},
   "outputs": [
    {
     "data": {
      "text/plain": [
       "Index(['Iteration', 'Time', 'Fitness', 'FEvals', 'Population Size',\n",
       "       'Mutation Rate', 'max_iters', 'problem_size', 't_pct', 'max_attempts',\n",
       "       'run_number', 'group_timestamp'],\n",
       "      dtype='object')"
      ]
     },
     "execution_count": 9,
     "metadata": {},
     "output_type": "execute_result"
    }
   ],
   "source": [
    "all_df.columns"
   ]
  },
  {
   "cell_type": "code",
   "execution_count": 10,
   "metadata": {},
   "outputs": [],
   "source": [
    "agg_df = pd.DataFrame()\n",
    "for group_timestamp in all_df['group_timestamp'].unique():\n",
    "    df = all_df[all_df['group_timestamp'] == group_timestamp]\n",
    "    max_fit = df['Fitness'].max()\n",
    "    total_iters = df['Iteration'].max()\n",
    "    max_fevals = df['FEvals'].max()\n",
    "    runtime = df['Time'].max()\n",
    "    df.drop(columns=['Fitness', 'Iteration', 'FEvals', 'Time'], inplace=True)\n",
    "    assert(len(df) > NUM_RUNS)\n",
    "    df.drop_duplicates(inplace=True)\n",
    "    assert(len(df) == NUM_RUNS)\n",
    "    df['max_fitness'] = max_fit\n",
    "    df['total_iterations'] = total_iters\n",
    "    df['max_fevals'] = max_fevals\n",
    "    df['runtime'] = runtime\n",
    "    agg_df = pd.concat([agg_df, df])\n",
    "agg_df.reset_index(inplace=True, drop=True)"
   ]
  },
  {
   "cell_type": "code",
   "execution_count": 11,
   "metadata": {},
   "outputs": [],
   "source": [
    "df_path = f'metrics/{ALGORITHM}_agg.csv'\n",
    "agg_df.to_csv(df_path, index=False)"
   ]
  },
  {
   "cell_type": "code",
   "execution_count": null,
   "metadata": {},
   "outputs": [],
   "source": []
  }
 ],
 "metadata": {
  "kernelspec": {
   "display_name": "venv",
   "language": "python",
   "name": "python3"
  },
  "language_info": {
   "codemirror_mode": {
    "name": "ipython",
    "version": 3
   },
   "file_extension": ".py",
   "mimetype": "text/x-python",
   "name": "python",
   "nbconvert_exporter": "python",
   "pygments_lexer": "ipython3",
   "version": "3.12.2"
  }
 },
 "nbformat": 4,
 "nbformat_minor": 2
}

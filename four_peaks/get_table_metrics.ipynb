{
 "cells": [
  {
   "cell_type": "code",
   "execution_count": null,
   "metadata": {},
   "outputs": [],
   "source": [
    "import os\n",
    "import pandas as pd\n",
    "import numpy as np"
   ]
  },
  {
   "cell_type": "code",
   "execution_count": null,
   "metadata": {},
   "outputs": [],
   "source": [
    "ga_df = pd.read_csv('metrics/ga.csv')"
   ]
  },
  {
   "cell_type": "code",
   "execution_count": null,
   "metadata": {},
   "outputs": [],
   "source": [
    "len(ga_df)"
   ]
  },
  {
   "cell_type": "code",
   "execution_count": null,
   "metadata": {},
   "outputs": [],
   "source": [
    "ga_df.columns"
   ]
  },
  {
   "cell_type": "code",
   "execution_count": null,
   "metadata": {},
   "outputs": [],
   "source": [
    "ga_df['X'] = ga_df.apply(lambda row: f\"Pop={int(row['Population Size'])}, Mut={row['Mutation Rate']}\", axis=1)"
   ]
  },
  {
   "cell_type": "code",
   "execution_count": null,
   "metadata": {},
   "outputs": [],
   "source": [
    "data = {'Population Size': [], 'Mutation Rate': [], 'Best Fitness Mean': [], 'Best Time Mean': [], \n",
    "        'Best FEvals Mean': [], 'Best Iterations Mean': []}\n",
    "def sort_fn(x):\n",
    "    return int(x.split('=')[1].split(',')[0])\n",
    "for group in sorted(ga_df['X'].unique(), key=sort_fn):\n",
    "    df = ga_df[ga_df['X'] == group]\n",
    "    assert(len(df['group_timestamp'].unique()) == 1)\n",
    "    last_iter = np.inf\n",
    "    for run_i in df['run_number'].unique():\n",
    "        run_df = df[df['run_number'] == run_i]\n",
    "        max_iter = run_df['Iteration'].max()\n",
    "        last_iter = min(max_iter, last_iter)\n",
    "    best_fitness = -np.inf\n",
    "    best_time = None \n",
    "    best_feval = None\n",
    "    best_iters = None\n",
    "    for iter_i in range(1, last_iter+1):\n",
    "        iter_df = df[df['Iteration'] == iter_i]\n",
    "        mean_fit = iter_df['Fitness'].mean()\n",
    "        if mean_fit > best_fitness:\n",
    "            best_fitness = mean_fit\n",
    "            best_time = iter_df['total_runtime'].mean()\n",
    "            best_feval = iter_df['FEvals'].mean()\n",
    "            best_iters = iter_i\n",
    "    data['Population Size'].append(df['Population Size'].iloc[0])\n",
    "    data['Mutation Rate'].append(f\"{df['Mutation Rate'].iloc[0]:.2f}\")\n",
    "    data['Best Fitness Mean'].append(f\"{best_fitness:.2f}\")\n",
    "    data['Best Time Mean'].append(f\"{best_time:.2f}\")\n",
    "    data['Best FEvals Mean'].append(f\"{best_feval:.0f}\")\n",
    "    data['Best Iterations Mean'].append(f\"{best_iters:.0f}\")\n",
    "df = pd.DataFrame(data)\n",
    "df.to_csv('metrics/ga_table.csv', index=False)\n",
    "df.style.hide(axis='index')"
   ]
  },
  {
   "cell_type": "code",
   "execution_count": null,
   "metadata": {},
   "outputs": [],
   "source": [
    "sa_df = pd.read_csv('metrics/sa.csv')"
   ]
  },
  {
   "cell_type": "code",
   "execution_count": null,
   "metadata": {},
   "outputs": [],
   "source": [
    "sa_df.columns"
   ]
  },
  {
   "cell_type": "code",
   "execution_count": null,
   "metadata": {},
   "outputs": [],
   "source": [
    "sa_df['X'] = sa_df.apply(lambda row: f\"Temp={row['Temperature']}, DecayType={row['decay_type']}\", axis=1)"
   ]
  },
  {
   "cell_type": "code",
   "execution_count": null,
   "metadata": {},
   "outputs": [],
   "source": [
    "data = {'Temperature': [], 'Decay Type': [], \n",
    "        'Best Fitness Mean': [], 'Best Time Mean': [], \n",
    "        'Best FEvals Mean': [], 'Best Iterations Mean': []}\n",
    "for group in sorted(sa_df['X'].unique()):\n",
    "    df = sa_df[sa_df['X'] == group]\n",
    "    assert(len(df['group_timestamp'].unique()) == 1)\n",
    "    last_iter = np.inf\n",
    "    for run_i in df['run_number'].unique():\n",
    "        run_df = df[df['run_number'] == run_i]\n",
    "        max_iter = run_df['Iteration'].max()\n",
    "        last_iter = min(max_iter, last_iter)\n",
    "    best_fitness = -np.inf\n",
    "    best_time = None \n",
    "    best_feval = None\n",
    "    best_iters = None\n",
    "    for iter_i in range(1, last_iter+1):\n",
    "        iter_df = df[df['Iteration'] == iter_i]\n",
    "        mean_fit = iter_df['Fitness'].mean()\n",
    "        if mean_fit > best_fitness:\n",
    "            best_fitness = mean_fit\n",
    "            best_time = iter_df['total_runtime'].mean()\n",
    "            best_feval = iter_df['FEvals'].mean()\n",
    "            best_iters = iter_i\n",
    "    data['Temperature'].append(df['Temperature'].iloc[0])\n",
    "    data['Decay Type'].append(f\"{df['decay_type'].iloc[0]}\")\n",
    "    data['Best Fitness Mean'].append(f\"{best_fitness:.2f}\")\n",
    "    data['Best Time Mean'].append(f\"{best_time:.2f}\")\n",
    "    data['Best FEvals Mean'].append(f\"{best_feval:.0f}\")\n",
    "    data['Best Iterations Mean'].append(f\"{best_iters:.0f}\")\n",
    "df = pd.DataFrame(data)\n",
    "df.to_csv('metrics/sa_table.csv', index=False)\n",
    "df.style.hide(axis='index')"
   ]
  },
  {
   "cell_type": "code",
   "execution_count": null,
   "metadata": {},
   "outputs": [],
   "source": [
    "rhc_df = pd.read_csv('metrics/rhc.csv')"
   ]
  },
  {
   "cell_type": "code",
   "execution_count": null,
   "metadata": {},
   "outputs": [],
   "source": [
    "rhc_df['Restarts'] = rhc_df['Restarts'].astype(int)"
   ]
  },
  {
   "cell_type": "code",
   "execution_count": null,
   "metadata": {},
   "outputs": [],
   "source": [
    "rhc_df.columns"
   ]
  },
  {
   "cell_type": "code",
   "execution_count": null,
   "metadata": {},
   "outputs": [],
   "source": [
    "rhc_df['X'] = rhc_df.apply(lambda row: f\"Restarts={row['Restarts']}\", axis=1)"
   ]
  },
  {
   "cell_type": "code",
   "execution_count": null,
   "metadata": {},
   "outputs": [],
   "source": [
    "data = {'Restarts': [],\n",
    "        'Best Fitness Mean': [], 'Best Time Mean': [], \n",
    "        'Best FEvals Mean': [], 'Best Iterations Mean': []}\n",
    "def sort_fn(x):\n",
    "    return int(x.split('=')[1])\n",
    "for group in sorted(rhc_df['X'].unique(), key=sort_fn):\n",
    "    df = rhc_df[rhc_df['X'] == group]\n",
    "    assert(len(df['group_timestamp'].unique()) == 1)\n",
    "    last_iter = np.inf\n",
    "    for run_i in df['run_number'].unique():\n",
    "        run_df = df[df['run_number'] == run_i]\n",
    "        max_iter = run_df['Iteration'].max()\n",
    "        last_iter = min(max_iter, last_iter)\n",
    "    best_fitness = -np.inf\n",
    "    best_time = None \n",
    "    best_feval = None\n",
    "    best_iters = None\n",
    "    for iter_i in range(1, last_iter+1):\n",
    "        iter_df = df[df['Iteration'] == iter_i]\n",
    "        mean_fit = iter_df['Fitness'].mean()\n",
    "        if mean_fit > best_fitness:\n",
    "            best_fitness = mean_fit\n",
    "            best_time = iter_df['total_runtime'].mean()\n",
    "            best_feval = iter_df['FEvals'].mean()\n",
    "            best_iters = iter_i\n",
    "    data['Restarts'].append(df['Restarts'].iloc[0])\n",
    "    data['Best Fitness Mean'].append(f\"{best_fitness:.2f}\")\n",
    "    data['Best Time Mean'].append(f\"{best_time:.2f}\")\n",
    "    data['Best FEvals Mean'].append(f\"{best_feval:.0f}\")\n",
    "    data['Best Iterations Mean'].append(f\"{best_iters:.0f}\")\n",
    "df = pd.DataFrame(data)\n",
    "df.to_csv('metrics/rhc_table.csv', index=False)\n",
    "df.style.hide(axis='index')"
   ]
  },
  {
   "cell_type": "code",
   "execution_count": null,
   "metadata": {},
   "outputs": [],
   "source": []
  }
 ],
 "metadata": {
  "kernelspec": {
   "display_name": "venv",
   "language": "python",
   "name": "python3"
  },
  "language_info": {
   "codemirror_mode": {
    "name": "ipython",
    "version": 3
   },
   "file_extension": ".py",
   "mimetype": "text/x-python",
   "name": "python",
   "nbconvert_exporter": "python",
   "pygments_lexer": "ipython3",
   "version": "3.12.2"
  }
 },
 "nbformat": 4,
 "nbformat_minor": 2
}

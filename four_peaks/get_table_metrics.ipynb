{
 "cells": [
  {
   "cell_type": "code",
   "execution_count": 19,
   "metadata": {},
   "outputs": [],
   "source": [
    "import os\n",
    "import pandas as pd\n",
    "import numpy as np"
   ]
  },
  {
   "cell_type": "code",
   "execution_count": 20,
   "metadata": {},
   "outputs": [],
   "source": [
    "ga_df = pd.read_csv('saving_this_shit_metrics/ga.csv')"
   ]
  },
  {
   "cell_type": "code",
   "execution_count": 21,
   "metadata": {},
   "outputs": [
    {
     "data": {
      "text/plain": [
       "7169"
      ]
     },
     "execution_count": 21,
     "metadata": {},
     "output_type": "execute_result"
    }
   ],
   "source": [
    "len(ga_df)"
   ]
  },
  {
   "cell_type": "code",
   "execution_count": 22,
   "metadata": {},
   "outputs": [
    {
     "data": {
      "text/plain": [
       "Index(['Iteration', 'Time', 'Fitness', 'FEvals', 'Population Size',\n",
       "       'Mutation Rate', 'max_iters', 'problem_size', 't_pct', 'max_attempts',\n",
       "       'run_number', 'group_timestamp'],\n",
       "      dtype='object')"
      ]
     },
     "execution_count": 22,
     "metadata": {},
     "output_type": "execute_result"
    }
   ],
   "source": [
    "ga_df.columns"
   ]
  },
  {
   "cell_type": "code",
   "execution_count": 23,
   "metadata": {},
   "outputs": [],
   "source": [
    "ga_df['X'] = ga_df.apply(lambda row: f\"Pop={int(row['Population Size'])}, Mut={row['Mutation Rate']}\", axis=1)"
   ]
  },
  {
   "cell_type": "code",
   "execution_count": 24,
   "metadata": {},
   "outputs": [
    {
     "data": {
      "text/html": [
       "<style type=\"text/css\">\n",
       "</style>\n",
       "<table id=\"T_f829a\">\n",
       "  <thead>\n",
       "    <tr>\n",
       "      <th id=\"T_f829a_level0_col0\" class=\"col_heading level0 col0\" >Population Size</th>\n",
       "      <th id=\"T_f829a_level0_col1\" class=\"col_heading level0 col1\" >Mutation Rate</th>\n",
       "      <th id=\"T_f829a_level0_col2\" class=\"col_heading level0 col2\" >Best Fitness Mean</th>\n",
       "      <th id=\"T_f829a_level0_col3\" class=\"col_heading level0 col3\" >Best Time Mean</th>\n",
       "      <th id=\"T_f829a_level0_col4\" class=\"col_heading level0 col4\" >Best FEvals Mean</th>\n",
       "      <th id=\"T_f829a_level0_col5\" class=\"col_heading level0 col5\" >Best Iterations Mean</th>\n",
       "    </tr>\n",
       "  </thead>\n",
       "  <tbody>\n",
       "    <tr>\n",
       "      <td id=\"T_f829a_row0_col0\" class=\"data row0 col0\" >10</td>\n",
       "      <td id=\"T_f829a_row0_col1\" class=\"data row0 col1\" >0.01</td>\n",
       "      <td id=\"T_f829a_row0_col2\" class=\"data row0 col2\" >5.00</td>\n",
       "      <td id=\"T_f829a_row0_col3\" class=\"data row0 col3\" >0.00</td>\n",
       "      <td id=\"T_f829a_row0_col4\" class=\"data row0 col4\" >22</td>\n",
       "      <td id=\"T_f829a_row0_col5\" class=\"data row0 col5\" >1</td>\n",
       "    </tr>\n",
       "    <tr>\n",
       "      <td id=\"T_f829a_row1_col0\" class=\"data row1 col0\" >10</td>\n",
       "      <td id=\"T_f829a_row1_col1\" class=\"data row1 col1\" >0.10</td>\n",
       "      <td id=\"T_f829a_row1_col2\" class=\"data row1 col2\" >25.33</td>\n",
       "      <td id=\"T_f829a_row1_col3\" class=\"data row1 col3\" >0.10</td>\n",
       "      <td id=\"T_f829a_row1_col4\" class=\"data row1 col4\" >5157</td>\n",
       "      <td id=\"T_f829a_row1_col5\" class=\"data row1 col5\" >467</td>\n",
       "    </tr>\n",
       "    <tr>\n",
       "      <td id=\"T_f829a_row2_col0\" class=\"data row2 col0\" >10</td>\n",
       "      <td id=\"T_f829a_row2_col1\" class=\"data row2 col1\" >0.50</td>\n",
       "      <td id=\"T_f829a_row2_col2\" class=\"data row2 col2\" >28.67</td>\n",
       "      <td id=\"T_f829a_row2_col3\" class=\"data row2 col3\" >0.06</td>\n",
       "      <td id=\"T_f829a_row2_col4\" class=\"data row2 col4\" >3347</td>\n",
       "      <td id=\"T_f829a_row2_col5\" class=\"data row2 col5\" >302</td>\n",
       "    </tr>\n",
       "    <tr>\n",
       "      <td id=\"T_f829a_row3_col0\" class=\"data row3 col0\" >100</td>\n",
       "      <td id=\"T_f829a_row3_col1\" class=\"data row3 col1\" >0.01</td>\n",
       "      <td id=\"T_f829a_row3_col2\" class=\"data row3 col2\" >31.33</td>\n",
       "      <td id=\"T_f829a_row3_col3\" class=\"data row3 col3\" >0.26</td>\n",
       "      <td id=\"T_f829a_row3_col4\" class=\"data row3 col4\" >15155</td>\n",
       "      <td id=\"T_f829a_row3_col5\" class=\"data row3 col5\" >149</td>\n",
       "    </tr>\n",
       "    <tr>\n",
       "      <td id=\"T_f829a_row4_col0\" class=\"data row4 col0\" >100</td>\n",
       "      <td id=\"T_f829a_row4_col1\" class=\"data row4 col1\" >0.10</td>\n",
       "      <td id=\"T_f829a_row4_col2\" class=\"data row4 col2\" >30.00</td>\n",
       "      <td id=\"T_f829a_row4_col3\" class=\"data row4 col3\" >0.13</td>\n",
       "      <td id=\"T_f829a_row4_col4\" class=\"data row4 col4\" >7787</td>\n",
       "      <td id=\"T_f829a_row4_col5\" class=\"data row4 col5\" >76</td>\n",
       "    </tr>\n",
       "    <tr>\n",
       "      <td id=\"T_f829a_row5_col0\" class=\"data row5 col0\" >100</td>\n",
       "      <td id=\"T_f829a_row5_col1\" class=\"data row5 col1\" >0.50</td>\n",
       "      <td id=\"T_f829a_row5_col2\" class=\"data row5 col2\" >30.00</td>\n",
       "      <td id=\"T_f829a_row5_col3\" class=\"data row5 col3\" >0.09</td>\n",
       "      <td id=\"T_f829a_row5_col4\" class=\"data row5 col4\" >4757</td>\n",
       "      <td id=\"T_f829a_row5_col5\" class=\"data row5 col5\" >46</td>\n",
       "    </tr>\n",
       "    <tr>\n",
       "      <td id=\"T_f829a_row6_col0\" class=\"data row6 col0\" >1000</td>\n",
       "      <td id=\"T_f829a_row6_col1\" class=\"data row6 col1\" >0.01</td>\n",
       "      <td id=\"T_f829a_row6_col2\" class=\"data row6 col2\" >47.00</td>\n",
       "      <td id=\"T_f829a_row6_col3\" class=\"data row6 col3\" >2.13</td>\n",
       "      <td id=\"T_f829a_row6_col4\" class=\"data row6 col4\" >94100</td>\n",
       "      <td id=\"T_f829a_row6_col5\" class=\"data row6 col5\" >93</td>\n",
       "    </tr>\n",
       "    <tr>\n",
       "      <td id=\"T_f829a_row7_col0\" class=\"data row7 col0\" >1000</td>\n",
       "      <td id=\"T_f829a_row7_col1\" class=\"data row7 col1\" >0.10</td>\n",
       "      <td id=\"T_f829a_row7_col2\" class=\"data row7 col2\" >47.00</td>\n",
       "      <td id=\"T_f829a_row7_col3\" class=\"data row7 col3\" >0.36</td>\n",
       "      <td id=\"T_f829a_row7_col4\" class=\"data row7 col4\" >17023</td>\n",
       "      <td id=\"T_f829a_row7_col5\" class=\"data row7 col5\" >16</td>\n",
       "    </tr>\n",
       "    <tr>\n",
       "      <td id=\"T_f829a_row8_col0\" class=\"data row8 col0\" >1000</td>\n",
       "      <td id=\"T_f829a_row8_col1\" class=\"data row8 col1\" >0.50</td>\n",
       "      <td id=\"T_f829a_row8_col2\" class=\"data row8 col2\" >41.33</td>\n",
       "      <td id=\"T_f829a_row8_col3\" class=\"data row8 col3\" >0.51</td>\n",
       "      <td id=\"T_f829a_row8_col4\" class=\"data row8 col4\" >23030</td>\n",
       "      <td id=\"T_f829a_row8_col5\" class=\"data row8 col5\" >22</td>\n",
       "    </tr>\n",
       "  </tbody>\n",
       "</table>\n"
      ],
      "text/plain": [
       "<pandas.io.formats.style.Styler at 0x117da3e00>"
      ]
     },
     "execution_count": 24,
     "metadata": {},
     "output_type": "execute_result"
    }
   ],
   "source": [
    "data = {'Population Size': [], 'Mutation Rate': [], 'Best Fitness Mean': [], 'Best Time Mean': [], \n",
    "        'Best FEvals Mean': [], 'Best Iterations Mean': []}\n",
    "for group in sorted(ga_df['X'].unique()):\n",
    "    df = ga_df[ga_df['X'] == group]\n",
    "    assert(len(df['group_timestamp'].unique()) == 1)\n",
    "    last_iter = np.inf\n",
    "    for run_i in df['run_number'].unique():\n",
    "        run_df = df[df['run_number'] == run_i]\n",
    "        max_iter = run_df['Iteration'].max()\n",
    "        last_iter = min(max_iter, last_iter)\n",
    "    best_fitness = -np.inf\n",
    "    best_time = None \n",
    "    best_feval = None\n",
    "    best_iters = None\n",
    "    for iter_i in range(1, last_iter+1):\n",
    "        iter_df = df[df['Iteration'] == iter_i]\n",
    "        mean_fit = iter_df['Fitness'].mean()\n",
    "        if mean_fit > best_fitness:\n",
    "            best_fitness = mean_fit\n",
    "            best_time = iter_df['Time'].mean()\n",
    "            best_feval = iter_df['FEvals'].mean()\n",
    "            best_iters = iter_i\n",
    "    data['Population Size'].append(df['Population Size'].iloc[0])\n",
    "    data['Mutation Rate'].append(f\"{df['Mutation Rate'].iloc[0]:.2f}\")\n",
    "    data['Best Fitness Mean'].append(f\"{best_fitness:.2f}\")\n",
    "    data['Best Time Mean'].append(f\"{best_time:.2f}\")\n",
    "    data['Best FEvals Mean'].append(f\"{best_feval:.0f}\")\n",
    "    data['Best Iterations Mean'].append(f\"{best_iters:.0f}\")\n",
    "df = pd.DataFrame(data)\n",
    "df.to_csv('saving_this_shit_metrics/ga_table.csv', index=False)\n",
    "df.style.hide(axis='index')"
   ]
  },
  {
   "cell_type": "code",
   "execution_count": 25,
   "metadata": {},
   "outputs": [],
   "source": [
    "sa_df = pd.read_csv('saving_this_shit_metrics/sa.csv')"
   ]
  },
  {
   "cell_type": "code",
   "execution_count": 26,
   "metadata": {},
   "outputs": [
    {
     "data": {
      "text/plain": [
       "Index(['Iteration', 'Time', 'Fitness', 'FEvals', 'Temperature', 'max_iters',\n",
       "       'problem_size', 't_pct', 'decay_type', 'max_attempts', 'run_number',\n",
       "       'group_timestamp'],\n",
       "      dtype='object')"
      ]
     },
     "execution_count": 26,
     "metadata": {},
     "output_type": "execute_result"
    }
   ],
   "source": [
    "sa_df.columns"
   ]
  },
  {
   "cell_type": "code",
   "execution_count": 27,
   "metadata": {},
   "outputs": [],
   "source": [
    "sa_df['X'] = sa_df.apply(lambda row: f\"Temp={row['Temperature']}, DecayType={row['decay_type']}\", axis=1)"
   ]
  },
  {
   "cell_type": "code",
   "execution_count": 28,
   "metadata": {},
   "outputs": [
    {
     "data": {
      "text/html": [
       "<style type=\"text/css\">\n",
       "</style>\n",
       "<table id=\"T_84e4d\">\n",
       "  <thead>\n",
       "    <tr>\n",
       "      <th id=\"T_84e4d_level0_col0\" class=\"col_heading level0 col0\" >Temperature</th>\n",
       "      <th id=\"T_84e4d_level0_col1\" class=\"col_heading level0 col1\" >Decay Type</th>\n",
       "      <th id=\"T_84e4d_level0_col2\" class=\"col_heading level0 col2\" >Best Fitness Mean</th>\n",
       "      <th id=\"T_84e4d_level0_col3\" class=\"col_heading level0 col3\" >Best Time Mean</th>\n",
       "      <th id=\"T_84e4d_level0_col4\" class=\"col_heading level0 col4\" >Best FEvals Mean</th>\n",
       "      <th id=\"T_84e4d_level0_col5\" class=\"col_heading level0 col5\" >Best Iterations Mean</th>\n",
       "    </tr>\n",
       "  </thead>\n",
       "  <tbody>\n",
       "    <tr>\n",
       "      <td id=\"T_84e4d_row0_col0\" class=\"data row0 col0\" >1</td>\n",
       "      <td id=\"T_84e4d_row0_col1\" class=\"data row0 col1\" >arith_decay</td>\n",
       "      <td id=\"T_84e4d_row0_col2\" class=\"data row0 col2\" >30.00</td>\n",
       "      <td id=\"T_84e4d_row0_col3\" class=\"data row0 col3\" >0.15</td>\n",
       "      <td id=\"T_84e4d_row0_col4\" class=\"data row0 col4\" >1629</td>\n",
       "      <td id=\"T_84e4d_row0_col5\" class=\"data row0 col5\" >1298</td>\n",
       "    </tr>\n",
       "    <tr>\n",
       "      <td id=\"T_84e4d_row1_col0\" class=\"data row1 col0\" >1</td>\n",
       "      <td id=\"T_84e4d_row1_col1\" class=\"data row1 col1\" >exp_decay</td>\n",
       "      <td id=\"T_84e4d_row1_col2\" class=\"data row1 col2\" >28.33</td>\n",
       "      <td id=\"T_84e4d_row1_col3\" class=\"data row1 col3\" >0.02</td>\n",
       "      <td id=\"T_84e4d_row1_col4\" class=\"data row1 col4\" >664</td>\n",
       "      <td id=\"T_84e4d_row1_col5\" class=\"data row1 col5\" >461</td>\n",
       "    </tr>\n",
       "    <tr>\n",
       "      <td id=\"T_84e4d_row2_col0\" class=\"data row2 col0\" >1</td>\n",
       "      <td id=\"T_84e4d_row2_col1\" class=\"data row2 col1\" >geom_decay</td>\n",
       "      <td id=\"T_84e4d_row2_col2\" class=\"data row2 col2\" >30.00</td>\n",
       "      <td id=\"T_84e4d_row2_col3\" class=\"data row2 col3\" >0.02</td>\n",
       "      <td id=\"T_84e4d_row2_col4\" class=\"data row2 col4\" >577</td>\n",
       "      <td id=\"T_84e4d_row2_col5\" class=\"data row2 col5\" >403</td>\n",
       "    </tr>\n",
       "    <tr>\n",
       "      <td id=\"T_84e4d_row3_col0\" class=\"data row3 col0\" >10</td>\n",
       "      <td id=\"T_84e4d_row3_col1\" class=\"data row3 col1\" >arith_decay</td>\n",
       "      <td id=\"T_84e4d_row3_col2\" class=\"data row3 col2\" >8.67</td>\n",
       "      <td id=\"T_84e4d_row3_col3\" class=\"data row3 col3\" >4.88</td>\n",
       "      <td id=\"T_84e4d_row3_col4\" class=\"data row3 col4\" >15390</td>\n",
       "      <td id=\"T_84e4d_row3_col5\" class=\"data row3 col5\" >7738</td>\n",
       "    </tr>\n",
       "    <tr>\n",
       "      <td id=\"T_84e4d_row4_col0\" class=\"data row4 col0\" >10</td>\n",
       "      <td id=\"T_84e4d_row4_col1\" class=\"data row4 col1\" >exp_decay</td>\n",
       "      <td id=\"T_84e4d_row4_col2\" class=\"data row4 col2\" >26.33</td>\n",
       "      <td id=\"T_84e4d_row4_col3\" class=\"data row4 col3\" >0.07</td>\n",
       "      <td id=\"T_84e4d_row4_col4\" class=\"data row4 col4\" >1439</td>\n",
       "      <td id=\"T_84e4d_row4_col5\" class=\"data row4 col5\" >863</td>\n",
       "    </tr>\n",
       "    <tr>\n",
       "      <td id=\"T_84e4d_row5_col0\" class=\"data row5 col0\" >10</td>\n",
       "      <td id=\"T_84e4d_row5_col1\" class=\"data row5 col1\" >geom_decay</td>\n",
       "      <td id=\"T_84e4d_row5_col2\" class=\"data row5 col2\" >26.33</td>\n",
       "      <td id=\"T_84e4d_row5_col3\" class=\"data row5 col3\" >0.03</td>\n",
       "      <td id=\"T_84e4d_row5_col4\" class=\"data row5 col4\" >870</td>\n",
       "      <td id=\"T_84e4d_row5_col5\" class=\"data row5 col5\" >548</td>\n",
       "    </tr>\n",
       "    <tr>\n",
       "      <td id=\"T_84e4d_row6_col0\" class=\"data row6 col0\" >100</td>\n",
       "      <td id=\"T_84e4d_row6_col1\" class=\"data row6 col1\" >arith_decay</td>\n",
       "      <td id=\"T_84e4d_row6_col2\" class=\"data row6 col2\" >5.67</td>\n",
       "      <td id=\"T_84e4d_row6_col3\" class=\"data row6 col3\" >1.78</td>\n",
       "      <td id=\"T_84e4d_row6_col4\" class=\"data row6 col4\" >9338</td>\n",
       "      <td id=\"T_84e4d_row6_col5\" class=\"data row6 col5\" >4671</td>\n",
       "    </tr>\n",
       "    <tr>\n",
       "      <td id=\"T_84e4d_row7_col0\" class=\"data row7 col0\" >100</td>\n",
       "      <td id=\"T_84e4d_row7_col1\" class=\"data row7 col1\" >exp_decay</td>\n",
       "      <td id=\"T_84e4d_row7_col2\" class=\"data row7 col2\" >27.00</td>\n",
       "      <td id=\"T_84e4d_row7_col3\" class=\"data row7 col3\" >0.18</td>\n",
       "      <td id=\"T_84e4d_row7_col4\" class=\"data row7 col4\" >2594</td>\n",
       "      <td id=\"T_84e4d_row7_col5\" class=\"data row7 col5\" >1442</td>\n",
       "    </tr>\n",
       "    <tr>\n",
       "      <td id=\"T_84e4d_row8_col0\" class=\"data row8 col0\" >100</td>\n",
       "      <td id=\"T_84e4d_row8_col1\" class=\"data row8 col1\" >geom_decay</td>\n",
       "      <td id=\"T_84e4d_row8_col2\" class=\"data row8 col2\" >27.33</td>\n",
       "      <td id=\"T_84e4d_row8_col3\" class=\"data row8 col3\" >0.06</td>\n",
       "      <td id=\"T_84e4d_row8_col4\" class=\"data row8 col4\" >1307</td>\n",
       "      <td id=\"T_84e4d_row8_col5\" class=\"data row8 col5\" >775</td>\n",
       "    </tr>\n",
       "    <tr>\n",
       "      <td id=\"T_84e4d_row9_col0\" class=\"data row9 col0\" >1000</td>\n",
       "      <td id=\"T_84e4d_row9_col1\" class=\"data row9 col1\" >arith_decay</td>\n",
       "      <td id=\"T_84e4d_row9_col2\" class=\"data row9 col2\" >8.67</td>\n",
       "      <td id=\"T_84e4d_row9_col3\" class=\"data row9 col3\" >3.61</td>\n",
       "      <td id=\"T_84e4d_row9_col4\" class=\"data row9 col4\" >13276</td>\n",
       "      <td id=\"T_84e4d_row9_col5\" class=\"data row9 col5\" >6638</td>\n",
       "    </tr>\n",
       "    <tr>\n",
       "      <td id=\"T_84e4d_row10_col0\" class=\"data row10 col0\" >1000</td>\n",
       "      <td id=\"T_84e4d_row10_col1\" class=\"data row10 col1\" >exp_decay</td>\n",
       "      <td id=\"T_84e4d_row10_col2\" class=\"data row10 col2\" >25.33</td>\n",
       "      <td id=\"T_84e4d_row10_col3\" class=\"data row10 col3\" >0.29</td>\n",
       "      <td id=\"T_84e4d_row10_col4\" class=\"data row10 col4\" >3425</td>\n",
       "      <td id=\"T_84e4d_row10_col5\" class=\"data row10 col5\" >1839</td>\n",
       "    </tr>\n",
       "    <tr>\n",
       "      <td id=\"T_84e4d_row11_col0\" class=\"data row11 col0\" >1000</td>\n",
       "      <td id=\"T_84e4d_row11_col1\" class=\"data row11 col1\" >geom_decay</td>\n",
       "      <td id=\"T_84e4d_row11_col2\" class=\"data row11 col2\" >28.00</td>\n",
       "      <td id=\"T_84e4d_row11_col3\" class=\"data row11 col3\" >0.10</td>\n",
       "      <td id=\"T_84e4d_row11_col4\" class=\"data row11 col4\" >1844</td>\n",
       "      <td id=\"T_84e4d_row11_col5\" class=\"data row11 col5\" >1049</td>\n",
       "    </tr>\n",
       "    <tr>\n",
       "      <td id=\"T_84e4d_row12_col0\" class=\"data row12 col0\" >10000</td>\n",
       "      <td id=\"T_84e4d_row12_col1\" class=\"data row12 col1\" >arith_decay</td>\n",
       "      <td id=\"T_84e4d_row12_col2\" class=\"data row12 col2\" >6.00</td>\n",
       "      <td id=\"T_84e4d_row12_col3\" class=\"data row12 col3\" >0.03</td>\n",
       "      <td id=\"T_84e4d_row12_col4\" class=\"data row12 col4\" >1132</td>\n",
       "      <td id=\"T_84e4d_row12_col5\" class=\"data row12 col5\" >566</td>\n",
       "    </tr>\n",
       "    <tr>\n",
       "      <td id=\"T_84e4d_row13_col0\" class=\"data row13 col0\" >10000</td>\n",
       "      <td id=\"T_84e4d_row13_col1\" class=\"data row13 col1\" >exp_decay</td>\n",
       "      <td id=\"T_84e4d_row13_col2\" class=\"data row13 col2\" >27.00</td>\n",
       "      <td id=\"T_84e4d_row13_col3\" class=\"data row13 col3\" >0.41</td>\n",
       "      <td id=\"T_84e4d_row13_col4\" class=\"data row13 col4\" >4175</td>\n",
       "      <td id=\"T_84e4d_row13_col5\" class=\"data row13 col5\" >2218</td>\n",
       "    </tr>\n",
       "    <tr>\n",
       "      <td id=\"T_84e4d_row14_col0\" class=\"data row14 col0\" >10000</td>\n",
       "      <td id=\"T_84e4d_row14_col1\" class=\"data row14 col1\" >geom_decay</td>\n",
       "      <td id=\"T_84e4d_row14_col2\" class=\"data row14 col2\" >27.33</td>\n",
       "      <td id=\"T_84e4d_row14_col3\" class=\"data row14 col3\" >0.16</td>\n",
       "      <td id=\"T_84e4d_row14_col4\" class=\"data row14 col4\" >2440</td>\n",
       "      <td id=\"T_84e4d_row14_col5\" class=\"data row14 col5\" >1343</td>\n",
       "    </tr>\n",
       "  </tbody>\n",
       "</table>\n"
      ],
      "text/plain": [
       "<pandas.io.formats.style.Styler at 0x134acbce0>"
      ]
     },
     "execution_count": 28,
     "metadata": {},
     "output_type": "execute_result"
    }
   ],
   "source": [
    "data = {'Temperature': [], 'Decay Type': [], \n",
    "        'Best Fitness Mean': [], 'Best Time Mean': [], \n",
    "        'Best FEvals Mean': [], 'Best Iterations Mean': []}\n",
    "for group in sorted(sa_df['X'].unique()):\n",
    "    df = sa_df[sa_df['X'] == group]\n",
    "    assert(len(df['group_timestamp'].unique()) == 1)\n",
    "    last_iter = np.inf\n",
    "    for run_i in df['run_number'].unique():\n",
    "        run_df = df[df['run_number'] == run_i]\n",
    "        max_iter = run_df['Iteration'].max()\n",
    "        last_iter = min(max_iter, last_iter)\n",
    "    best_fitness = -np.inf\n",
    "    best_time = None \n",
    "    best_feval = None\n",
    "    best_iters = None\n",
    "    for iter_i in range(1, last_iter+1):\n",
    "        iter_df = df[df['Iteration'] == iter_i]\n",
    "        mean_fit = iter_df['Fitness'].mean()\n",
    "        if mean_fit > best_fitness:\n",
    "            best_fitness = mean_fit\n",
    "            best_time = iter_df['Time'].mean()\n",
    "            best_feval = iter_df['FEvals'].mean()\n",
    "            best_iters = iter_i\n",
    "    data['Temperature'].append(df['Temperature'].iloc[0])\n",
    "    data['Decay Type'].append(f\"{df['decay_type'].iloc[0]}\")\n",
    "    data['Best Fitness Mean'].append(f\"{best_fitness:.2f}\")\n",
    "    data['Best Time Mean'].append(f\"{best_time:.2f}\")\n",
    "    data['Best FEvals Mean'].append(f\"{best_feval:.0f}\")\n",
    "    data['Best Iterations Mean'].append(f\"{best_iters:.0f}\")\n",
    "df = pd.DataFrame(data)\n",
    "df.to_csv('saving_this_shit_metrics/sa_table.csv', index=False)\n",
    "df.style.hide(axis='index')"
   ]
  },
  {
   "cell_type": "code",
   "execution_count": 49,
   "metadata": {},
   "outputs": [],
   "source": [
    "rhc_df = pd.read_csv('saving_this_shit_metrics/rhc.csv')"
   ]
  },
  {
   "cell_type": "code",
   "execution_count": 50,
   "metadata": {},
   "outputs": [
    {
     "data": {
      "text/plain": [
       "Index(['Iteration', 'Time', 'Fitness', 'FEvals', 'Restarts', 'max_iters',\n",
       "       'current_restart', 'problem_size', 't_pct', 'max_attempts',\n",
       "       'run_number', 'group_timestamp'],\n",
       "      dtype='object')"
      ]
     },
     "execution_count": 50,
     "metadata": {},
     "output_type": "execute_result"
    }
   ],
   "source": [
    "rhc_df.columns"
   ]
  },
  {
   "cell_type": "code",
   "execution_count": 51,
   "metadata": {},
   "outputs": [],
   "source": [
    "rhc_df['X'] = rhc_df.apply(lambda row: f\"Restarts={row['Restarts']}\", axis=1)"
   ]
  },
  {
   "cell_type": "code",
   "execution_count": 52,
   "metadata": {},
   "outputs": [
    {
     "data": {
      "text/plain": [
       "81918"
      ]
     },
     "execution_count": 52,
     "metadata": {},
     "output_type": "execute_result"
    }
   ],
   "source": [
    "gt = rhc_df.iloc[-1]['group_timestamp']\n",
    "df = rhc_df[rhc_df['group_timestamp'] == gt]\n",
    "len(df)"
   ]
  },
  {
   "cell_type": "code",
   "execution_count": 53,
   "metadata": {},
   "outputs": [
    {
     "data": {
      "text/plain": [
       "(array([50]), array([10000]), array([0, 1, 2]))"
      ]
     },
     "execution_count": 53,
     "metadata": {},
     "output_type": "execute_result"
    }
   ],
   "source": [
    "df['Restarts'].unique(), df['max_iters'].unique(), df['run_number'].unique()"
   ]
  },
  {
   "cell_type": "code",
   "execution_count": 54,
   "metadata": {},
   "outputs": [
    {
     "data": {
      "text/plain": [
       "25780"
      ]
     },
     "execution_count": 54,
     "metadata": {},
     "output_type": "execute_result"
    }
   ],
   "source": [
    "df1 = df[df['run_number'] == 1]\n",
    "len(df1)"
   ]
  },
  {
   "cell_type": "code",
   "execution_count": 55,
   "metadata": {},
   "outputs": [
    {
     "name": "stdout",
     "output_type": "stream",
     "text": [
      "25779\n"
     ]
    }
   ],
   "source": [
    "t = 0\n",
    "for cr in df1['current_restart'].unique():\n",
    "    temp = df1[df1['current_restart'] == cr]\n",
    "    # t += temp['Time'].max()\n",
    "    t += temp['Iteration'].max()\n",
    "print(t)"
   ]
  },
  {
   "cell_type": "code",
   "execution_count": 56,
   "metadata": {},
   "outputs": [
    {
     "data": {
      "text/plain": [
       "Iteration                    460\n",
       "Time                    0.020226\n",
       "Fitness                     30.0\n",
       "FEvals                   28702.0\n",
       "Restarts                      50\n",
       "max_iters                  10000\n",
       "current_restart               50\n",
       "problem_size                  30\n",
       "t_pct                        0.4\n",
       "max_attempts                 150\n",
       "run_number                     2\n",
       "group_timestamp       1718949969\n",
       "X                  Restarts=50.0\n",
       "Name: 297502, dtype: object"
      ]
     },
     "execution_count": 56,
     "metadata": {},
     "output_type": "execute_result"
    }
   ],
   "source": [
    "df.iloc[-1]"
   ]
  },
  {
   "cell_type": "code",
   "execution_count": null,
   "metadata": {},
   "outputs": [],
   "source": []
  },
  {
   "cell_type": "code",
   "execution_count": null,
   "metadata": {},
   "outputs": [],
   "source": []
  },
  {
   "cell_type": "code",
   "execution_count": 42,
   "metadata": {},
   "outputs": [
    {
     "name": "stdout",
     "output_type": "stream",
     "text": [
      "rest: 1\n",
      "run_i: 0\n"
     ]
    },
    {
     "name": "stderr",
     "output_type": "stream",
     "text": [
      "  0%|          | 0/1111 [00:00<?, ?it/s]/var/folders/d1/0dgw1b0x40d0mwh5qcfsyx7c0000gq/T/ipykernel_47939/2028701313.py:28: SettingWithCopyWarning: \n",
      "A value is trying to be set on a copy of a slice from a DataFrame.\n",
      "Try using .loc[row_indexer,col_indexer] = value instead\n",
      "\n",
      "See the caveats in the documentation: https://pandas.pydata.org/pandas-docs/stable/user_guide/indexing.html#returning-a-view-versus-a-copy\n",
      "  df.loc[i, 'count_iterations'] = count_iters + row['Iteration']\n",
      "/var/folders/d1/0dgw1b0x40d0mwh5qcfsyx7c0000gq/T/ipykernel_47939/2028701313.py:29: SettingWithCopyWarning: \n",
      "A value is trying to be set on a copy of a slice from a DataFrame.\n",
      "Try using .loc[row_indexer,col_indexer] = value instead\n",
      "\n",
      "See the caveats in the documentation: https://pandas.pydata.org/pandas-docs/stable/user_guide/indexing.html#returning-a-view-versus-a-copy\n",
      "  df.loc[i, 'count_time'] = count_time + row['Time']\n",
      "100%|██████████| 1111/1111 [00:00<00:00, 7712.61it/s]\n"
     ]
    },
    {
     "name": "stdout",
     "output_type": "stream",
     "text": [
      "run_i: 1\n"
     ]
    },
    {
     "name": "stderr",
     "output_type": "stream",
     "text": [
      "100%|██████████| 992/992 [00:00<00:00, 9383.97it/s]\n"
     ]
    },
    {
     "name": "stdout",
     "output_type": "stream",
     "text": [
      "run_i: 2\n"
     ]
    },
    {
     "name": "stderr",
     "output_type": "stream",
     "text": [
      "100%|██████████| 861/861 [00:00<00:00, 9378.92it/s]\n"
     ]
    },
    {
     "name": "stdout",
     "output_type": "stream",
     "text": [
      "rest: 10\n",
      "run_i: 0\n"
     ]
    },
    {
     "name": "stderr",
     "output_type": "stream",
     "text": [
      "  0%|          | 0/5724 [00:00<?, ?it/s]/var/folders/d1/0dgw1b0x40d0mwh5qcfsyx7c0000gq/T/ipykernel_47939/2028701313.py:28: SettingWithCopyWarning: \n",
      "A value is trying to be set on a copy of a slice from a DataFrame.\n",
      "Try using .loc[row_indexer,col_indexer] = value instead\n",
      "\n",
      "See the caveats in the documentation: https://pandas.pydata.org/pandas-docs/stable/user_guide/indexing.html#returning-a-view-versus-a-copy\n",
      "  df.loc[i, 'count_iterations'] = count_iters + row['Iteration']\n",
      "/var/folders/d1/0dgw1b0x40d0mwh5qcfsyx7c0000gq/T/ipykernel_47939/2028701313.py:29: SettingWithCopyWarning: \n",
      "A value is trying to be set on a copy of a slice from a DataFrame.\n",
      "Try using .loc[row_indexer,col_indexer] = value instead\n",
      "\n",
      "See the caveats in the documentation: https://pandas.pydata.org/pandas-docs/stable/user_guide/indexing.html#returning-a-view-versus-a-copy\n",
      "  df.loc[i, 'count_time'] = count_time + row['Time']\n",
      "100%|██████████| 5724/5724 [00:00<00:00, 9591.91it/s]\n"
     ]
    },
    {
     "name": "stdout",
     "output_type": "stream",
     "text": [
      "run_i: 1\n"
     ]
    },
    {
     "name": "stderr",
     "output_type": "stream",
     "text": [
      "100%|██████████| 6014/6014 [00:00<00:00, 9812.30it/s]\n"
     ]
    },
    {
     "name": "stdout",
     "output_type": "stream",
     "text": [
      "run_i: 2\n"
     ]
    },
    {
     "name": "stderr",
     "output_type": "stream",
     "text": [
      "100%|██████████| 5652/5652 [00:00<00:00, 9704.95it/s]\n"
     ]
    },
    {
     "name": "stdout",
     "output_type": "stream",
     "text": [
      "rest: 20\n",
      "run_i: 0\n"
     ]
    },
    {
     "name": "stderr",
     "output_type": "stream",
     "text": [
      "  0%|          | 0/11544 [00:00<?, ?it/s]/var/folders/d1/0dgw1b0x40d0mwh5qcfsyx7c0000gq/T/ipykernel_47939/2028701313.py:28: SettingWithCopyWarning: \n",
      "A value is trying to be set on a copy of a slice from a DataFrame.\n",
      "Try using .loc[row_indexer,col_indexer] = value instead\n",
      "\n",
      "See the caveats in the documentation: https://pandas.pydata.org/pandas-docs/stable/user_guide/indexing.html#returning-a-view-versus-a-copy\n",
      "  df.loc[i, 'count_iterations'] = count_iters + row['Iteration']\n",
      "/var/folders/d1/0dgw1b0x40d0mwh5qcfsyx7c0000gq/T/ipykernel_47939/2028701313.py:29: SettingWithCopyWarning: \n",
      "A value is trying to be set on a copy of a slice from a DataFrame.\n",
      "Try using .loc[row_indexer,col_indexer] = value instead\n",
      "\n",
      "See the caveats in the documentation: https://pandas.pydata.org/pandas-docs/stable/user_guide/indexing.html#returning-a-view-versus-a-copy\n",
      "  df.loc[i, 'count_time'] = count_time + row['Time']\n",
      "100%|██████████| 11544/11544 [00:01<00:00, 9723.94it/s]\n"
     ]
    },
    {
     "name": "stdout",
     "output_type": "stream",
     "text": [
      "run_i: 1\n"
     ]
    },
    {
     "name": "stderr",
     "output_type": "stream",
     "text": [
      "100%|██████████| 10153/10153 [00:01<00:00, 9689.76it/s]\n"
     ]
    },
    {
     "name": "stdout",
     "output_type": "stream",
     "text": [
      "run_i: 2\n"
     ]
    },
    {
     "name": "stderr",
     "output_type": "stream",
     "text": [
      "100%|██████████| 11067/11067 [00:01<00:00, 9539.29it/s]\n"
     ]
    },
    {
     "name": "stdout",
     "output_type": "stream",
     "text": [
      "rest: 50\n",
      "run_i: 0\n"
     ]
    },
    {
     "name": "stderr",
     "output_type": "stream",
     "text": [
      "  0%|          | 0/28171 [00:00<?, ?it/s]/var/folders/d1/0dgw1b0x40d0mwh5qcfsyx7c0000gq/T/ipykernel_47939/2028701313.py:28: SettingWithCopyWarning: \n",
      "A value is trying to be set on a copy of a slice from a DataFrame.\n",
      "Try using .loc[row_indexer,col_indexer] = value instead\n",
      "\n",
      "See the caveats in the documentation: https://pandas.pydata.org/pandas-docs/stable/user_guide/indexing.html#returning-a-view-versus-a-copy\n",
      "  df.loc[i, 'count_iterations'] = count_iters + row['Iteration']\n",
      "/var/folders/d1/0dgw1b0x40d0mwh5qcfsyx7c0000gq/T/ipykernel_47939/2028701313.py:29: SettingWithCopyWarning: \n",
      "A value is trying to be set on a copy of a slice from a DataFrame.\n",
      "Try using .loc[row_indexer,col_indexer] = value instead\n",
      "\n",
      "See the caveats in the documentation: https://pandas.pydata.org/pandas-docs/stable/user_guide/indexing.html#returning-a-view-versus-a-copy\n",
      "  df.loc[i, 'count_time'] = count_time + row['Time']\n",
      "100%|██████████| 28171/28171 [00:03<00:00, 9096.12it/s]\n"
     ]
    },
    {
     "name": "stdout",
     "output_type": "stream",
     "text": [
      "run_i: 1\n"
     ]
    },
    {
     "name": "stderr",
     "output_type": "stream",
     "text": [
      "100%|██████████| 25780/25780 [00:02<00:00, 9245.56it/s]\n"
     ]
    },
    {
     "name": "stdout",
     "output_type": "stream",
     "text": [
      "run_i: 2\n"
     ]
    },
    {
     "name": "stderr",
     "output_type": "stream",
     "text": [
      "100%|██████████| 27967/27967 [00:03<00:00, 9241.63it/s]\n"
     ]
    },
    {
     "name": "stdout",
     "output_type": "stream",
     "text": [
      "rest: 100\n",
      "run_i: 0\n"
     ]
    },
    {
     "name": "stderr",
     "output_type": "stream",
     "text": [
      "  0%|          | 0/53608 [00:00<?, ?it/s]/var/folders/d1/0dgw1b0x40d0mwh5qcfsyx7c0000gq/T/ipykernel_47939/2028701313.py:28: SettingWithCopyWarning: \n",
      "A value is trying to be set on a copy of a slice from a DataFrame.\n",
      "Try using .loc[row_indexer,col_indexer] = value instead\n",
      "\n",
      "See the caveats in the documentation: https://pandas.pydata.org/pandas-docs/stable/user_guide/indexing.html#returning-a-view-versus-a-copy\n",
      "  df.loc[i, 'count_iterations'] = count_iters + row['Iteration']\n",
      "/var/folders/d1/0dgw1b0x40d0mwh5qcfsyx7c0000gq/T/ipykernel_47939/2028701313.py:29: SettingWithCopyWarning: \n",
      "A value is trying to be set on a copy of a slice from a DataFrame.\n",
      "Try using .loc[row_indexer,col_indexer] = value instead\n",
      "\n",
      "See the caveats in the documentation: https://pandas.pydata.org/pandas-docs/stable/user_guide/indexing.html#returning-a-view-versus-a-copy\n",
      "  df.loc[i, 'count_time'] = count_time + row['Time']\n",
      "100%|██████████| 53608/53608 [00:06<00:00, 8715.75it/s]\n"
     ]
    },
    {
     "name": "stdout",
     "output_type": "stream",
     "text": [
      "run_i: 1\n"
     ]
    },
    {
     "name": "stderr",
     "output_type": "stream",
     "text": [
      "100%|██████████| 53098/53098 [00:06<00:00, 8763.51it/s]\n"
     ]
    },
    {
     "name": "stdout",
     "output_type": "stream",
     "text": [
      "run_i: 2\n"
     ]
    },
    {
     "name": "stderr",
     "output_type": "stream",
     "text": [
      "100%|██████████| 55761/55761 [00:06<00:00, 8884.61it/s]\n"
     ]
    },
    {
     "data": {
      "text/html": [
       "<style type=\"text/css\">\n",
       "</style>\n",
       "<table id=\"T_983aa\">\n",
       "  <thead>\n",
       "    <tr>\n",
       "      <th id=\"T_983aa_level0_col0\" class=\"col_heading level0 col0\" >Restarts</th>\n",
       "      <th id=\"T_983aa_level0_col1\" class=\"col_heading level0 col1\" >Best Fitness Mean</th>\n",
       "      <th id=\"T_983aa_level0_col2\" class=\"col_heading level0 col2\" >Best Time Mean</th>\n",
       "      <th id=\"T_983aa_level0_col3\" class=\"col_heading level0 col3\" >Best FEvals Mean</th>\n",
       "      <th id=\"T_983aa_level0_col4\" class=\"col_heading level0 col4\" >Best Iterations Mean</th>\n",
       "    </tr>\n",
       "  </thead>\n",
       "  <tbody>\n",
       "    <tr>\n",
       "      <td id=\"T_983aa_row0_col0\" class=\"data row0 col0\" >1</td>\n",
       "      <td id=\"T_983aa_row0_col1\" class=\"data row0 col1\" >26.67</td>\n",
       "      <td id=\"T_983aa_row0_col2\" class=\"data row0 col2\" >0.01</td>\n",
       "      <td id=\"T_983aa_row0_col3\" class=\"data row0 col3\" >339</td>\n",
       "      <td id=\"T_983aa_row0_col4\" class=\"data row0 col4\" >328</td>\n",
       "    </tr>\n",
       "    <tr>\n",
       "      <td id=\"T_983aa_row1_col0\" class=\"data row1 col0\" >10</td>\n",
       "      <td id=\"T_983aa_row1_col1\" class=\"data row1 col1\" >29.67</td>\n",
       "      <td id=\"T_983aa_row1_col2\" class=\"data row1 col2\" >0.24</td>\n",
       "      <td id=\"T_983aa_row1_col3\" class=\"data row1 col3\" >3978</td>\n",
       "      <td id=\"T_983aa_row1_col4\" class=\"data row1 col4\" >3875</td>\n",
       "    </tr>\n",
       "    <tr>\n",
       "      <td id=\"T_983aa_row2_col0\" class=\"data row2 col0\" >20</td>\n",
       "      <td id=\"T_983aa_row2_col1\" class=\"data row2 col1\" >29.67</td>\n",
       "      <td id=\"T_983aa_row2_col2\" class=\"data row2 col2\" >0.28</td>\n",
       "      <td id=\"T_983aa_row2_col3\" class=\"data row2 col3\" >3978</td>\n",
       "      <td id=\"T_983aa_row2_col4\" class=\"data row2 col4\" >3875</td>\n",
       "    </tr>\n",
       "    <tr>\n",
       "      <td id=\"T_983aa_row3_col0\" class=\"data row3 col0\" >50</td>\n",
       "      <td id=\"T_983aa_row3_col1\" class=\"data row3 col1\" >30.00</td>\n",
       "      <td id=\"T_983aa_row3_col2\" class=\"data row3 col2\" >1.34</td>\n",
       "      <td id=\"T_983aa_row3_col3\" class=\"data row3 col3\" >19398</td>\n",
       "      <td id=\"T_983aa_row3_col4\" class=\"data row3 col4\" >18898</td>\n",
       "    </tr>\n",
       "    <tr>\n",
       "      <td id=\"T_983aa_row4_col0\" class=\"data row4 col0\" >100</td>\n",
       "      <td id=\"T_983aa_row4_col1\" class=\"data row4 col1\" >30.00</td>\n",
       "      <td id=\"T_983aa_row4_col2\" class=\"data row4 col2\" >1.16</td>\n",
       "      <td id=\"T_983aa_row4_col3\" class=\"data row4 col3\" >19398</td>\n",
       "      <td id=\"T_983aa_row4_col4\" class=\"data row4 col4\" >18898</td>\n",
       "    </tr>\n",
       "  </tbody>\n",
       "</table>\n"
      ],
      "text/plain": [
       "<pandas.io.formats.style.Styler at 0x121c23680>"
      ]
     },
     "execution_count": 42,
     "metadata": {},
     "output_type": "execute_result"
    }
   ],
   "source": [
    "from tqdm import tqdm\n",
    "data = {'Restarts': [], \n",
    "        'Best Fitness Mean': [], 'Best Time Mean': [], \n",
    "        'Best FEvals Mean': [], 'Best Iterations Mean': []}\n",
    "# for group in sorted(rhc_df['X'].unique()):\n",
    "    # df = rhc_df[rhc_df['X'] == group]\n",
    "for rest in sorted(rhc_df['Restarts'].unique()):\n",
    "    print(f\"rest: {rest}\")\n",
    "    df = rhc_df[rhc_df['Restarts'] == rest]\n",
    "    assert(len(df['group_timestamp'].unique()) == 1)\n",
    "\n",
    "    for run_i in df['run_number'].unique():\n",
    "        print(f\"run_i: {run_i}\")\n",
    "        run_df = df[df['run_number'] == run_i]\n",
    "        restart_dict = {}\n",
    "        for i, row in tqdm(run_df.iterrows(), total=len(run_df)):\n",
    "            current_restart = row['current_restart']\n",
    "            count_iters = 0\n",
    "            count_time = 0\n",
    "            if current_restart not in restart_dict:\n",
    "                for prev_rest in range(current_restart):\n",
    "                    temp_df = run_df[run_df['current_restart'] == prev_rest]\n",
    "                    count_iters += temp_df['Iteration'].max()\n",
    "                    count_time += temp_df['Time'].max()\n",
    "                restart_dict[current_restart] = (count_iters, count_time)\n",
    "            else:\n",
    "                count_iters, count_time = restart_dict[current_restart]\n",
    "            df.loc[i, 'count_iterations'] = count_iters + row['Iteration']\n",
    "            df.loc[i, 'count_time'] = count_time + row['Time']\n",
    "\n",
    "    last_iter = np.inf\n",
    "    for run_i in df['run_number'].unique():\n",
    "        run_df = df[df['run_number'] == run_i]\n",
    "        max_iter = run_df['count_iterations'].max()\n",
    "        last_iter = min(max_iter, last_iter)\n",
    "    best_fitness = -np.inf\n",
    "    best_time = None \n",
    "    best_feval = None\n",
    "    best_iters = None\n",
    "    for iter_i in range(1, int(last_iter)+1):\n",
    "        iter_df = df[df['count_iterations'] == iter_i]\n",
    "        mean_fit = iter_df['Fitness'].mean()\n",
    "        if mean_fit > best_fitness:\n",
    "            best_fitness = mean_fit\n",
    "            best_time = iter_df['count_time'].mean()\n",
    "            best_feval = iter_df['FEvals'].mean()\n",
    "            best_iters = iter_i\n",
    "    data['Restarts'].append(df['Restarts'].iloc[0])\n",
    "    data['Best Fitness Mean'].append(f\"{best_fitness:.2f}\")\n",
    "    data['Best Time Mean'].append(f\"{best_time:.2f}\")\n",
    "    data['Best FEvals Mean'].append(f\"{best_feval:.0f}\")\n",
    "    data['Best Iterations Mean'].append(f\"{best_iters:.0f}\")\n",
    "df = pd.DataFrame(data)\n",
    "df.to_csv('saving_this_shit_metrics/rhc_table.csv', index=False)\n",
    "df.style.hide(axis='index')"
   ]
  },
  {
   "cell_type": "code",
   "execution_count": null,
   "metadata": {},
   "outputs": [],
   "source": [
    "np.mean([28702, 26425, 28923])"
   ]
  },
  {
   "cell_type": "code",
   "execution_count": null,
   "metadata": {},
   "outputs": [],
   "source": []
  }
 ],
 "metadata": {
  "kernelspec": {
   "display_name": "venv",
   "language": "python",
   "name": "python3"
  },
  "language_info": {
   "codemirror_mode": {
    "name": "ipython",
    "version": 3
   },
   "file_extension": ".py",
   "mimetype": "text/x-python",
   "name": "python",
   "nbconvert_exporter": "python",
   "pygments_lexer": "ipython3",
   "version": "3.12.2"
  }
 },
 "nbformat": 4,
 "nbformat_minor": 2
}

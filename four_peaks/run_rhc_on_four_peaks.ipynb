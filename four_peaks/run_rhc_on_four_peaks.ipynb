{
 "cells": [
  {
   "cell_type": "code",
   "execution_count": 13,
   "metadata": {},
   "outputs": [],
   "source": [
    "import pandas as pd\n",
    "from tqdm import tqdm\n",
    "import os\n",
    "import time\n",
    "\n",
    "import sys\n",
    "sys.path.append('../mlrose')\n",
    "from mlrose_hiive.generators.four_peaks_generator import FourPeaksGenerator\n",
    "from mlrose_hiive import RHCRunner\n",
    "from mlrose_hiive.fitness.four_peaks import FourPeaks "
   ]
  },
  {
   "cell_type": "code",
   "execution_count": 14,
   "metadata": {},
   "outputs": [],
   "source": [
    "ALGORITHM = 'rhc'\n",
    "T_PCT = 0.4\n",
    "PROBLEM_SIZE = 30\n",
    "MAX_ITERATIONS = 10000\n",
    "MAX_ATTEMPTS = PROBLEM_SIZE * 5\n",
    "NUM_RUNS = 3\n",
    "\n",
    "RESTARTS = [1, 20, 50, 100, 200]"
   ]
  },
  {
   "cell_type": "code",
   "execution_count": 15,
   "metadata": {},
   "outputs": [
    {
     "data": {
      "text/plain": [
       "31"
      ]
     },
     "execution_count": 15,
     "metadata": {},
     "output_type": "execute_result"
    }
   ],
   "source": [
    "problem = FourPeaks(t_pct=0.1)\n",
    "problem.evaluate([1]*9 + [0]*11)"
   ]
  },
  {
   "cell_type": "code",
   "execution_count": 16,
   "metadata": {},
   "outputs": [
    {
     "name": "stdout",
     "output_type": "stream",
     "text": [
      "47\n"
     ]
    }
   ],
   "source": [
    "def get_opt_fitness(problem_size, t_pct):\n",
    "    R = (1 - t_pct)*problem_size\n",
    "    if R == int(R):\n",
    "        R = int(R) - 1\n",
    "    else:\n",
    "        R = int(R)\n",
    "    return problem_size + R\n",
    "OPT_FITNESS = get_opt_fitness(PROBLEM_SIZE, T_PCT)\n",
    "print(OPT_FITNESS)"
   ]
  },
  {
   "cell_type": "code",
   "execution_count": 27,
   "metadata": {},
   "outputs": [
    {
     "data": {
      "text/plain": [
       "(30, 0.4)"
      ]
     },
     "execution_count": 27,
     "metadata": {},
     "output_type": "execute_result"
    }
   ],
   "source": [
    "PROBLEM_SIZE, T_PCT"
   ]
  },
  {
   "cell_type": "code",
   "execution_count": 31,
   "metadata": {},
   "outputs": [],
   "source": [
    "# SEED = 6\n",
    "SEED = int(time.time())\n",
    "problem = FourPeaksGenerator().generate(seed=SEED, size=PROBLEM_SIZE, t_pct=T_PCT)\n",
    "\n",
    "runner = RHCRunner(\n",
    "    problem=problem,\n",
    "    experiment_name='RHC',\n",
    "    output_directory='.',\n",
    "    seed=SEED,\n",
    "    iteration_list=[10000],\n",
    "    max_attempts=150,\n",
    "    restart_list=[50],\n",
    ")\n",
    "x, df_run_curves = runner.run()"
   ]
  },
  {
   "cell_type": "code",
   "execution_count": 30,
   "metadata": {},
   "outputs": [
    {
     "data": {
      "text/plain": [
       "np.float64(1.762976374331629)"
      ]
     },
     "execution_count": 30,
     "metadata": {},
     "output_type": "execute_result"
    }
   ],
   "source": [
    "t = 0\n",
    "for cr in df_run_curves['current_restart'].unique():\n",
    "    t += df_run_curves[(df_run_curves['current_restart'] == cr)]['Time'].max()\n",
    "t"
   ]
  },
  {
   "cell_type": "code",
   "execution_count": 18,
   "metadata": {},
   "outputs": [
    {
     "data": {
      "text/plain": [
       "(150, 10000)"
      ]
     },
     "execution_count": 18,
     "metadata": {},
     "output_type": "execute_result"
    }
   ],
   "source": [
    "MAX_ATTEMPTS, MAX_ITERATIONS"
   ]
  },
  {
   "cell_type": "code",
   "execution_count": 19,
   "metadata": {},
   "outputs": [
    {
     "name": "stdout",
     "output_type": "stream",
     "text": [
      "30.0\n"
     ]
    },
    {
     "data": {
      "text/html": [
       "<div>\n",
       "<style scoped>\n",
       "    .dataframe tbody tr th:only-of-type {\n",
       "        vertical-align: middle;\n",
       "    }\n",
       "\n",
       "    .dataframe tbody tr th {\n",
       "        vertical-align: top;\n",
       "    }\n",
       "\n",
       "    .dataframe thead th {\n",
       "        text-align: right;\n",
       "    }\n",
       "</style>\n",
       "<table border=\"1\" class=\"dataframe\">\n",
       "  <thead>\n",
       "    <tr style=\"text-align: right;\">\n",
       "      <th></th>\n",
       "      <th>Iteration</th>\n",
       "      <th>Time</th>\n",
       "      <th>Fitness</th>\n",
       "      <th>FEvals</th>\n",
       "      <th>Restarts</th>\n",
       "      <th>max_iters</th>\n",
       "      <th>current_restart</th>\n",
       "    </tr>\n",
       "  </thead>\n",
       "  <tbody>\n",
       "    <tr>\n",
       "      <th>0</th>\n",
       "      <td>0</td>\n",
       "      <td>0.000100</td>\n",
       "      <td>2.0</td>\n",
       "      <td>0.0</td>\n",
       "      <td>1</td>\n",
       "      <td>10000</td>\n",
       "      <td>0</td>\n",
       "    </tr>\n",
       "    <tr>\n",
       "      <th>1</th>\n",
       "      <td>1</td>\n",
       "      <td>0.003099</td>\n",
       "      <td>2.0</td>\n",
       "      <td>1.0</td>\n",
       "      <td>1</td>\n",
       "      <td>10000</td>\n",
       "      <td>0</td>\n",
       "    </tr>\n",
       "    <tr>\n",
       "      <th>2</th>\n",
       "      <td>2</td>\n",
       "      <td>0.003109</td>\n",
       "      <td>2.0</td>\n",
       "      <td>2.0</td>\n",
       "      <td>1</td>\n",
       "      <td>10000</td>\n",
       "      <td>0</td>\n",
       "    </tr>\n",
       "    <tr>\n",
       "      <th>3</th>\n",
       "      <td>3</td>\n",
       "      <td>0.003117</td>\n",
       "      <td>2.0</td>\n",
       "      <td>3.0</td>\n",
       "      <td>1</td>\n",
       "      <td>10000</td>\n",
       "      <td>0</td>\n",
       "    </tr>\n",
       "    <tr>\n",
       "      <th>4</th>\n",
       "      <td>4</td>\n",
       "      <td>0.003123</td>\n",
       "      <td>2.0</td>\n",
       "      <td>4.0</td>\n",
       "      <td>1</td>\n",
       "      <td>10000</td>\n",
       "      <td>0</td>\n",
       "    </tr>\n",
       "  </tbody>\n",
       "</table>\n",
       "</div>"
      ],
      "text/plain": [
       "   Iteration      Time  Fitness  FEvals  Restarts  max_iters  current_restart\n",
       "0          0  0.000100      2.0     0.0         1      10000                0\n",
       "1          1  0.003099      2.0     1.0         1      10000                0\n",
       "2          2  0.003109      2.0     2.0         1      10000                0\n",
       "3          3  0.003117      2.0     3.0         1      10000                0\n",
       "4          4  0.003123      2.0     4.0         1      10000                0"
      ]
     },
     "execution_count": 19,
     "metadata": {},
     "output_type": "execute_result"
    }
   ],
   "source": [
    "print(df_run_curves['Fitness'].max())\n",
    "df_run_curves.head()"
   ]
  },
  {
   "cell_type": "code",
   "execution_count": 20,
   "metadata": {},
   "outputs": [],
   "source": [
    "df_path = f'metrics/{ALGORITHM}.csv'\n",
    "os.makedirs(os.path.dirname(df_path), exist_ok=True)\n",
    "if not os.path.exists(df_path):\n",
    "    all_df = pd.DataFrame(columns=[\n",
    "        # runner columns\n",
    "        'Iteration', 'Time', 'Fitness', 'FEvals', 'Restarts', 'max_iters', 'current_restart',\n",
    "        # problem config\n",
    "        'problem_size', 't_pct', 'max_attempts',  \n",
    "        # run config\n",
    "        'run_number', 'group_timestamp', 'total_runtime',\n",
    "    ])\n",
    "    all_df.to_csv(df_path, index=False)\n",
    "all_df = pd.read_csv(df_path)"
   ]
  },
  {
   "cell_type": "code",
   "execution_count": 21,
   "metadata": {},
   "outputs": [
    {
     "name": "stdout",
     "output_type": "stream",
     "text": [
      "restarts: 200\n"
     ]
    },
    {
     "name": "stderr",
     "output_type": "stream",
     "text": [
      " 33%|███▎      | 1/3 [17:56<35:52, 1076.36s/it]"
     ]
    },
    {
     "name": "stdout",
     "output_type": "stream",
     "text": [
      "Max Fitness: 30.0\n",
      "Max Iteration: 1011\n"
     ]
    },
    {
     "name": "stderr",
     "output_type": "stream",
     "text": [
      " 67%|██████▋   | 2/3 [35:47<17:53, 1073.15s/it]"
     ]
    },
    {
     "name": "stdout",
     "output_type": "stream",
     "text": [
      "Max Fitness: 30.0\n",
      "Max Iteration: 927\n"
     ]
    },
    {
     "name": "stderr",
     "output_type": "stream",
     "text": [
      "100%|██████████| 3/3 [8:36:21<00:00, 10327.01s/it]"
     ]
    },
    {
     "name": "stdout",
     "output_type": "stream",
     "text": [
      "Max Fitness: 30.0\n",
      "Max Iteration: 984\n"
     ]
    },
    {
     "name": "stderr",
     "output_type": "stream",
     "text": [
      "\n"
     ]
    }
   ],
   "source": [
    "for restarts in RESTARTS:\n",
    "    print(f\"restarts: {restarts}\")\n",
    "\n",
    "    if (\n",
    "        (all_df['problem_size'] == PROBLEM_SIZE) &\n",
    "        (all_df['t_pct'] == T_PCT) &\n",
    "        (all_df['Restarts'] == restarts) &\n",
    "        (all_df['max_attempts'] == MAX_ATTEMPTS)\n",
    "    ).any():\n",
    "        print('Already run')\n",
    "        continue\n",
    "\n",
    "    group_timestamp = int(time.time())\n",
    "    time.sleep(1)\n",
    "    for run_i in tqdm(range(NUM_RUNS)):\n",
    "        t_start = time.perf_counter()\n",
    "        problem = FourPeaksGenerator().generate(seed=run_i, size=PROBLEM_SIZE, t_pct=T_PCT)\n",
    "        runner = RHCRunner(\n",
    "            problem=problem,\n",
    "            experiment_name='RHC',\n",
    "            output_directory='.',\n",
    "            seed=run_i,\n",
    "            iteration_list=[MAX_ITERATIONS],\n",
    "            max_attempts=MAX_ATTEMPTS,\n",
    "            restart_list=[restarts],\n",
    "        )\n",
    "        _, df_run_curves = runner.run()\n",
    "\n",
    "        df_run_curves['problem_size'] = PROBLEM_SIZE\n",
    "        df_run_curves['t_pct'] = T_PCT\n",
    "        df_run_curves['max_attempts'] = MAX_ATTEMPTS\n",
    "\n",
    "        df_run_curves['Restarts'] = restarts\n",
    "        df_run_curves['max_iters'] = MAX_ITERATIONS\n",
    "\n",
    "        df_run_curves['run_number'] = run_i\n",
    "        df_run_curves['group_timestamp'] = group_timestamp\n",
    "\n",
    "        print(f\"Max Fitness: {df_run_curves['Fitness'].max()}\")\n",
    "        print(f\"Max Iteration: {df_run_curves['Iteration'].max()}\")\n",
    "\n",
    "        t_end = time.perf_counter()\n",
    "        df_run_curves['total_runtime'] = t_end - t_start\n",
    "\n",
    "        all_df = pd.concat([all_df, df_run_curves])\n",
    "    all_df.reset_index(inplace=True, drop=True)\n",
    "    all_df.to_csv(df_path, index=False)"
   ]
  },
  {
   "cell_type": "code",
   "execution_count": 22,
   "metadata": {},
   "outputs": [
    {
     "data": {
      "text/plain": [
       "Index(['Iteration', 'Time', 'Fitness', 'FEvals', 'Restarts', 'max_iters',\n",
       "       'current_restart', 'problem_size', 't_pct', 'max_attempts',\n",
       "       'run_number', 'group_timestamp'],\n",
       "      dtype='object')"
      ]
     },
     "execution_count": 22,
     "metadata": {},
     "output_type": "execute_result"
    }
   ],
   "source": [
    "all_df.columns"
   ]
  },
  {
   "cell_type": "code",
   "execution_count": 23,
   "metadata": {},
   "outputs": [],
   "source": [
    "agg_df = pd.DataFrame()\n",
    "for group_timestamp in all_df['group_timestamp'].unique():\n",
    "    df = all_df[all_df['group_timestamp'] == group_timestamp]\n",
    "    max_fit = df['Fitness'].max()\n",
    "    total_iters = df['Iteration'].max()\n",
    "    max_fevals = df['FEvals'].max()\n",
    "    runtime = df['Time'].max()\n",
    "    # df.drop(columns=['Fitness', 'Iteration', 'FEvals', 'Time'], inplace=True)\n",
    "    df.drop(columns=['Fitness', 'Iteration', 'FEvals', 'Time', 'current_restart'], inplace=True)\n",
    "    assert(len(df) > NUM_RUNS)\n",
    "    df.drop_duplicates(inplace=True)\n",
    "    assert(len(df) == NUM_RUNS)\n",
    "    df['max_fitness'] = max_fit\n",
    "    df['total_iterations'] = total_iters\n",
    "    df['max_fevals'] = max_fevals\n",
    "    df['runtime'] = runtime\n",
    "    agg_df = pd.concat([agg_df, df])\n",
    "agg_df.reset_index(inplace=True, drop=True)"
   ]
  },
  {
   "cell_type": "code",
   "execution_count": 24,
   "metadata": {},
   "outputs": [],
   "source": [
    "df_path = f'metrics/{ALGORITHM}_agg.csv'\n",
    "agg_df.to_csv(df_path, index=False)"
   ]
  },
  {
   "cell_type": "code",
   "execution_count": null,
   "metadata": {},
   "outputs": [],
   "source": []
  }
 ],
 "metadata": {
  "kernelspec": {
   "display_name": "venv",
   "language": "python",
   "name": "python3"
  },
  "language_info": {
   "codemirror_mode": {
    "name": "ipython",
    "version": 3
   },
   "file_extension": ".py",
   "mimetype": "text/x-python",
   "name": "python",
   "nbconvert_exporter": "python",
   "pygments_lexer": "ipython3",
   "version": "3.12.2"
  }
 },
 "nbformat": 4,
 "nbformat_minor": 2
}

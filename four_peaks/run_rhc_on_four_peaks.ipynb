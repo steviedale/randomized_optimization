{
 "cells": [
  {
   "cell_type": "code",
   "execution_count": 4,
   "metadata": {},
   "outputs": [],
   "source": [
    "import pandas as pd\n",
    "from tqdm import tqdm\n",
    "import os\n",
    "import yaml\n",
    "\n",
    "import sys\n",
    "sys.path.append('../mlrose')\n",
    "from mlrose_hiive.generators.four_peaks_generator import FourPeaksGenerator\n",
    "from mlrose_hiive import RHCRunner"
   ]
  },
  {
   "cell_type": "code",
   "execution_count": 5,
   "metadata": {},
   "outputs": [],
   "source": [
    "ALGORITHM = 'rhc'\n",
    "MUTATION_RATE_LIST = [0.25, 0.5, 0.75, 0.9]\n",
    "\n",
    "T_PCT = [0.25]\n",
    "PROBLEM_SIZE_LIST = [5, 10, 20, 50, 100, 200, 500, 1000]\n",
    "ITERATIONS_LIST = [1000]\n",
    "MAX_ATTEMPTS_LIST = [1000]\n",
    "NUM_RUNS = [3]\n",
    "POPULATION_SIZES_LIST = [10, 50, 100, 200, 500, 1000]"
   ]
  },
  {
   "cell_type": "code",
   "execution_count": 6,
   "metadata": {},
   "outputs": [
    {
     "name": "stdout",
     "output_type": "stream",
     "text": [
      "249.0\n"
     ]
    },
    {
     "data": {
      "text/plain": [
       "87"
      ]
     },
     "execution_count": 6,
     "metadata": {},
     "output_type": "execute_result"
    }
   ],
   "source": [
    "from mlrose_hiive.fitness.four_peaks import FourPeaks\n",
    "print(500*0.498)\n",
    "problem = FourPeaks(t_pct=0.1)\n",
    "problem.evaluate([1]*13 + [0]*37)"
   ]
  },
  {
   "cell_type": "code",
   "execution_count": 53,
   "metadata": {},
   "outputs": [],
   "source": [
    "max_attempts = 10000\n",
    "iterations = 10000\n",
    "restarts = 5\n",
    "problem_size = 20\n",
    "t_pct = 0.2"
   ]
  },
  {
   "cell_type": "code",
   "execution_count": 54,
   "metadata": {},
   "outputs": [
    {
     "name": "stdout",
     "output_type": "stream",
     "text": [
      "35\n"
     ]
    }
   ],
   "source": [
    "def get_opt_fitness(problem_size):\n",
    "    R = (1- t_pct)*problem_size\n",
    "    if R == int(R):\n",
    "        R = int(R) - 1\n",
    "    else:\n",
    "        R = int(R)\n",
    "\n",
    "    return problem_size + R\n",
    "OPT_FITNESS = get_opt_fitness(problem_size)\n",
    "print(OPT_FITNESS)"
   ]
  },
  {
   "cell_type": "code",
   "execution_count": 55,
   "metadata": {},
   "outputs": [],
   "source": [
    "# SEED = 6\n",
    "import time\n",
    "SEED = int(time.time())\n",
    "problem = FourPeaksGenerator().generate(seed=SEED, size=problem_size, t_pct=t_pct)\n",
    "runner = RHCRunner(problem=problem,\n",
    "                    experiment_name='dontcare',\n",
    "                    output_directory='.',\n",
    "                    seed=SEED,\n",
    "                    iteration_list=[iterations],\n",
    "                    max_attempts=max_attempts,\n",
    "                    restart_list=[restarts],\n",
    "                    generate_curves=True)\n",
    "x, df_run_curves = runner.run()"
   ]
  },
  {
   "cell_type": "code",
   "execution_count": 56,
   "metadata": {},
   "outputs": [
    {
     "data": {
      "text/plain": [
       "20.0"
      ]
     },
     "execution_count": 56,
     "metadata": {},
     "output_type": "execute_result"
    }
   ],
   "source": [
    "df_run_curves['Fitness'].max()"
   ]
  },
  {
   "cell_type": "code",
   "execution_count": 57,
   "metadata": {},
   "outputs": [
    {
     "data": {
      "text/html": [
       "<div>\n",
       "<style scoped>\n",
       "    .dataframe tbody tr th:only-of-type {\n",
       "        vertical-align: middle;\n",
       "    }\n",
       "\n",
       "    .dataframe tbody tr th {\n",
       "        vertical-align: top;\n",
       "    }\n",
       "\n",
       "    .dataframe thead th {\n",
       "        text-align: right;\n",
       "    }\n",
       "</style>\n",
       "<table border=\"1\" class=\"dataframe\">\n",
       "  <thead>\n",
       "    <tr style=\"text-align: right;\">\n",
       "      <th></th>\n",
       "      <th>Iteration</th>\n",
       "      <th>Time</th>\n",
       "      <th>Fitness</th>\n",
       "      <th>FEvals</th>\n",
       "      <th>Restarts</th>\n",
       "      <th>max_iters</th>\n",
       "      <th>current_restart</th>\n",
       "    </tr>\n",
       "  </thead>\n",
       "  <tbody>\n",
       "    <tr>\n",
       "      <th>59991</th>\n",
       "      <td>9991</td>\n",
       "      <td>16.167588</td>\n",
       "      <td>20.0</td>\n",
       "      <td>60034.0</td>\n",
       "      <td>5</td>\n",
       "      <td>10000</td>\n",
       "      <td>5</td>\n",
       "    </tr>\n",
       "    <tr>\n",
       "      <th>59992</th>\n",
       "      <td>9992</td>\n",
       "      <td>16.170960</td>\n",
       "      <td>20.0</td>\n",
       "      <td>60035.0</td>\n",
       "      <td>5</td>\n",
       "      <td>10000</td>\n",
       "      <td>5</td>\n",
       "    </tr>\n",
       "    <tr>\n",
       "      <th>59993</th>\n",
       "      <td>9993</td>\n",
       "      <td>16.174444</td>\n",
       "      <td>20.0</td>\n",
       "      <td>60036.0</td>\n",
       "      <td>5</td>\n",
       "      <td>10000</td>\n",
       "      <td>5</td>\n",
       "    </tr>\n",
       "    <tr>\n",
       "      <th>59994</th>\n",
       "      <td>9994</td>\n",
       "      <td>16.177655</td>\n",
       "      <td>20.0</td>\n",
       "      <td>60037.0</td>\n",
       "      <td>5</td>\n",
       "      <td>10000</td>\n",
       "      <td>5</td>\n",
       "    </tr>\n",
       "    <tr>\n",
       "      <th>59995</th>\n",
       "      <td>9995</td>\n",
       "      <td>16.180840</td>\n",
       "      <td>20.0</td>\n",
       "      <td>60038.0</td>\n",
       "      <td>5</td>\n",
       "      <td>10000</td>\n",
       "      <td>5</td>\n",
       "    </tr>\n",
       "    <tr>\n",
       "      <th>59996</th>\n",
       "      <td>9996</td>\n",
       "      <td>16.183393</td>\n",
       "      <td>20.0</td>\n",
       "      <td>60039.0</td>\n",
       "      <td>5</td>\n",
       "      <td>10000</td>\n",
       "      <td>5</td>\n",
       "    </tr>\n",
       "    <tr>\n",
       "      <th>59997</th>\n",
       "      <td>9997</td>\n",
       "      <td>16.185879</td>\n",
       "      <td>20.0</td>\n",
       "      <td>60040.0</td>\n",
       "      <td>5</td>\n",
       "      <td>10000</td>\n",
       "      <td>5</td>\n",
       "    </tr>\n",
       "    <tr>\n",
       "      <th>59998</th>\n",
       "      <td>9998</td>\n",
       "      <td>16.188675</td>\n",
       "      <td>20.0</td>\n",
       "      <td>60041.0</td>\n",
       "      <td>5</td>\n",
       "      <td>10000</td>\n",
       "      <td>5</td>\n",
       "    </tr>\n",
       "    <tr>\n",
       "      <th>59999</th>\n",
       "      <td>9999</td>\n",
       "      <td>16.191248</td>\n",
       "      <td>20.0</td>\n",
       "      <td>60042.0</td>\n",
       "      <td>5</td>\n",
       "      <td>10000</td>\n",
       "      <td>5</td>\n",
       "    </tr>\n",
       "    <tr>\n",
       "      <th>60000</th>\n",
       "      <td>10000</td>\n",
       "      <td>16.194808</td>\n",
       "      <td>20.0</td>\n",
       "      <td>60043.0</td>\n",
       "      <td>5</td>\n",
       "      <td>10000</td>\n",
       "      <td>5</td>\n",
       "    </tr>\n",
       "  </tbody>\n",
       "</table>\n",
       "</div>"
      ],
      "text/plain": [
       "       Iteration       Time  Fitness   FEvals  Restarts  max_iters  \\\n",
       "59991       9991  16.167588     20.0  60034.0         5      10000   \n",
       "59992       9992  16.170960     20.0  60035.0         5      10000   \n",
       "59993       9993  16.174444     20.0  60036.0         5      10000   \n",
       "59994       9994  16.177655     20.0  60037.0         5      10000   \n",
       "59995       9995  16.180840     20.0  60038.0         5      10000   \n",
       "59996       9996  16.183393     20.0  60039.0         5      10000   \n",
       "59997       9997  16.185879     20.0  60040.0         5      10000   \n",
       "59998       9998  16.188675     20.0  60041.0         5      10000   \n",
       "59999       9999  16.191248     20.0  60042.0         5      10000   \n",
       "60000      10000  16.194808     20.0  60043.0         5      10000   \n",
       "\n",
       "       current_restart  \n",
       "59991                5  \n",
       "59992                5  \n",
       "59993                5  \n",
       "59994                5  \n",
       "59995                5  \n",
       "59996                5  \n",
       "59997                5  \n",
       "59998                5  \n",
       "59999                5  \n",
       "60000                5  "
      ]
     },
     "execution_count": 57,
     "metadata": {},
     "output_type": "execute_result"
    }
   ],
   "source": [
    "df_run_curves.tail(10)"
   ]
  },
  {
   "cell_type": "code",
   "execution_count": null,
   "metadata": {},
   "outputs": [],
   "source": [
    "df_path = f'metrics/{ALGORITHM}.csv'\n",
    "if not os.path.exists(df_path):\n",
    "    df = pd.DataFrame(columns=[\n",
    "        'problem_size', 'mutation_rate', 'population_size', 'iterations', 'max_attempts', \n",
    "        'run_number', 'best_fitness', 'time', 'fevals'])\n",
    "    df.to_csv(df_path, index=False)\n",
    "df = pd.read_csv(df_path)"
   ]
  },
  {
   "cell_type": "code",
   "execution_count": null,
   "metadata": {},
   "outputs": [],
   "source": [
    "all_df = pd.DataFrame()\n",
    "group_i = 0\n",
    "run_i = 0\n",
    "for problem_size in PROBLEM_SIZE_LIST:\n",
    "    print(f'Problem Size: {problem_size}')\n",
    "    for iterations in ITERATIONS_LIST:\n",
    "        print(f'Iterations: {iterations}')\n",
    "        for max_attempts in MAX_ATTEMPTS_LIST:\n",
    "            print(f'Max Attempts: {max_attempts}')\n",
    "            for population_size in POPULATION_SIZES_LIST:\n",
    "                print(f'Population Size: {population_size}')\n",
    "                for mutation_rate in MUTATION_RATE_LIST:\n",
    "                    print(f\"Mutation Rate: {mutation_rate}\")\n",
    "                    for i in tqdm(range(NUM_RUNS)):\n",
    "                        problem = FourPeaksGenerator().generate(seed=SEED+i, size=problem_size, t_pct=T_PCT)\n",
    "                        sa = GARunner(\n",
    "                            problem=problem,\n",
    "                            experiment_name='dontcare',\n",
    "                            output_directory='./',\n",
    "                            seed=SEED+i,\n",
    "                            max_attempts=max_attempts,\n",
    "                            iteration_list=[iterations],\n",
    "                            population_sizes=[population_size],\n",
    "                            mutation_rates=[mutation_rate]\n",
    "                        )\n",
    "                        _, df_run_curves = sa.run()\n",
    "                        df_run_curves['group_number'] = group_i\n",
    "                        df_run_curves['run_number'] = run_i\n",
    "                        df_run_curves['problem_size'] = problem_size\n",
    "                        df_run_curves['max_iterations'] = iterations\n",
    "                        df_run_curves['max_attempts'] = max_attempts\n",
    "                        df_run_curves['population_size'] = population_size\n",
    "                        df_run_curves['mutation_rate'] = mutation_rate\n",
    "\n",
    "                        print(f\"Max Fitness: {df_run_curves['Fitness'].max()}\")\n",
    "                        print(f\"Max Iteration: {df_run_curves['Iteration'].max()}\")\n",
    "\n",
    "                        all_df = pd.concat([all_df, df_run_curves], axis=0)\n",
    "                        run_i += 1\n",
    "                    group_i += 1\n",
    "all_df.reset_index(inplace=True, drop=True)"
   ]
  },
  {
   "cell_type": "code",
   "execution_count": null,
   "metadata": {},
   "outputs": [],
   "source": [
    "print(f\"Max: {all_df['Fitness'].max()}\")\n",
    "print(f\"Min: {all_df['Fitness'].min()}\")"
   ]
  },
  {
   "cell_type": "code",
   "execution_count": null,
   "metadata": {},
   "outputs": [],
   "source": [
    "all_df.to_csv(os.path.join(output_dir, 'learning_curve.csv'), index=False)"
   ]
  },
  {
   "cell_type": "code",
   "execution_count": null,
   "metadata": {},
   "outputs": [],
   "source": []
  }
 ],
 "metadata": {
  "kernelspec": {
   "display_name": "venv",
   "language": "python",
   "name": "python3"
  },
  "language_info": {
   "codemirror_mode": {
    "name": "ipython",
    "version": 3
   },
   "file_extension": ".py",
   "mimetype": "text/x-python",
   "name": "python",
   "nbconvert_exporter": "python",
   "pygments_lexer": "ipython3",
   "version": "3.8.10"
  }
 },
 "nbformat": 4,
 "nbformat_minor": 2
}

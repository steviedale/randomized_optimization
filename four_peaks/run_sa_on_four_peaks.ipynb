{
 "cells": [
  {
   "cell_type": "code",
   "execution_count": null,
   "metadata": {},
   "outputs": [],
   "source": [
    "import pandas as pd\n",
    "from tqdm import tqdm\n",
    "import os\n",
    "import yaml\n",
    "\n",
    "import sys\n",
    "sys.path.append('../mlrose')\n",
    "from mlrose_hiive.generators.four_peaks_generator import FourPeaksGenerator\n",
    "from mlrose_hiive import SARunner\n",
    "from mlrose_hiive.fitness.four_peaks import FourPeaks \n",
    "from mlrose_hiive import GeomDecay, ExpDecay, ArithDecay\n",
    "# import mlrose_hiive"
   ]
  },
  {
   "cell_type": "code",
   "execution_count": null,
   "metadata": {},
   "outputs": [],
   "source": [
    "ALGORITHM = 'sa'\n",
    "MUTATION_RATE_LIST = [0.01, 0.1, 0.5]\n",
    "TEMPERATURE_LIST = [1, 10, 100]\n",
    "T_PCT = [0.4]\n",
    "DECAY_LIST = [ExpDecay, GeomDecay, ArithDecay]\n",
    "PROBLEM_SIZE_LIST = [20]\n",
    "ITERATIONS_LIST = [100000]\n",
    "MAX_ATTEMPTS_LIST = [100000000]\n",
    "NUM_RUNS = [3]"
   ]
  },
  {
   "cell_type": "code",
   "execution_count": null,
   "metadata": {},
   "outputs": [],
   "source": [
    "problem = FourPeaks(t_pct=0.1)\n",
    "problem.evaluate([1]*13 + [0]*37)"
   ]
  },
  {
   "cell_type": "code",
   "execution_count": null,
   "metadata": {},
   "outputs": [],
   "source": [
    "max_attempts = 10000000\n",
    "iterations = 10000\n",
    "problem_size = 20\n",
    "t_pct = 0.4"
   ]
  },
  {
   "cell_type": "code",
   "execution_count": 2,
   "metadata": {},
   "outputs": [
    {
     "ename": "NameError",
     "evalue": "name 'problem_size' is not defined",
     "output_type": "error",
     "traceback": [
      "\u001b[0;31m---------------------------------------------------------------------------\u001b[0m",
      "\u001b[0;31mNameError\u001b[0m                                 Traceback (most recent call last)",
      "Cell \u001b[0;32mIn[2], line 10\u001b[0m\n\u001b[1;32m      6\u001b[0m         R \u001b[38;5;241m=\u001b[39m \u001b[38;5;28mint\u001b[39m(R)\n\u001b[1;32m      8\u001b[0m     \u001b[38;5;28;01mreturn\u001b[39;00m problem_size \u001b[38;5;241m+\u001b[39m R\n\u001b[0;32m---> 10\u001b[0m OPT_FITNESS \u001b[38;5;241m=\u001b[39m get_opt_fitness(\u001b[43mproblem_size\u001b[49m)\n\u001b[1;32m     11\u001b[0m \u001b[38;5;28mprint\u001b[39m(OPT_FITNESS)\n",
      "\u001b[0;31mNameError\u001b[0m: name 'problem_size' is not defined"
     ]
    }
   ],
   "source": [
    "def get_opt_fitness(problem_size):\n",
    "    R = (1- t_pct)*problem_size\n",
    "    if R == int(R):\n",
    "        R = int(R) - 1\n",
    "    else:\n",
    "        R = int(R)\n",
    "\n",
    "    return problem_size + R\n",
    "\n",
    "OPT_FITNESS = get_opt_fitness(problem_size)\n",
    "print(OPT_FITNESS)"
   ]
  },
  {
   "cell_type": "code",
   "execution_count": null,
   "metadata": {},
   "outputs": [],
   "source": [
    "# SEED = 6\n",
    "import time\n",
    "SEED = int(time.time())\n",
    "problem = FourPeaksGenerator().generate(seed=SEED, size=problem_size, t_pct=t_pct)\n",
    "\n",
    "runner = SARunner(\n",
    "    problem=problem,\n",
    "    experiment_name='SA',\n",
    "    output_directory='.',\n",
    "    seed=SEED,\n",
    "    iteration_list=[iterations],\n",
    "    max_attempts=max_attempts,\n",
    "    temperature_list=[5000, ],\n",
    "    decay_list=[GeomDecay],\n",
    ")\n",
    "x, df_run_curves = runner.run()"
   ]
  },
  {
   "cell_type": "code",
   "execution_count": null,
   "metadata": {},
   "outputs": [],
   "source": [
    "df_run_curves['Fitness'].max()"
   ]
  },
  {
   "cell_type": "code",
   "execution_count": null,
   "metadata": {},
   "outputs": [],
   "source": [
    "df_run_curves.tail(10)"
   ]
  },
  {
   "cell_type": "code",
   "execution_count": null,
   "metadata": {},
   "outputs": [],
   "source": [
    "df_path = f'metrics/{ALGORITHM}.csv'\n",
    "if not os.path.exists(df_path):\n",
    "    df = pd.DataFrame(columns=[\n",
    "        'problem_size', 'mutation_rate', 'population_size', 'iterations', 'max_attempts', \n",
    "        'run_number', 'best_fitness', 'time', 'fevals'])\n",
    "    df.to_csv(df_path, index=False)\n",
    "df = pd.read_csv(df_path)"
   ]
  },
  {
   "cell_type": "code",
   "execution_count": null,
   "metadata": {},
   "outputs": [],
   "source": [
    "all_df = pd.DataFrame()\n",
    "group_i = 0\n",
    "run_i = 0\n",
    "for problem_size in PROBLEM_SIZE_LIST:\n",
    "    print(f'Problem Size: {problem_size}')\n",
    "    for iterations in ITERATIONS_LIST:\n",
    "        print(f'Iterations: {iterations}')\n",
    "        for max_attempts in MAX_ATTEMPTS_LIST:\n",
    "            print(f'Max Attempts: {max_attempts}')\n",
    "            for population_size in POPULATION_SIZES_LIST:\n",
    "                print(f'Population Size: {population_size}')\n",
    "                for mutation_rate in MUTATION_RATE_LIST:\n",
    "                    print(f\"Mutation Rate: {mutation_rate}\")\n",
    "                    for i in tqdm(range(NUM_RUNS)):\n",
    "                        problem = FourPeaksGenerator().generate(seed=SEED+i, size=problem_size, t_pct=T_PCT)\n",
    "                        sa = GARunner(\n",
    "                            problem=problem,\n",
    "                            experiment_name='dontcare',\n",
    "                            output_directory='./',\n",
    "                            seed=SEED+i,\n",
    "                            max_attempts=max_attempts,\n",
    "                            iteration_list=[iterations],\n",
    "                            population_sizes=[population_size],\n",
    "                            mutation_rates=[mutation_rate]\n",
    "                        )\n",
    "                        _, df_run_curves = sa.run()\n",
    "                        df_run_curves['group_number'] = group_i\n",
    "                        df_run_curves['run_number'] = run_i\n",
    "                        df_run_curves['problem_size'] = problem_size\n",
    "                        df_run_curves['max_iterations'] = iterations\n",
    "                        df_run_curves['max_attempts'] = max_attempts\n",
    "                        df_run_curves['population_size'] = population_size\n",
    "                        df_run_curves['mutation_rate'] = mutation_rate\n",
    "\n",
    "                        print(f\"Max Fitness: {df_run_curves['Fitness'].max()}\")\n",
    "                        print(f\"Max Iteration: {df_run_curves['Iteration'].max()}\")\n",
    "\n",
    "                        all_df = pd.concat([all_df, df_run_curves], axis=0)\n",
    "                        run_i += 1\n",
    "                    group_i += 1\n",
    "all_df.reset_index(inplace=True, drop=True)"
   ]
  },
  {
   "cell_type": "code",
   "execution_count": null,
   "metadata": {},
   "outputs": [],
   "source": [
    "print(f\"Max: {all_df['Fitness'].max()}\")\n",
    "print(f\"Min: {all_df['Fitness'].min()}\")"
   ]
  },
  {
   "cell_type": "code",
   "execution_count": null,
   "metadata": {},
   "outputs": [],
   "source": [
    "all_df.to_csv(os.path.join(output_dir, 'learning_curve.csv'), index=False)"
   ]
  },
  {
   "cell_type": "code",
   "execution_count": null,
   "metadata": {},
   "outputs": [],
   "source": []
  }
 ],
 "metadata": {
  "kernelspec": {
   "display_name": "venv",
   "language": "python",
   "name": "python3"
  },
  "language_info": {
   "codemirror_mode": {
    "name": "ipython",
    "version": 3
   },
   "file_extension": ".py",
   "mimetype": "text/x-python",
   "name": "python",
   "nbconvert_exporter": "python",
   "pygments_lexer": "ipython3",
   "version": "3.8.10"
  }
 },
 "nbformat": 4,
 "nbformat_minor": 2
}

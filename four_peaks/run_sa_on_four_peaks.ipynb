{
 "cells": [
  {
   "cell_type": "code",
   "execution_count": 1,
   "metadata": {},
   "outputs": [],
   "source": [
    "import pandas as pd\n",
    "from tqdm import tqdm\n",
    "import os\n",
    "import yaml\n",
    "\n",
    "import sys\n",
    "sys.path.append('../mlrose')\n",
    "from mlrose_hiive.generators.four_peaks_generator import FourPeaksGenerator\n",
    "from mlrose_hiive import SARunner\n",
    "from mlrose_hiive.fitness.four_peaks import FourPeaks \n",
    "from mlrose_hiive import GeomDecay, ExpDecay, ArithDecay\n",
    "# import mlrose_hiive"
   ]
  },
  {
   "cell_type": "code",
   "execution_count": 2,
   "metadata": {},
   "outputs": [],
   "source": [
    "ALGORITHM = 'sa'\n",
    "MUTATION_RATE_LIST = [0.01, 0.1, 0.5]\n",
    "TEMPERATURE_LIST = [1, 10, 100]\n",
    "T_PCT = [0.4]\n",
    "DECAY_LIST = [ExpDecay, GeomDecay, ArithDecay]\n",
    "PROBLEM_SIZE_LIST = [20]\n",
    "ITERATIONS_LIST = [100000]\n",
    "MAX_ATTEMPTS_LIST = [100000000]\n",
    "NUM_RUNS = [3]"
   ]
  },
  {
   "cell_type": "code",
   "execution_count": 3,
   "metadata": {},
   "outputs": [
    {
     "data": {
      "text/plain": [
       "87"
      ]
     },
     "execution_count": 3,
     "metadata": {},
     "output_type": "execute_result"
    }
   ],
   "source": [
    "problem = FourPeaks(t_pct=0.1)\n",
    "problem.evaluate([1]*13 + [0]*37)"
   ]
  },
  {
   "cell_type": "code",
   "execution_count": 4,
   "metadata": {},
   "outputs": [],
   "source": [
    "max_attempts = 10000000\n",
    "iterations = 10000\n",
    "problem_size = 20\n",
    "t_pct = 0.4"
   ]
  },
  {
   "cell_type": "code",
   "execution_count": 5,
   "metadata": {},
   "outputs": [
    {
     "name": "stdout",
     "output_type": "stream",
     "text": [
      "31\n"
     ]
    }
   ],
   "source": [
    "def get_opt_fitness(problem_size):\n",
    "    R = (1- t_pct)*problem_size\n",
    "    if R == int(R):\n",
    "        R = int(R) - 1\n",
    "    else:\n",
    "        R = int(R)\n",
    "\n",
    "    return problem_size + R\n",
    "\n",
    "OPT_FITNESS = get_opt_fitness(problem_size)\n",
    "print(OPT_FITNESS)"
   ]
  },
  {
   "cell_type": "code",
   "execution_count": 15,
   "metadata": {},
   "outputs": [],
   "source": [
    "# SEED = 6\n",
    "import time\n",
    "SEED = int(time.time())\n",
    "problem = FourPeaksGenerator().generate(seed=SEED, size=problem_size, t_pct=t_pct)\n",
    "\n",
    "runner = SARunner(\n",
    "    problem=problem,\n",
    "    experiment_name='SA',\n",
    "    output_directory='.',\n",
    "    seed=SEED,\n",
    "    iteration_list=[100000],\n",
    "    max_attempts=100000000,\n",
    "    temperature_list=[5000, ],\n",
    "    decay_list=[GeomDecay],\n",
    ")\n",
    "x, df_run_curves = runner.run()"
   ]
  },
  {
   "cell_type": "code",
   "execution_count": null,
   "metadata": {},
   "outputs": [
    {
     "data": {
      "text/plain": [
       "20.0"
      ]
     },
     "execution_count": 13,
     "metadata": {},
     "output_type": "execute_result"
    }
   ],
   "source": [
    "df_run_curves['Fitness'].max()"
   ]
  },
  {
   "cell_type": "code",
   "execution_count": null,
   "metadata": {},
   "outputs": [
    {
     "data": {
      "text/html": [
       "<div>\n",
       "<style scoped>\n",
       "    .dataframe tbody tr th:only-of-type {\n",
       "        vertical-align: middle;\n",
       "    }\n",
       "\n",
       "    .dataframe tbody tr th {\n",
       "        vertical-align: top;\n",
       "    }\n",
       "\n",
       "    .dataframe thead th {\n",
       "        text-align: right;\n",
       "    }\n",
       "</style>\n",
       "<table border=\"1\" class=\"dataframe\">\n",
       "  <thead>\n",
       "    <tr style=\"text-align: right;\">\n",
       "      <th></th>\n",
       "      <th>Iteration</th>\n",
       "      <th>Time</th>\n",
       "      <th>Fitness</th>\n",
       "      <th>FEvals</th>\n",
       "      <th>Temperature</th>\n",
       "      <th>max_iters</th>\n",
       "    </tr>\n",
       "  </thead>\n",
       "  <tbody>\n",
       "    <tr>\n",
       "      <th>9991</th>\n",
       "      <td>9991</td>\n",
       "      <td>15.926725</td>\n",
       "      <td>20.0</td>\n",
       "      <td>10872.0</td>\n",
       "      <td>5000</td>\n",
       "      <td>10000</td>\n",
       "    </tr>\n",
       "    <tr>\n",
       "      <th>9992</th>\n",
       "      <td>9992</td>\n",
       "      <td>15.929449</td>\n",
       "      <td>20.0</td>\n",
       "      <td>10873.0</td>\n",
       "      <td>5000</td>\n",
       "      <td>10000</td>\n",
       "    </tr>\n",
       "    <tr>\n",
       "      <th>9993</th>\n",
       "      <td>9993</td>\n",
       "      <td>15.932353</td>\n",
       "      <td>20.0</td>\n",
       "      <td>10874.0</td>\n",
       "      <td>5000</td>\n",
       "      <td>10000</td>\n",
       "    </tr>\n",
       "    <tr>\n",
       "      <th>9994</th>\n",
       "      <td>9994</td>\n",
       "      <td>15.935045</td>\n",
       "      <td>20.0</td>\n",
       "      <td>10875.0</td>\n",
       "      <td>5000</td>\n",
       "      <td>10000</td>\n",
       "    </tr>\n",
       "    <tr>\n",
       "      <th>9995</th>\n",
       "      <td>9995</td>\n",
       "      <td>15.938663</td>\n",
       "      <td>20.0</td>\n",
       "      <td>10876.0</td>\n",
       "      <td>5000</td>\n",
       "      <td>10000</td>\n",
       "    </tr>\n",
       "    <tr>\n",
       "      <th>9996</th>\n",
       "      <td>9996</td>\n",
       "      <td>15.942403</td>\n",
       "      <td>20.0</td>\n",
       "      <td>10877.0</td>\n",
       "      <td>5000</td>\n",
       "      <td>10000</td>\n",
       "    </tr>\n",
       "    <tr>\n",
       "      <th>9997</th>\n",
       "      <td>9997</td>\n",
       "      <td>15.945664</td>\n",
       "      <td>20.0</td>\n",
       "      <td>10878.0</td>\n",
       "      <td>5000</td>\n",
       "      <td>10000</td>\n",
       "    </tr>\n",
       "    <tr>\n",
       "      <th>9998</th>\n",
       "      <td>9998</td>\n",
       "      <td>15.948553</td>\n",
       "      <td>20.0</td>\n",
       "      <td>10879.0</td>\n",
       "      <td>5000</td>\n",
       "      <td>10000</td>\n",
       "    </tr>\n",
       "    <tr>\n",
       "      <th>9999</th>\n",
       "      <td>9999</td>\n",
       "      <td>15.951014</td>\n",
       "      <td>20.0</td>\n",
       "      <td>10880.0</td>\n",
       "      <td>5000</td>\n",
       "      <td>10000</td>\n",
       "    </tr>\n",
       "    <tr>\n",
       "      <th>10000</th>\n",
       "      <td>10000</td>\n",
       "      <td>15.953767</td>\n",
       "      <td>20.0</td>\n",
       "      <td>10881.0</td>\n",
       "      <td>5000</td>\n",
       "      <td>10000</td>\n",
       "    </tr>\n",
       "  </tbody>\n",
       "</table>\n",
       "</div>"
      ],
      "text/plain": [
       "       Iteration       Time  Fitness   FEvals Temperature  max_iters\n",
       "9991        9991  15.926725     20.0  10872.0        5000      10000\n",
       "9992        9992  15.929449     20.0  10873.0        5000      10000\n",
       "9993        9993  15.932353     20.0  10874.0        5000      10000\n",
       "9994        9994  15.935045     20.0  10875.0        5000      10000\n",
       "9995        9995  15.938663     20.0  10876.0        5000      10000\n",
       "9996        9996  15.942403     20.0  10877.0        5000      10000\n",
       "9997        9997  15.945664     20.0  10878.0        5000      10000\n",
       "9998        9998  15.948553     20.0  10879.0        5000      10000\n",
       "9999        9999  15.951014     20.0  10880.0        5000      10000\n",
       "10000      10000  15.953767     20.0  10881.0        5000      10000"
      ]
     },
     "execution_count": 14,
     "metadata": {},
     "output_type": "execute_result"
    }
   ],
   "source": [
    "df_run_curves.tail(10)"
   ]
  },
  {
   "cell_type": "code",
   "execution_count": null,
   "metadata": {},
   "outputs": [],
   "source": [
    "df_path = f'metrics/{ALGORITHM}.csv'\n",
    "if not os.path.exists(df_path):\n",
    "    df = pd.DataFrame(columns=[\n",
    "        'problem_size', 'mutation_rate', 'population_size', 'iterations', 'max_attempts', \n",
    "        'run_number', 'best_fitness', 'time', 'fevals'])\n",
    "    df.to_csv(df_path, index=False)\n",
    "df = pd.read_csv(df_path)"
   ]
  },
  {
   "cell_type": "code",
   "execution_count": null,
   "metadata": {},
   "outputs": [],
   "source": [
    "all_df = pd.DataFrame()\n",
    "group_i = 0\n",
    "run_i = 0\n",
    "for temperature in TEMPERATURE_LIST:\n",
    "    print(f'Temp: {temperature}')\n",
    "    for mutation_rate in MUTATION_RATE_LIST:\n",
    "        print(f\"Mutation Rate: {mutation_rate}\")\n",
    "        for \n",
    "            for i in tqdm(range(NUM_RUNS)):\n",
    "                problem = FourPeaksGenerator().generate(seed=SEED+i, size=problem_size, t_pct=T_PCT)\n",
    "                runner = SARunner(\n",
    "\n",
    "                )\n",
    "                _, df_run_curves = runner.run()\n",
    "                df_run_curves['group_number'] = group_i\n",
    "                df_run_curves['run_number'] = run_i\n",
    "                df_run_curves['problem_size'] = problem_size\n",
    "                df_run_curves['max_iterations'] = iterations\n",
    "                df_run_curves['max_attempts'] = max_attempts\n",
    "                df_run_curves['population_size'] = population_size\n",
    "                df_run_curves['mutation_rate'] = mutation_rate\n",
    "\n",
    "                print(f\"Max Fitness: {df_run_curves['Fitness'].max()}\")\n",
    "                print(f\"Max Iteration: {df_run_curves['Iteration'].max()}\")\n",
    "\n",
    "                all_df = pd.concat([all_df, df_run_curves], axis=0)\n",
    "                run_i += 1\n",
    "            group_i += 1\n",
    "all_df.reset_index(inplace=True, drop=True)"
   ]
  },
  {
   "cell_type": "code",
   "execution_count": null,
   "metadata": {},
   "outputs": [],
   "source": [
    "print(f\"Max: {all_df['Fitness'].max()}\")\n",
    "print(f\"Min: {all_df['Fitness'].min()}\")"
   ]
  },
  {
   "cell_type": "code",
   "execution_count": null,
   "metadata": {},
   "outputs": [],
   "source": [
    "all_df.to_csv(os.path.join(output_dir, 'learning_curve.csv'), index=False)"
   ]
  },
  {
   "cell_type": "code",
   "execution_count": null,
   "metadata": {},
   "outputs": [],
   "source": []
  }
 ],
 "metadata": {
  "kernelspec": {
   "display_name": "venv",
   "language": "python",
   "name": "python3"
  },
  "language_info": {
   "codemirror_mode": {
    "name": "ipython",
    "version": 3
   },
   "file_extension": ".py",
   "mimetype": "text/x-python",
   "name": "python",
   "nbconvert_exporter": "python",
   "pygments_lexer": "ipython3",
   "version": "3.8.10"
  }
 },
 "nbformat": 4,
 "nbformat_minor": 2
}

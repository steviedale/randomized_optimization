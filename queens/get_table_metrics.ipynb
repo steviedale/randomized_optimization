{
 "cells": [
  {
   "cell_type": "code",
   "execution_count": 1,
   "metadata": {},
   "outputs": [],
   "source": [
    "import os\n",
    "import pandas as pd\n",
    "import numpy as np"
   ]
  },
  {
   "cell_type": "code",
   "execution_count": 2,
   "metadata": {},
   "outputs": [],
   "source": [
    "ga_df = pd.read_csv('metrics/ga.csv')"
   ]
  },
  {
   "cell_type": "code",
   "execution_count": 3,
   "metadata": {},
   "outputs": [
    {
     "data": {
      "text/plain": [
       "28194"
      ]
     },
     "execution_count": 3,
     "metadata": {},
     "output_type": "execute_result"
    }
   ],
   "source": [
    "len(ga_df)"
   ]
  },
  {
   "cell_type": "code",
   "execution_count": 4,
   "metadata": {},
   "outputs": [
    {
     "data": {
      "text/plain": [
       "Index(['Iteration', 'Time', 'Fitness', 'FEvals', 'Population Size',\n",
       "       'Mutation Rate', 'max_iters', 'problem_size', 'max_attempts',\n",
       "       'run_number', 'group_timestamp', 'total_runtime', 'num_edges',\n",
       "       'optimal_fitness'],\n",
       "      dtype='object')"
      ]
     },
     "execution_count": 4,
     "metadata": {},
     "output_type": "execute_result"
    }
   ],
   "source": [
    "ga_df.columns"
   ]
  },
  {
   "cell_type": "code",
   "execution_count": 5,
   "metadata": {},
   "outputs": [],
   "source": [
    "ga_df['X'] = ga_df.apply(lambda row: f\"Pop={int(row['Population Size'])}, Mut={row['Mutation Rate']}\", axis=1)"
   ]
  },
  {
   "cell_type": "code",
   "execution_count": 21,
   "metadata": {},
   "outputs": [
    {
     "data": {
      "text/html": [
       "<style type=\"text/css\">\n",
       "</style>\n",
       "<table id=\"T_4e67a\">\n",
       "  <thead>\n",
       "    <tr>\n",
       "      <th id=\"T_4e67a_level0_col0\" class=\"col_heading level0 col0\" >Population Size</th>\n",
       "      <th id=\"T_4e67a_level0_col1\" class=\"col_heading level0 col1\" >Mutation Rate</th>\n",
       "      <th id=\"T_4e67a_level0_col2\" class=\"col_heading level0 col2\" >Best Fitness Mean</th>\n",
       "      <th id=\"T_4e67a_level0_col3\" class=\"col_heading level0 col3\" >Best Norm Fitness Mean</th>\n",
       "      <th id=\"T_4e67a_level0_col4\" class=\"col_heading level0 col4\" >Best Time Mean</th>\n",
       "      <th id=\"T_4e67a_level0_col5\" class=\"col_heading level0 col5\" >Best FEvals Mean</th>\n",
       "      <th id=\"T_4e67a_level0_col6\" class=\"col_heading level0 col6\" >Best Iterations Mean</th>\n",
       "    </tr>\n",
       "  </thead>\n",
       "  <tbody>\n",
       "    <tr>\n",
       "      <td id=\"T_4e67a_row0_col0\" class=\"data row0 col0\" >10</td>\n",
       "      <td id=\"T_4e67a_row0_col1\" class=\"data row0 col1\" >0.10</td>\n",
       "      <td id=\"T_4e67a_row0_col2\" class=\"data row0 col2\" >255.00</td>\n",
       "      <td id=\"T_4e67a_row0_col3\" class=\"data row0 col3\" >0.867</td>\n",
       "      <td id=\"T_4e67a_row0_col4\" class=\"data row0 col4\" >5.01</td>\n",
       "      <td id=\"T_4e67a_row0_col5\" class=\"data row0 col5\" >5556</td>\n",
       "      <td id=\"T_4e67a_row0_col6\" class=\"data row0 col6\" >501</td>\n",
       "    </tr>\n",
       "    <tr>\n",
       "      <td id=\"T_4e67a_row1_col0\" class=\"data row1 col0\" >10</td>\n",
       "      <td id=\"T_4e67a_row1_col1\" class=\"data row1 col1\" >0.30</td>\n",
       "      <td id=\"T_4e67a_row1_col2\" class=\"data row1 col2\" >266.00</td>\n",
       "      <td id=\"T_4e67a_row1_col3\" class=\"data row1 col3\" >0.905</td>\n",
       "      <td id=\"T_4e67a_row1_col4\" class=\"data row1 col4\" >4.82</td>\n",
       "      <td id=\"T_4e67a_row1_col5\" class=\"data row1 col5\" >4308</td>\n",
       "      <td id=\"T_4e67a_row1_col6\" class=\"data row1 col6\" >387</td>\n",
       "    </tr>\n",
       "    <tr>\n",
       "      <td id=\"T_4e67a_row2_col0\" class=\"data row2 col0\" >10</td>\n",
       "      <td id=\"T_4e67a_row2_col1\" class=\"data row2 col1\" >0.50</td>\n",
       "      <td id=\"T_4e67a_row2_col2\" class=\"data row2 col2\" >269.67</td>\n",
       "      <td id=\"T_4e67a_row2_col3\" class=\"data row2 col3\" >0.917</td>\n",
       "      <td id=\"T_4e67a_row2_col4\" class=\"data row2 col4\" >4.66</td>\n",
       "      <td id=\"T_4e67a_row2_col5\" class=\"data row2 col5\" >5093</td>\n",
       "      <td id=\"T_4e67a_row2_col6\" class=\"data row2 col6\" >458</td>\n",
       "    </tr>\n",
       "    <tr>\n",
       "      <td id=\"T_4e67a_row3_col0\" class=\"data row3 col0\" >10</td>\n",
       "      <td id=\"T_4e67a_row3_col1\" class=\"data row3 col1\" >0.70</td>\n",
       "      <td id=\"T_4e67a_row3_col2\" class=\"data row3 col2\" >267.33</td>\n",
       "      <td id=\"T_4e67a_row3_col3\" class=\"data row3 col3\" >0.909</td>\n",
       "      <td id=\"T_4e67a_row3_col4\" class=\"data row3 col4\" >5.41</td>\n",
       "      <td id=\"T_4e67a_row3_col5\" class=\"data row3 col5\" >4155</td>\n",
       "      <td id=\"T_4e67a_row3_col6\" class=\"data row3 col6\" >373</td>\n",
       "    </tr>\n",
       "    <tr>\n",
       "      <td id=\"T_4e67a_row4_col0\" class=\"data row4 col0\" >20</td>\n",
       "      <td id=\"T_4e67a_row4_col1\" class=\"data row4 col1\" >0.10</td>\n",
       "      <td id=\"T_4e67a_row4_col2\" class=\"data row4 col2\" >265.00</td>\n",
       "      <td id=\"T_4e67a_row4_col3\" class=\"data row4 col3\" >0.901</td>\n",
       "      <td id=\"T_4e67a_row4_col4\" class=\"data row4 col4\" >12.16</td>\n",
       "      <td id=\"T_4e67a_row4_col5\" class=\"data row4 col5\" >10918</td>\n",
       "      <td id=\"T_4e67a_row4_col6\" class=\"data row4 col6\" >517</td>\n",
       "    </tr>\n",
       "    <tr>\n",
       "      <td id=\"T_4e67a_row5_col0\" class=\"data row5 col0\" >20</td>\n",
       "      <td id=\"T_4e67a_row5_col1\" class=\"data row5 col1\" >0.30</td>\n",
       "      <td id=\"T_4e67a_row5_col2\" class=\"data row5 col2\" >275.67</td>\n",
       "      <td id=\"T_4e67a_row5_col3\" class=\"data row5 col3\" >0.938</td>\n",
       "      <td id=\"T_4e67a_row5_col4\" class=\"data row5 col4\" >11.01</td>\n",
       "      <td id=\"T_4e67a_row5_col5\" class=\"data row5 col5\" >11237</td>\n",
       "      <td id=\"T_4e67a_row5_col6\" class=\"data row5 col6\" >532</td>\n",
       "    </tr>\n",
       "    <tr>\n",
       "      <td id=\"T_4e67a_row6_col0\" class=\"data row6 col0\" >20</td>\n",
       "      <td id=\"T_4e67a_row6_col1\" class=\"data row6 col1\" >0.50</td>\n",
       "      <td id=\"T_4e67a_row6_col2\" class=\"data row6 col2\" >275.00</td>\n",
       "      <td id=\"T_4e67a_row6_col3\" class=\"data row6 col3\" >0.935</td>\n",
       "      <td id=\"T_4e67a_row6_col4\" class=\"data row6 col4\" >11.09</td>\n",
       "      <td id=\"T_4e67a_row6_col5\" class=\"data row6 col5\" >9598</td>\n",
       "      <td id=\"T_4e67a_row6_col6\" class=\"data row6 col6\" >454</td>\n",
       "    </tr>\n",
       "    <tr>\n",
       "      <td id=\"T_4e67a_row7_col0\" class=\"data row7 col0\" >20</td>\n",
       "      <td id=\"T_4e67a_row7_col1\" class=\"data row7 col1\" >0.70</td>\n",
       "      <td id=\"T_4e67a_row7_col2\" class=\"data row7 col2\" >281.00</td>\n",
       "      <td id=\"T_4e67a_row7_col3\" class=\"data row7 col3\" >0.956</td>\n",
       "      <td id=\"T_4e67a_row7_col4\" class=\"data row7 col4\" >13.22</td>\n",
       "      <td id=\"T_4e67a_row7_col5\" class=\"data row7 col5\" >12753</td>\n",
       "      <td id=\"T_4e67a_row7_col6\" class=\"data row7 col6\" >604</td>\n",
       "    </tr>\n",
       "    <tr>\n",
       "      <td id=\"T_4e67a_row8_col0\" class=\"data row8 col0\" >50</td>\n",
       "      <td id=\"T_4e67a_row8_col1\" class=\"data row8 col1\" >0.10</td>\n",
       "      <td id=\"T_4e67a_row8_col2\" class=\"data row8 col2\" >271.00</td>\n",
       "      <td id=\"T_4e67a_row8_col3\" class=\"data row8 col3\" >0.922</td>\n",
       "      <td id=\"T_4e67a_row8_col4\" class=\"data row8 col4\" >23.94</td>\n",
       "      <td id=\"T_4e67a_row8_col5\" class=\"data row8 col5\" >15135</td>\n",
       "      <td id=\"T_4e67a_row8_col6\" class=\"data row8 col6\" >295</td>\n",
       "    </tr>\n",
       "    <tr>\n",
       "      <td id=\"T_4e67a_row9_col0\" class=\"data row9 col0\" >50</td>\n",
       "      <td id=\"T_4e67a_row9_col1\" class=\"data row9 col1\" >0.30</td>\n",
       "      <td id=\"T_4e67a_row9_col2\" class=\"data row9 col2\" >283.33</td>\n",
       "      <td id=\"T_4e67a_row9_col3\" class=\"data row9 col3\" >0.964</td>\n",
       "      <td id=\"T_4e67a_row9_col4\" class=\"data row9 col4\" >23.75</td>\n",
       "      <td id=\"T_4e67a_row9_col5\" class=\"data row9 col5\" >27128</td>\n",
       "      <td id=\"T_4e67a_row9_col6\" class=\"data row9 col6\" >530</td>\n",
       "    </tr>\n",
       "    <tr>\n",
       "      <td id=\"T_4e67a_row10_col0\" class=\"data row10 col0\" >50</td>\n",
       "      <td id=\"T_4e67a_row10_col1\" class=\"data row10 col1\" >0.50</td>\n",
       "      <td id=\"T_4e67a_row10_col2\" class=\"data row10 col2\" >283.33</td>\n",
       "      <td id=\"T_4e67a_row10_col3\" class=\"data row10 col3\" >0.964</td>\n",
       "      <td id=\"T_4e67a_row10_col4\" class=\"data row10 col4\" >23.54</td>\n",
       "      <td id=\"T_4e67a_row10_col5\" class=\"data row10 col5\" >26461</td>\n",
       "      <td id=\"T_4e67a_row10_col6\" class=\"data row10 col6\" >517</td>\n",
       "    </tr>\n",
       "    <tr>\n",
       "      <td id=\"T_4e67a_row11_col0\" class=\"data row11 col0\" >50</td>\n",
       "      <td id=\"T_4e67a_row11_col1\" class=\"data row11 col1\" >0.70</td>\n",
       "      <td id=\"T_4e67a_row11_col2\" class=\"data row11 col2\" >281.33</td>\n",
       "      <td id=\"T_4e67a_row11_col3\" class=\"data row11 col3\" >0.957</td>\n",
       "      <td id=\"T_4e67a_row11_col4\" class=\"data row11 col4\" >23.97</td>\n",
       "      <td id=\"T_4e67a_row11_col5\" class=\"data row11 col5\" >21361</td>\n",
       "      <td id=\"T_4e67a_row11_col6\" class=\"data row11 col6\" >417</td>\n",
       "    </tr>\n",
       "    <tr>\n",
       "      <td id=\"T_4e67a_row12_col0\" class=\"data row12 col0\" >100</td>\n",
       "      <td id=\"T_4e67a_row12_col1\" class=\"data row12 col1\" >0.10</td>\n",
       "      <td id=\"T_4e67a_row12_col2\" class=\"data row12 col2\" >279.00</td>\n",
       "      <td id=\"T_4e67a_row12_col3\" class=\"data row12 col3\" >0.949</td>\n",
       "      <td id=\"T_4e67a_row12_col4\" class=\"data row12 col4\" >32.67</td>\n",
       "      <td id=\"T_4e67a_row12_col5\" class=\"data row12 col5\" >32561</td>\n",
       "      <td id=\"T_4e67a_row12_col6\" class=\"data row12 col6\" >321</td>\n",
       "    </tr>\n",
       "    <tr>\n",
       "      <td id=\"T_4e67a_row13_col0\" class=\"data row13 col0\" >100</td>\n",
       "      <td id=\"T_4e67a_row13_col1\" class=\"data row13 col1\" >0.30</td>\n",
       "      <td id=\"T_4e67a_row13_col2\" class=\"data row13 col2\" >284.67</td>\n",
       "      <td id=\"T_4e67a_row13_col3\" class=\"data row13 col3\" >0.968</td>\n",
       "      <td id=\"T_4e67a_row13_col4\" class=\"data row13 col4\" >39.20</td>\n",
       "      <td id=\"T_4e67a_row13_col5\" class=\"data row13 col5\" >38927</td>\n",
       "      <td id=\"T_4e67a_row13_col6\" class=\"data row13 col6\" >384</td>\n",
       "    </tr>\n",
       "    <tr>\n",
       "      <td id=\"T_4e67a_row14_col0\" class=\"data row14 col0\" >100</td>\n",
       "      <td id=\"T_4e67a_row14_col1\" class=\"data row14 col1\" >0.50</td>\n",
       "      <td id=\"T_4e67a_row14_col2\" class=\"data row14 col2\" >285.00</td>\n",
       "      <td id=\"T_4e67a_row14_col3\" class=\"data row14 col3\" >0.969</td>\n",
       "      <td id=\"T_4e67a_row14_col4\" class=\"data row14 col4\" >36.10</td>\n",
       "      <td id=\"T_4e67a_row14_col5\" class=\"data row14 col5\" >33880</td>\n",
       "      <td id=\"T_4e67a_row14_col6\" class=\"data row14 col6\" >334</td>\n",
       "    </tr>\n",
       "    <tr>\n",
       "      <td id=\"T_4e67a_row15_col0\" class=\"data row15 col0\" >100</td>\n",
       "      <td id=\"T_4e67a_row15_col1\" class=\"data row15 col1\" >0.70</td>\n",
       "      <td id=\"T_4e67a_row15_col2\" class=\"data row15 col2\" >287.33</td>\n",
       "      <td id=\"T_4e67a_row15_col3\" class=\"data row15 col3\" >0.977</td>\n",
       "      <td id=\"T_4e67a_row15_col4\" class=\"data row15 col4\" >45.53</td>\n",
       "      <td id=\"T_4e67a_row15_col5\" class=\"data row15 col5\" >44685</td>\n",
       "      <td id=\"T_4e67a_row15_col6\" class=\"data row15 col6\" >441</td>\n",
       "    </tr>\n",
       "  </tbody>\n",
       "</table>\n"
      ],
      "text/plain": [
       "<pandas.io.formats.style.Styler at 0x12055d4c0>"
      ]
     },
     "execution_count": 21,
     "metadata": {},
     "output_type": "execute_result"
    }
   ],
   "source": [
    "data = {'Population Size': [], 'Mutation Rate': [], 'Best Fitness Mean': [], 'Best Norm Fitness Mean': [], 'Best Time Mean': [], \n",
    "        'Best FEvals Mean': [], 'Best Iterations Mean': []}\n",
    "def sort_fn(x):\n",
    "    return int(x.split('=')[1].split(',')[0])\n",
    "for group in sorted(ga_df['X'].unique(), key=sort_fn):\n",
    "    df = ga_df[ga_df['X'] == group]\n",
    "    assert(len(df['group_timestamp'].unique()) == 1)\n",
    "    last_iter = np.inf\n",
    "    for run_i in df['run_number'].unique():\n",
    "        run_df = df[df['run_number'] == run_i]\n",
    "        max_iter = run_df['Iteration'].max()\n",
    "        last_iter = min(max_iter, last_iter)\n",
    "    best_fitness = -np.inf\n",
    "    best_time = None \n",
    "    best_feval = None\n",
    "    best_iters = None\n",
    "    for iter_i in range(1, last_iter+1):\n",
    "        iter_df = df[df['Iteration'] == iter_i]\n",
    "        mean_fit = iter_df['Fitness'].mean()\n",
    "        if mean_fit > best_fitness:\n",
    "            best_fitness = mean_fit\n",
    "            best_time = iter_df['total_runtime'].mean()\n",
    "            best_feval = iter_df['FEvals'].mean()\n",
    "            best_iters = iter_i\n",
    "    data['Population Size'].append(df['Population Size'].iloc[0])\n",
    "    data['Mutation Rate'].append(f\"{df['Mutation Rate'].iloc[0]:.2f}\")\n",
    "    data['Best Fitness Mean'].append(f\"{best_fitness:.2f}\")\n",
    "    data['Best Norm Fitness Mean'].append(f\"{best_fitness/294:.3f}\")\n",
    "    data['Best Time Mean'].append(f\"{best_time:.2f}\")\n",
    "    data['Best FEvals Mean'].append(f\"{best_feval:.0f}\")\n",
    "    data['Best Iterations Mean'].append(f\"{best_iters:.0f}\")\n",
    "df = pd.DataFrame(data)\n",
    "df.to_csv('metrics/ga_table.csv', index=False)\n",
    "df.style.hide(axis='index')"
   ]
  },
  {
   "cell_type": "code",
   "execution_count": 7,
   "metadata": {},
   "outputs": [],
   "source": [
    "sa_df = pd.read_csv('metrics/sa.csv')"
   ]
  },
  {
   "cell_type": "code",
   "execution_count": 8,
   "metadata": {},
   "outputs": [
    {
     "data": {
      "text/plain": [
       "Index(['Iteration', 'Time', 'Fitness', 'FEvals', 'Temperature', 'max_iters',\n",
       "       'decay_type', 'problem_size', 'max_attempts', 'run_number',\n",
       "       'group_timestamp', 'total_runtime', 'num_edges', 'optimal_fitness'],\n",
       "      dtype='object')"
      ]
     },
     "execution_count": 8,
     "metadata": {},
     "output_type": "execute_result"
    }
   ],
   "source": [
    "sa_df.columns"
   ]
  },
  {
   "cell_type": "code",
   "execution_count": 9,
   "metadata": {},
   "outputs": [],
   "source": [
    "sa_df['X'] = sa_df.apply(lambda row: f\"Temp={row['Temperature']}, DecayType={row['decay_type']}\", axis=1)"
   ]
  },
  {
   "cell_type": "code",
   "execution_count": 24,
   "metadata": {},
   "outputs": [
    {
     "data": {
      "text/html": [
       "<style type=\"text/css\">\n",
       "</style>\n",
       "<table id=\"T_c093f\">\n",
       "  <thead>\n",
       "    <tr>\n",
       "      <th id=\"T_c093f_level0_col0\" class=\"col_heading level0 col0\" >Temperature</th>\n",
       "      <th id=\"T_c093f_level0_col1\" class=\"col_heading level0 col1\" >Decay Type</th>\n",
       "      <th id=\"T_c093f_level0_col2\" class=\"col_heading level0 col2\" >Best Norm Fitness Mean</th>\n",
       "      <th id=\"T_c093f_level0_col3\" class=\"col_heading level0 col3\" >Best Fitness Mean</th>\n",
       "      <th id=\"T_c093f_level0_col4\" class=\"col_heading level0 col4\" >Best Time Mean</th>\n",
       "      <th id=\"T_c093f_level0_col5\" class=\"col_heading level0 col5\" >Best FEvals Mean</th>\n",
       "      <th id=\"T_c093f_level0_col6\" class=\"col_heading level0 col6\" >Best Iterations Mean</th>\n",
       "    </tr>\n",
       "  </thead>\n",
       "  <tbody>\n",
       "    <tr>\n",
       "      <td id=\"T_c093f_row0_col0\" class=\"data row0 col0\" >0.01</td>\n",
       "      <td id=\"T_c093f_row0_col1\" class=\"data row0 col1\" >ArithDecay</td>\n",
       "      <td id=\"T_c093f_row0_col2\" class=\"data row0 col2\" >0.985</td>\n",
       "      <td id=\"T_c093f_row0_col3\" class=\"data row0 col3\" >289.67</td>\n",
       "      <td id=\"T_c093f_row0_col4\" class=\"data row0 col4\" >15.89</td>\n",
       "      <td id=\"T_c093f_row0_col5\" class=\"data row0 col5\" >9431</td>\n",
       "      <td id=\"T_c093f_row0_col6\" class=\"data row0 col6\" >8938</td>\n",
       "    </tr>\n",
       "    <tr>\n",
       "      <td id=\"T_c093f_row1_col0\" class=\"data row1 col0\" >0.01</td>\n",
       "      <td id=\"T_c093f_row1_col1\" class=\"data row1 col1\" >ExpDecay</td>\n",
       "      <td id=\"T_c093f_row1_col2\" class=\"data row1 col2\" >0.985</td>\n",
       "      <td id=\"T_c093f_row1_col3\" class=\"data row1 col3\" >289.67</td>\n",
       "      <td id=\"T_c093f_row1_col4\" class=\"data row1 col4\" >15.76</td>\n",
       "      <td id=\"T_c093f_row1_col5\" class=\"data row1 col5\" >9431</td>\n",
       "      <td id=\"T_c093f_row1_col6\" class=\"data row1 col6\" >8938</td>\n",
       "    </tr>\n",
       "    <tr>\n",
       "      <td id=\"T_c093f_row2_col0\" class=\"data row2 col0\" >0.01</td>\n",
       "      <td id=\"T_c093f_row2_col1\" class=\"data row2 col1\" >GeomDecay</td>\n",
       "      <td id=\"T_c093f_row2_col2\" class=\"data row2 col2\" >0.985</td>\n",
       "      <td id=\"T_c093f_row2_col3\" class=\"data row2 col3\" >289.67</td>\n",
       "      <td id=\"T_c093f_row2_col4\" class=\"data row2 col4\" >15.77</td>\n",
       "      <td id=\"T_c093f_row2_col5\" class=\"data row2 col5\" >9431</td>\n",
       "      <td id=\"T_c093f_row2_col6\" class=\"data row2 col6\" >8938</td>\n",
       "    </tr>\n",
       "    <tr>\n",
       "      <td id=\"T_c093f_row3_col0\" class=\"data row3 col0\" >0.10</td>\n",
       "      <td id=\"T_c093f_row3_col1\" class=\"data row3 col1\" >ArithDecay</td>\n",
       "      <td id=\"T_c093f_row3_col2\" class=\"data row3 col2\" >0.985</td>\n",
       "      <td id=\"T_c093f_row3_col3\" class=\"data row3 col3\" >289.67</td>\n",
       "      <td id=\"T_c093f_row3_col4\" class=\"data row3 col4\" >16.30</td>\n",
       "      <td id=\"T_c093f_row3_col5\" class=\"data row3 col5\" >9431</td>\n",
       "      <td id=\"T_c093f_row3_col6\" class=\"data row3 col6\" >8938</td>\n",
       "    </tr>\n",
       "    <tr>\n",
       "      <td id=\"T_c093f_row4_col0\" class=\"data row4 col0\" >0.10</td>\n",
       "      <td id=\"T_c093f_row4_col1\" class=\"data row4 col1\" >ExpDecay</td>\n",
       "      <td id=\"T_c093f_row4_col2\" class=\"data row4 col2\" >0.985</td>\n",
       "      <td id=\"T_c093f_row4_col3\" class=\"data row4 col3\" >289.67</td>\n",
       "      <td id=\"T_c093f_row4_col4\" class=\"data row4 col4\" >15.95</td>\n",
       "      <td id=\"T_c093f_row4_col5\" class=\"data row4 col5\" >9431</td>\n",
       "      <td id=\"T_c093f_row4_col6\" class=\"data row4 col6\" >8938</td>\n",
       "    </tr>\n",
       "    <tr>\n",
       "      <td id=\"T_c093f_row5_col0\" class=\"data row5 col0\" >0.10</td>\n",
       "      <td id=\"T_c093f_row5_col1\" class=\"data row5 col1\" >GeomDecay</td>\n",
       "      <td id=\"T_c093f_row5_col2\" class=\"data row5 col2\" >0.985</td>\n",
       "      <td id=\"T_c093f_row5_col3\" class=\"data row5 col3\" >289.67</td>\n",
       "      <td id=\"T_c093f_row5_col4\" class=\"data row5 col4\" >16.05</td>\n",
       "      <td id=\"T_c093f_row5_col5\" class=\"data row5 col5\" >9431</td>\n",
       "      <td id=\"T_c093f_row5_col6\" class=\"data row5 col6\" >8938</td>\n",
       "    </tr>\n",
       "    <tr>\n",
       "      <td id=\"T_c093f_row6_col0\" class=\"data row6 col0\" >1.00</td>\n",
       "      <td id=\"T_c093f_row6_col1\" class=\"data row6 col1\" >ArithDecay</td>\n",
       "      <td id=\"T_c093f_row6_col2\" class=\"data row6 col2\" >0.971</td>\n",
       "      <td id=\"T_c093f_row6_col3\" class=\"data row6 col3\" >285.33</td>\n",
       "      <td id=\"T_c093f_row6_col4\" class=\"data row6 col4\" >17.85</td>\n",
       "      <td id=\"T_c093f_row6_col5\" class=\"data row6 col5\" >11574</td>\n",
       "      <td id=\"T_c093f_row6_col6\" class=\"data row6 col6\" >9307</td>\n",
       "    </tr>\n",
       "    <tr>\n",
       "      <td id=\"T_c093f_row7_col0\" class=\"data row7 col0\" >1.00</td>\n",
       "      <td id=\"T_c093f_row7_col1\" class=\"data row7 col1\" >ExpDecay</td>\n",
       "      <td id=\"T_c093f_row7_col2\" class=\"data row7 col2\" >0.984</td>\n",
       "      <td id=\"T_c093f_row7_col3\" class=\"data row7 col3\" >289.33</td>\n",
       "      <td id=\"T_c093f_row7_col4\" class=\"data row7 col4\" >16.62</td>\n",
       "      <td id=\"T_c093f_row7_col5\" class=\"data row7 col5\" >9482</td>\n",
       "      <td id=\"T_c093f_row7_col6\" class=\"data row7 col6\" >8685</td>\n",
       "    </tr>\n",
       "    <tr>\n",
       "      <td id=\"T_c093f_row8_col0\" class=\"data row8 col0\" >1.00</td>\n",
       "      <td id=\"T_c093f_row8_col1\" class=\"data row8 col1\" >GeomDecay</td>\n",
       "      <td id=\"T_c093f_row8_col2\" class=\"data row8 col2\" >0.984</td>\n",
       "      <td id=\"T_c093f_row8_col3\" class=\"data row8 col3\" >289.33</td>\n",
       "      <td id=\"T_c093f_row8_col4\" class=\"data row8 col4\" >16.93</td>\n",
       "      <td id=\"T_c093f_row8_col5\" class=\"data row8 col5\" >9482</td>\n",
       "      <td id=\"T_c093f_row8_col6\" class=\"data row8 col6\" >8685</td>\n",
       "    </tr>\n",
       "    <tr>\n",
       "      <td id=\"T_c093f_row9_col0\" class=\"data row9 col0\" >10.00</td>\n",
       "      <td id=\"T_c093f_row9_col1\" class=\"data row9 col1\" >ArithDecay</td>\n",
       "      <td id=\"T_c093f_row9_col2\" class=\"data row9 col2\" >0.968</td>\n",
       "      <td id=\"T_c093f_row9_col3\" class=\"data row9 col3\" >284.67</td>\n",
       "      <td id=\"T_c093f_row9_col4\" class=\"data row9 col4\" >22.17</td>\n",
       "      <td id=\"T_c093f_row9_col5\" class=\"data row9 col5\" >16478</td>\n",
       "      <td id=\"T_c093f_row9_col6\" class=\"data row9 col6\" >9924</td>\n",
       "    </tr>\n",
       "    <tr>\n",
       "      <td id=\"T_c093f_row10_col0\" class=\"data row10 col0\" >10.00</td>\n",
       "      <td id=\"T_c093f_row10_col1\" class=\"data row10 col1\" >ExpDecay</td>\n",
       "      <td id=\"T_c093f_row10_col2\" class=\"data row10 col2\" >0.985</td>\n",
       "      <td id=\"T_c093f_row10_col3\" class=\"data row10 col3\" >289.67</td>\n",
       "      <td id=\"T_c093f_row10_col4\" class=\"data row10 col4\" >17.60</td>\n",
       "      <td id=\"T_c093f_row10_col5\" class=\"data row10 col5\" >12039</td>\n",
       "      <td id=\"T_c093f_row10_col6\" class=\"data row10 col6\" >9831</td>\n",
       "    </tr>\n",
       "    <tr>\n",
       "      <td id=\"T_c093f_row11_col0\" class=\"data row11 col0\" >10.00</td>\n",
       "      <td id=\"T_c093f_row11_col1\" class=\"data row11 col1\" >GeomDecay</td>\n",
       "      <td id=\"T_c093f_row11_col2\" class=\"data row11 col2\" >0.985</td>\n",
       "      <td id=\"T_c093f_row11_col3\" class=\"data row11 col3\" >289.67</td>\n",
       "      <td id=\"T_c093f_row11_col4\" class=\"data row11 col4\" >17.39</td>\n",
       "      <td id=\"T_c093f_row11_col5\" class=\"data row11 col5\" >12039</td>\n",
       "      <td id=\"T_c093f_row11_col6\" class=\"data row11 col6\" >9831</td>\n",
       "    </tr>\n",
       "    <tr>\n",
       "      <td id=\"T_c093f_row12_col0\" class=\"data row12 col0\" >100.00</td>\n",
       "      <td id=\"T_c093f_row12_col1\" class=\"data row12 col1\" >ArithDecay</td>\n",
       "      <td id=\"T_c093f_row12_col2\" class=\"data row12 col2\" >0.951</td>\n",
       "      <td id=\"T_c093f_row12_col3\" class=\"data row12 col3\" >279.67</td>\n",
       "      <td id=\"T_c093f_row12_col4\" class=\"data row12 col4\" >22.07</td>\n",
       "      <td id=\"T_c093f_row12_col5\" class=\"data row12 col5\" >17828</td>\n",
       "      <td id=\"T_c093f_row12_col6\" class=\"data row12 col6\" >9896</td>\n",
       "    </tr>\n",
       "    <tr>\n",
       "      <td id=\"T_c093f_row13_col0\" class=\"data row13 col0\" >100.00</td>\n",
       "      <td id=\"T_c093f_row13_col1\" class=\"data row13 col1\" >ExpDecay</td>\n",
       "      <td id=\"T_c093f_row13_col2\" class=\"data row13 col2\" >0.972</td>\n",
       "      <td id=\"T_c093f_row13_col3\" class=\"data row13 col3\" >285.67</td>\n",
       "      <td id=\"T_c093f_row13_col4\" class=\"data row13 col4\" >18.71</td>\n",
       "      <td id=\"T_c093f_row13_col5\" class=\"data row13 col5\" >12409</td>\n",
       "      <td id=\"T_c093f_row13_col6\" class=\"data row13 col6\" >9030</td>\n",
       "    </tr>\n",
       "    <tr>\n",
       "      <td id=\"T_c093f_row14_col0\" class=\"data row14 col0\" >100.00</td>\n",
       "      <td id=\"T_c093f_row14_col1\" class=\"data row14 col1\" >GeomDecay</td>\n",
       "      <td id=\"T_c093f_row14_col2\" class=\"data row14 col2\" >0.972</td>\n",
       "      <td id=\"T_c093f_row14_col3\" class=\"data row14 col3\" >285.67</td>\n",
       "      <td id=\"T_c093f_row14_col4\" class=\"data row14 col4\" >18.64</td>\n",
       "      <td id=\"T_c093f_row14_col5\" class=\"data row14 col5\" >12409</td>\n",
       "      <td id=\"T_c093f_row14_col6\" class=\"data row14 col6\" >9030</td>\n",
       "    </tr>\n",
       "  </tbody>\n",
       "</table>\n"
      ],
      "text/plain": [
       "<pandas.io.formats.style.Styler at 0x117be0e30>"
      ]
     },
     "execution_count": 24,
     "metadata": {},
     "output_type": "execute_result"
    }
   ],
   "source": [
    "data = {'Temperature': [], 'Decay Type': [], \n",
    "        'Best Norm Fitness Mean': [], 'Best Fitness Mean': [], 'Best Time Mean': [], \n",
    "        'Best FEvals Mean': [], 'Best Iterations Mean': []}\n",
    "for group in sorted(sa_df['X'].unique()):\n",
    "    df = sa_df[sa_df['X'] == group]\n",
    "    assert(len(df['group_timestamp'].unique()) == 1)\n",
    "    last_iter = np.inf\n",
    "    for run_i in df['run_number'].unique():\n",
    "        run_df = df[df['run_number'] == run_i]\n",
    "        max_iter = run_df['Iteration'].max()\n",
    "        last_iter = min(max_iter, last_iter)\n",
    "    best_fitness = -np.inf\n",
    "    best_time = None \n",
    "    best_feval = None\n",
    "    best_iters = None\n",
    "    for iter_i in range(1, last_iter+1):\n",
    "        iter_df = df[df['Iteration'] == iter_i]\n",
    "        mean_fit = iter_df['Fitness'].mean()\n",
    "        if mean_fit > best_fitness:\n",
    "            best_fitness = mean_fit\n",
    "            best_time = iter_df['total_runtime'].mean()\n",
    "            best_feval = iter_df['FEvals'].mean()\n",
    "            best_iters = iter_i\n",
    "    data['Temperature'].append(f\"{df['Temperature'].iloc[0]:.2f}\")\n",
    "    data['Decay Type'].append(f\"{df['decay_type'].iloc[0]}\")\n",
    "    data['Best Norm Fitness Mean'].append(f\"{best_fitness/294:.3f}\")\n",
    "    data['Best Fitness Mean'].append(f\"{best_fitness:.2f}\")\n",
    "    data['Best Time Mean'].append(f\"{best_time:.2f}\")\n",
    "    data['Best FEvals Mean'].append(f\"{best_feval:.0f}\")\n",
    "    data['Best Iterations Mean'].append(f\"{best_iters:.0f}\")\n",
    "df = pd.DataFrame(data)\n",
    "df.to_csv('metrics/sa_table.csv', index=False)\n",
    "df.style.hide(axis='index')"
   ]
  },
  {
   "cell_type": "code",
   "execution_count": 11,
   "metadata": {},
   "outputs": [],
   "source": [
    "rhc_df = pd.read_csv('metrics/rhc.csv')"
   ]
  },
  {
   "cell_type": "code",
   "execution_count": 12,
   "metadata": {},
   "outputs": [],
   "source": [
    "rhc_df['Restarts'] = rhc_df['Restarts'].astype(int)"
   ]
  },
  {
   "cell_type": "code",
   "execution_count": 13,
   "metadata": {},
   "outputs": [
    {
     "data": {
      "text/plain": [
       "Index(['Iteration', 'Time', 'Fitness', 'FEvals', 'Restarts', 'max_iters',\n",
       "       'current_restart', 'problem_size', 'max_attempts', 'run_number',\n",
       "       'group_timestamp', 'total_runtime', 'num_edges', 'optimal_fitness'],\n",
       "      dtype='object')"
      ]
     },
     "execution_count": 13,
     "metadata": {},
     "output_type": "execute_result"
    }
   ],
   "source": [
    "rhc_df.columns"
   ]
  },
  {
   "cell_type": "code",
   "execution_count": 14,
   "metadata": {},
   "outputs": [],
   "source": [
    "rhc_df['Restarts'] = rhc_df['Restarts'].astype(int)"
   ]
  },
  {
   "cell_type": "code",
   "execution_count": 15,
   "metadata": {},
   "outputs": [],
   "source": [
    "rhc_df['X'] = rhc_df.apply(lambda row: f\"Restarts={row['Restarts']:.0f}\", axis=1)"
   ]
  },
  {
   "cell_type": "code",
   "execution_count": 16,
   "metadata": {},
   "outputs": [
    {
     "data": {
      "text/plain": [
       "0          Restarts=1\n",
       "1          Restarts=1\n",
       "2          Restarts=1\n",
       "3          Restarts=1\n",
       "4          Restarts=1\n",
       "             ...     \n",
       "190809    Restarts=50\n",
       "190810    Restarts=50\n",
       "190811    Restarts=50\n",
       "190812    Restarts=50\n",
       "190813    Restarts=50\n",
       "Name: X, Length: 190814, dtype: object"
      ]
     },
     "execution_count": 16,
     "metadata": {},
     "output_type": "execute_result"
    }
   ],
   "source": [
    "rhc_df['X']"
   ]
  },
  {
   "cell_type": "code",
   "execution_count": 25,
   "metadata": {},
   "outputs": [
    {
     "data": {
      "text/html": [
       "<style type=\"text/css\">\n",
       "</style>\n",
       "<table id=\"T_55f89\">\n",
       "  <thead>\n",
       "    <tr>\n",
       "      <th id=\"T_55f89_level0_col0\" class=\"col_heading level0 col0\" >Restarts</th>\n",
       "      <th id=\"T_55f89_level0_col1\" class=\"col_heading level0 col1\" >Best Norm Fitness Mean</th>\n",
       "      <th id=\"T_55f89_level0_col2\" class=\"col_heading level0 col2\" >Best Fitness Mean</th>\n",
       "      <th id=\"T_55f89_level0_col3\" class=\"col_heading level0 col3\" >Best Time Mean</th>\n",
       "      <th id=\"T_55f89_level0_col4\" class=\"col_heading level0 col4\" >Best FEvals Mean</th>\n",
       "      <th id=\"T_55f89_level0_col5\" class=\"col_heading level0 col5\" >Best Iterations Mean</th>\n",
       "    </tr>\n",
       "  </thead>\n",
       "  <tbody>\n",
       "    <tr>\n",
       "      <td id=\"T_55f89_row0_col0\" class=\"data row0 col0\" >1</td>\n",
       "      <td id=\"T_55f89_row0_col1\" class=\"data row0 col1\" >0.899</td>\n",
       "      <td id=\"T_55f89_row0_col2\" class=\"data row0 col2\" >264.40</td>\n",
       "      <td id=\"T_55f89_row0_col3\" class=\"data row0 col3\" >1.40</td>\n",
       "      <td id=\"T_55f89_row0_col4\" class=\"data row0 col4\" >966</td>\n",
       "      <td id=\"T_55f89_row0_col5\" class=\"data row0 col5\" >632</td>\n",
       "    </tr>\n",
       "    <tr>\n",
       "      <td id=\"T_55f89_row1_col0\" class=\"data row1 col0\" >5</td>\n",
       "      <td id=\"T_55f89_row1_col1\" class=\"data row1 col1\" >0.919</td>\n",
       "      <td id=\"T_55f89_row1_col2\" class=\"data row1 col2\" >270.25</td>\n",
       "      <td id=\"T_55f89_row1_col3\" class=\"data row1 col3\" >5.34</td>\n",
       "      <td id=\"T_55f89_row1_col4\" class=\"data row1 col4\" >3187</td>\n",
       "      <td id=\"T_55f89_row1_col5\" class=\"data row1 col5\" >849</td>\n",
       "    </tr>\n",
       "    <tr>\n",
       "      <td id=\"T_55f89_row2_col0\" class=\"data row2 col0\" >10</td>\n",
       "      <td id=\"T_55f89_row2_col1\" class=\"data row2 col1\" >0.918</td>\n",
       "      <td id=\"T_55f89_row2_col2\" class=\"data row2 col2\" >270.00</td>\n",
       "      <td id=\"T_55f89_row2_col3\" class=\"data row2 col3\" >12.07</td>\n",
       "      <td id=\"T_55f89_row2_col4\" class=\"data row2 col4\" >4234</td>\n",
       "      <td id=\"T_55f89_row2_col5\" class=\"data row2 col5\" >849</td>\n",
       "    </tr>\n",
       "    <tr>\n",
       "      <td id=\"T_55f89_row3_col0\" class=\"data row3 col0\" >20</td>\n",
       "      <td id=\"T_55f89_row3_col1\" class=\"data row3 col1\" >0.919</td>\n",
       "      <td id=\"T_55f89_row3_col2\" class=\"data row3 col2\" >270.22</td>\n",
       "      <td id=\"T_55f89_row3_col3\" class=\"data row3 col3\" >33.23</td>\n",
       "      <td id=\"T_55f89_row3_col4\" class=\"data row3 col4\" >8441</td>\n",
       "      <td id=\"T_55f89_row3_col5\" class=\"data row3 col5\" >898</td>\n",
       "    </tr>\n",
       "    <tr>\n",
       "      <td id=\"T_55f89_row4_col0\" class=\"data row4 col0\" >50</td>\n",
       "      <td id=\"T_55f89_row4_col1\" class=\"data row4 col1\" >0.921</td>\n",
       "      <td id=\"T_55f89_row4_col2\" class=\"data row4 col2\" >270.71</td>\n",
       "      <td id=\"T_55f89_row4_col3\" class=\"data row4 col3\" >152.52</td>\n",
       "      <td id=\"T_55f89_row4_col4\" class=\"data row4 col4\" >17395</td>\n",
       "      <td id=\"T_55f89_row4_col5\" class=\"data row4 col5\" >984</td>\n",
       "    </tr>\n",
       "  </tbody>\n",
       "</table>\n"
      ],
      "text/plain": [
       "<pandas.io.formats.style.Styler at 0x315f93a70>"
      ]
     },
     "execution_count": 25,
     "metadata": {},
     "output_type": "execute_result"
    }
   ],
   "source": [
    "data = {'Restarts': [],\n",
    "        'Best Norm Fitness Mean': [], 'Best Fitness Mean': [], 'Best Time Mean': [], \n",
    "        'Best FEvals Mean': [], 'Best Iterations Mean': []}\n",
    "def sort_fn(x):\n",
    "    return int(x.split('=')[1])\n",
    "for group in sorted(rhc_df['X'].unique(), key=sort_fn):\n",
    "    df = rhc_df[rhc_df['X'] == group]\n",
    "    assert(len(df['group_timestamp'].unique()) == 1)\n",
    "    last_iter = np.inf\n",
    "    for run_i in df['run_number'].unique():\n",
    "        run_df = df[df['run_number'] == run_i]\n",
    "        max_iter = run_df['Iteration'].max()\n",
    "        last_iter = min(max_iter, last_iter)\n",
    "    best_fitness = -np.inf\n",
    "    best_time = None \n",
    "    best_feval = None\n",
    "    best_iters = None\n",
    "    for iter_i in range(1, last_iter+1):\n",
    "        iter_df = df[df['Iteration'] == iter_i]\n",
    "        mean_fit = iter_df['Fitness'].mean()\n",
    "        if mean_fit > best_fitness:\n",
    "            best_fitness = mean_fit\n",
    "            best_time = iter_df['total_runtime'].mean()\n",
    "            best_feval = iter_df['FEvals'].mean()\n",
    "            best_iters = iter_i\n",
    "    data['Restarts'].append(df['Restarts'].iloc[0])\n",
    "    data['Best Fitness Mean'].append(f\"{best_fitness:.2f}\")\n",
    "    data['Best Norm Fitness Mean'].append(f\"{best_fitness/294:.3f}\")\n",
    "    data['Best Time Mean'].append(f\"{best_time:.2f}\")\n",
    "    data['Best FEvals Mean'].append(f\"{best_feval:.0f}\")\n",
    "    data['Best Iterations Mean'].append(f\"{best_iters:.0f}\")\n",
    "df = pd.DataFrame(data)\n",
    "df.to_csv('metrics/rhc_table.csv', index=False)\n",
    "df.style.hide(axis='index')"
   ]
  },
  {
   "cell_type": "code",
   "execution_count": null,
   "metadata": {},
   "outputs": [],
   "source": []
  }
 ],
 "metadata": {
  "kernelspec": {
   "display_name": "venv",
   "language": "python",
   "name": "python3"
  },
  "language_info": {
   "codemirror_mode": {
    "name": "ipython",
    "version": 3
   },
   "file_extension": ".py",
   "mimetype": "text/x-python",
   "name": "python",
   "nbconvert_exporter": "python",
   "pygments_lexer": "ipython3",
   "version": "3.12.2"
  }
 },
 "nbformat": 4,
 "nbformat_minor": 2
}

{
 "cells": [
  {
   "cell_type": "code",
   "execution_count": 1,
   "metadata": {},
   "outputs": [],
   "source": [
    "import os\n",
    "import pandas as pd\n",
    "import numpy as np"
   ]
  },
  {
   "cell_type": "code",
   "execution_count": 2,
   "metadata": {},
   "outputs": [],
   "source": [
    "ga_df = pd.read_csv('metrics/ga.csv')"
   ]
  },
  {
   "cell_type": "code",
   "execution_count": 3,
   "metadata": {},
   "outputs": [
    {
     "data": {
      "text/plain": [
       "28194"
      ]
     },
     "execution_count": 3,
     "metadata": {},
     "output_type": "execute_result"
    }
   ],
   "source": [
    "len(ga_df)"
   ]
  },
  {
   "cell_type": "code",
   "execution_count": 4,
   "metadata": {},
   "outputs": [
    {
     "data": {
      "text/plain": [
       "Index(['Iteration', 'Time', 'Fitness', 'FEvals', 'Population Size',\n",
       "       'Mutation Rate', 'max_iters', 'problem_size', 'max_attempts',\n",
       "       'run_number', 'group_timestamp', 'total_runtime', 'num_edges',\n",
       "       'optimal_fitness'],\n",
       "      dtype='object')"
      ]
     },
     "execution_count": 4,
     "metadata": {},
     "output_type": "execute_result"
    }
   ],
   "source": [
    "ga_df.columns"
   ]
  },
  {
   "cell_type": "code",
   "execution_count": 5,
   "metadata": {},
   "outputs": [],
   "source": [
    "ga_df['X'] = ga_df.apply(lambda row: f\"Pop={int(row['Population Size'])}, Mut={row['Mutation Rate']}\", axis=1)"
   ]
  },
  {
   "cell_type": "code",
   "execution_count": 6,
   "metadata": {},
   "outputs": [
    {
     "data": {
      "text/html": [
       "<style type=\"text/css\">\n",
       "</style>\n",
       "<table id=\"T_93bd6\">\n",
       "  <thead>\n",
       "    <tr>\n",
       "      <th id=\"T_93bd6_level0_col0\" class=\"col_heading level0 col0\" >Population Size</th>\n",
       "      <th id=\"T_93bd6_level0_col1\" class=\"col_heading level0 col1\" >Mutation Rate</th>\n",
       "      <th id=\"T_93bd6_level0_col2\" class=\"col_heading level0 col2\" >Best Fitness Mean</th>\n",
       "      <th id=\"T_93bd6_level0_col3\" class=\"col_heading level0 col3\" >Best Time Mean</th>\n",
       "      <th id=\"T_93bd6_level0_col4\" class=\"col_heading level0 col4\" >Best FEvals Mean</th>\n",
       "      <th id=\"T_93bd6_level0_col5\" class=\"col_heading level0 col5\" >Best Iterations Mean</th>\n",
       "    </tr>\n",
       "  </thead>\n",
       "  <tbody>\n",
       "    <tr>\n",
       "      <td id=\"T_93bd6_row0_col0\" class=\"data row0 col0\" >10</td>\n",
       "      <td id=\"T_93bd6_row0_col1\" class=\"data row0 col1\" >0.10</td>\n",
       "      <td id=\"T_93bd6_row0_col2\" class=\"data row0 col2\" >255.00</td>\n",
       "      <td id=\"T_93bd6_row0_col3\" class=\"data row0 col3\" >5.01</td>\n",
       "      <td id=\"T_93bd6_row0_col4\" class=\"data row0 col4\" >5556</td>\n",
       "      <td id=\"T_93bd6_row0_col5\" class=\"data row0 col5\" >501</td>\n",
       "    </tr>\n",
       "    <tr>\n",
       "      <td id=\"T_93bd6_row1_col0\" class=\"data row1 col0\" >10</td>\n",
       "      <td id=\"T_93bd6_row1_col1\" class=\"data row1 col1\" >0.30</td>\n",
       "      <td id=\"T_93bd6_row1_col2\" class=\"data row1 col2\" >266.00</td>\n",
       "      <td id=\"T_93bd6_row1_col3\" class=\"data row1 col3\" >4.82</td>\n",
       "      <td id=\"T_93bd6_row1_col4\" class=\"data row1 col4\" >4308</td>\n",
       "      <td id=\"T_93bd6_row1_col5\" class=\"data row1 col5\" >387</td>\n",
       "    </tr>\n",
       "    <tr>\n",
       "      <td id=\"T_93bd6_row2_col0\" class=\"data row2 col0\" >10</td>\n",
       "      <td id=\"T_93bd6_row2_col1\" class=\"data row2 col1\" >0.50</td>\n",
       "      <td id=\"T_93bd6_row2_col2\" class=\"data row2 col2\" >269.67</td>\n",
       "      <td id=\"T_93bd6_row2_col3\" class=\"data row2 col3\" >4.66</td>\n",
       "      <td id=\"T_93bd6_row2_col4\" class=\"data row2 col4\" >5093</td>\n",
       "      <td id=\"T_93bd6_row2_col5\" class=\"data row2 col5\" >458</td>\n",
       "    </tr>\n",
       "    <tr>\n",
       "      <td id=\"T_93bd6_row3_col0\" class=\"data row3 col0\" >10</td>\n",
       "      <td id=\"T_93bd6_row3_col1\" class=\"data row3 col1\" >0.70</td>\n",
       "      <td id=\"T_93bd6_row3_col2\" class=\"data row3 col2\" >267.33</td>\n",
       "      <td id=\"T_93bd6_row3_col3\" class=\"data row3 col3\" >5.41</td>\n",
       "      <td id=\"T_93bd6_row3_col4\" class=\"data row3 col4\" >4155</td>\n",
       "      <td id=\"T_93bd6_row3_col5\" class=\"data row3 col5\" >373</td>\n",
       "    </tr>\n",
       "    <tr>\n",
       "      <td id=\"T_93bd6_row4_col0\" class=\"data row4 col0\" >20</td>\n",
       "      <td id=\"T_93bd6_row4_col1\" class=\"data row4 col1\" >0.10</td>\n",
       "      <td id=\"T_93bd6_row4_col2\" class=\"data row4 col2\" >265.00</td>\n",
       "      <td id=\"T_93bd6_row4_col3\" class=\"data row4 col3\" >12.16</td>\n",
       "      <td id=\"T_93bd6_row4_col4\" class=\"data row4 col4\" >10918</td>\n",
       "      <td id=\"T_93bd6_row4_col5\" class=\"data row4 col5\" >517</td>\n",
       "    </tr>\n",
       "    <tr>\n",
       "      <td id=\"T_93bd6_row5_col0\" class=\"data row5 col0\" >20</td>\n",
       "      <td id=\"T_93bd6_row5_col1\" class=\"data row5 col1\" >0.30</td>\n",
       "      <td id=\"T_93bd6_row5_col2\" class=\"data row5 col2\" >275.67</td>\n",
       "      <td id=\"T_93bd6_row5_col3\" class=\"data row5 col3\" >11.01</td>\n",
       "      <td id=\"T_93bd6_row5_col4\" class=\"data row5 col4\" >11237</td>\n",
       "      <td id=\"T_93bd6_row5_col5\" class=\"data row5 col5\" >532</td>\n",
       "    </tr>\n",
       "    <tr>\n",
       "      <td id=\"T_93bd6_row6_col0\" class=\"data row6 col0\" >20</td>\n",
       "      <td id=\"T_93bd6_row6_col1\" class=\"data row6 col1\" >0.50</td>\n",
       "      <td id=\"T_93bd6_row6_col2\" class=\"data row6 col2\" >275.00</td>\n",
       "      <td id=\"T_93bd6_row6_col3\" class=\"data row6 col3\" >11.09</td>\n",
       "      <td id=\"T_93bd6_row6_col4\" class=\"data row6 col4\" >9598</td>\n",
       "      <td id=\"T_93bd6_row6_col5\" class=\"data row6 col5\" >454</td>\n",
       "    </tr>\n",
       "    <tr>\n",
       "      <td id=\"T_93bd6_row7_col0\" class=\"data row7 col0\" >20</td>\n",
       "      <td id=\"T_93bd6_row7_col1\" class=\"data row7 col1\" >0.70</td>\n",
       "      <td id=\"T_93bd6_row7_col2\" class=\"data row7 col2\" >281.00</td>\n",
       "      <td id=\"T_93bd6_row7_col3\" class=\"data row7 col3\" >13.22</td>\n",
       "      <td id=\"T_93bd6_row7_col4\" class=\"data row7 col4\" >12753</td>\n",
       "      <td id=\"T_93bd6_row7_col5\" class=\"data row7 col5\" >604</td>\n",
       "    </tr>\n",
       "    <tr>\n",
       "      <td id=\"T_93bd6_row8_col0\" class=\"data row8 col0\" >50</td>\n",
       "      <td id=\"T_93bd6_row8_col1\" class=\"data row8 col1\" >0.10</td>\n",
       "      <td id=\"T_93bd6_row8_col2\" class=\"data row8 col2\" >271.00</td>\n",
       "      <td id=\"T_93bd6_row8_col3\" class=\"data row8 col3\" >23.94</td>\n",
       "      <td id=\"T_93bd6_row8_col4\" class=\"data row8 col4\" >15135</td>\n",
       "      <td id=\"T_93bd6_row8_col5\" class=\"data row8 col5\" >295</td>\n",
       "    </tr>\n",
       "    <tr>\n",
       "      <td id=\"T_93bd6_row9_col0\" class=\"data row9 col0\" >50</td>\n",
       "      <td id=\"T_93bd6_row9_col1\" class=\"data row9 col1\" >0.30</td>\n",
       "      <td id=\"T_93bd6_row9_col2\" class=\"data row9 col2\" >283.33</td>\n",
       "      <td id=\"T_93bd6_row9_col3\" class=\"data row9 col3\" >23.75</td>\n",
       "      <td id=\"T_93bd6_row9_col4\" class=\"data row9 col4\" >27128</td>\n",
       "      <td id=\"T_93bd6_row9_col5\" class=\"data row9 col5\" >530</td>\n",
       "    </tr>\n",
       "    <tr>\n",
       "      <td id=\"T_93bd6_row10_col0\" class=\"data row10 col0\" >50</td>\n",
       "      <td id=\"T_93bd6_row10_col1\" class=\"data row10 col1\" >0.50</td>\n",
       "      <td id=\"T_93bd6_row10_col2\" class=\"data row10 col2\" >283.33</td>\n",
       "      <td id=\"T_93bd6_row10_col3\" class=\"data row10 col3\" >23.54</td>\n",
       "      <td id=\"T_93bd6_row10_col4\" class=\"data row10 col4\" >26461</td>\n",
       "      <td id=\"T_93bd6_row10_col5\" class=\"data row10 col5\" >517</td>\n",
       "    </tr>\n",
       "    <tr>\n",
       "      <td id=\"T_93bd6_row11_col0\" class=\"data row11 col0\" >50</td>\n",
       "      <td id=\"T_93bd6_row11_col1\" class=\"data row11 col1\" >0.70</td>\n",
       "      <td id=\"T_93bd6_row11_col2\" class=\"data row11 col2\" >281.33</td>\n",
       "      <td id=\"T_93bd6_row11_col3\" class=\"data row11 col3\" >23.97</td>\n",
       "      <td id=\"T_93bd6_row11_col4\" class=\"data row11 col4\" >21361</td>\n",
       "      <td id=\"T_93bd6_row11_col5\" class=\"data row11 col5\" >417</td>\n",
       "    </tr>\n",
       "    <tr>\n",
       "      <td id=\"T_93bd6_row12_col0\" class=\"data row12 col0\" >100</td>\n",
       "      <td id=\"T_93bd6_row12_col1\" class=\"data row12 col1\" >0.10</td>\n",
       "      <td id=\"T_93bd6_row12_col2\" class=\"data row12 col2\" >279.00</td>\n",
       "      <td id=\"T_93bd6_row12_col3\" class=\"data row12 col3\" >32.67</td>\n",
       "      <td id=\"T_93bd6_row12_col4\" class=\"data row12 col4\" >32561</td>\n",
       "      <td id=\"T_93bd6_row12_col5\" class=\"data row12 col5\" >321</td>\n",
       "    </tr>\n",
       "    <tr>\n",
       "      <td id=\"T_93bd6_row13_col0\" class=\"data row13 col0\" >100</td>\n",
       "      <td id=\"T_93bd6_row13_col1\" class=\"data row13 col1\" >0.30</td>\n",
       "      <td id=\"T_93bd6_row13_col2\" class=\"data row13 col2\" >284.67</td>\n",
       "      <td id=\"T_93bd6_row13_col3\" class=\"data row13 col3\" >39.20</td>\n",
       "      <td id=\"T_93bd6_row13_col4\" class=\"data row13 col4\" >38927</td>\n",
       "      <td id=\"T_93bd6_row13_col5\" class=\"data row13 col5\" >384</td>\n",
       "    </tr>\n",
       "    <tr>\n",
       "      <td id=\"T_93bd6_row14_col0\" class=\"data row14 col0\" >100</td>\n",
       "      <td id=\"T_93bd6_row14_col1\" class=\"data row14 col1\" >0.50</td>\n",
       "      <td id=\"T_93bd6_row14_col2\" class=\"data row14 col2\" >285.00</td>\n",
       "      <td id=\"T_93bd6_row14_col3\" class=\"data row14 col3\" >36.10</td>\n",
       "      <td id=\"T_93bd6_row14_col4\" class=\"data row14 col4\" >33880</td>\n",
       "      <td id=\"T_93bd6_row14_col5\" class=\"data row14 col5\" >334</td>\n",
       "    </tr>\n",
       "    <tr>\n",
       "      <td id=\"T_93bd6_row15_col0\" class=\"data row15 col0\" >100</td>\n",
       "      <td id=\"T_93bd6_row15_col1\" class=\"data row15 col1\" >0.70</td>\n",
       "      <td id=\"T_93bd6_row15_col2\" class=\"data row15 col2\" >287.33</td>\n",
       "      <td id=\"T_93bd6_row15_col3\" class=\"data row15 col3\" >45.53</td>\n",
       "      <td id=\"T_93bd6_row15_col4\" class=\"data row15 col4\" >44685</td>\n",
       "      <td id=\"T_93bd6_row15_col5\" class=\"data row15 col5\" >441</td>\n",
       "    </tr>\n",
       "  </tbody>\n",
       "</table>\n"
      ],
      "text/plain": [
       "<pandas.io.formats.style.Styler at 0x10fd2a900>"
      ]
     },
     "execution_count": 6,
     "metadata": {},
     "output_type": "execute_result"
    }
   ],
   "source": [
    "data = {'Population Size': [], 'Mutation Rate': [], 'Best Fitness Mean': [], 'Best Time Mean': [], \n",
    "        'Best FEvals Mean': [], 'Best Iterations Mean': []}\n",
    "def sort_fn(x):\n",
    "    return int(x.split('=')[1].split(',')[0])\n",
    "for group in sorted(ga_df['X'].unique(), key=sort_fn):\n",
    "    df = ga_df[ga_df['X'] == group]\n",
    "    assert(len(df['group_timestamp'].unique()) == 1)\n",
    "    last_iter = np.inf\n",
    "    for run_i in df['run_number'].unique():\n",
    "        run_df = df[df['run_number'] == run_i]\n",
    "        max_iter = run_df['Iteration'].max()\n",
    "        last_iter = min(max_iter, last_iter)\n",
    "    best_fitness = -np.inf\n",
    "    best_time = None \n",
    "    best_feval = None\n",
    "    best_iters = None\n",
    "    for iter_i in range(1, last_iter+1):\n",
    "        iter_df = df[df['Iteration'] == iter_i]\n",
    "        mean_fit = iter_df['Fitness'].mean()\n",
    "        if mean_fit > best_fitness:\n",
    "            best_fitness = mean_fit\n",
    "            best_time = iter_df['total_runtime'].mean()\n",
    "            best_feval = iter_df['FEvals'].mean()\n",
    "            best_iters = iter_i\n",
    "    data['Population Size'].append(df['Population Size'].iloc[0])\n",
    "    data['Mutation Rate'].append(f\"{df['Mutation Rate'].iloc[0]:.2f}\")\n",
    "    data['Best Fitness Mean'].append(f\"{best_fitness:.2f}\")\n",
    "    data['Best Time Mean'].append(f\"{best_time:.2f}\")\n",
    "    data['Best FEvals Mean'].append(f\"{best_feval:.0f}\")\n",
    "    data['Best Iterations Mean'].append(f\"{best_iters:.0f}\")\n",
    "df = pd.DataFrame(data)\n",
    "df.to_csv('metrics/ga_table.csv', index=False)\n",
    "df.style.hide(axis='index')"
   ]
  },
  {
   "cell_type": "code",
   "execution_count": 7,
   "metadata": {},
   "outputs": [],
   "source": [
    "sa_df = pd.read_csv('metrics/sa.csv')"
   ]
  },
  {
   "cell_type": "code",
   "execution_count": 8,
   "metadata": {},
   "outputs": [
    {
     "data": {
      "text/plain": [
       "Index(['Iteration', 'Time', 'Fitness', 'FEvals', 'Temperature', 'max_iters',\n",
       "       'decay_type', 'problem_size', 'max_attempts', 'run_number',\n",
       "       'group_timestamp', 'total_runtime', 'num_edges', 'optimal_fitness'],\n",
       "      dtype='object')"
      ]
     },
     "execution_count": 8,
     "metadata": {},
     "output_type": "execute_result"
    }
   ],
   "source": [
    "sa_df.columns"
   ]
  },
  {
   "cell_type": "code",
   "execution_count": 9,
   "metadata": {},
   "outputs": [],
   "source": [
    "sa_df['X'] = sa_df.apply(lambda row: f\"Temp={row['Temperature']}, DecayType={row['decay_type']}\", axis=1)"
   ]
  },
  {
   "cell_type": "code",
   "execution_count": 10,
   "metadata": {},
   "outputs": [
    {
     "data": {
      "text/html": [
       "<style type=\"text/css\">\n",
       "</style>\n",
       "<table id=\"T_38391\">\n",
       "  <thead>\n",
       "    <tr>\n",
       "      <th id=\"T_38391_level0_col0\" class=\"col_heading level0 col0\" >Temperature</th>\n",
       "      <th id=\"T_38391_level0_col1\" class=\"col_heading level0 col1\" >Decay Type</th>\n",
       "      <th id=\"T_38391_level0_col2\" class=\"col_heading level0 col2\" >Best Fitness Mean</th>\n",
       "      <th id=\"T_38391_level0_col3\" class=\"col_heading level0 col3\" >Best Time Mean</th>\n",
       "      <th id=\"T_38391_level0_col4\" class=\"col_heading level0 col4\" >Best FEvals Mean</th>\n",
       "      <th id=\"T_38391_level0_col5\" class=\"col_heading level0 col5\" >Best Iterations Mean</th>\n",
       "    </tr>\n",
       "  </thead>\n",
       "  <tbody>\n",
       "    <tr>\n",
       "      <td id=\"T_38391_row0_col0\" class=\"data row0 col0\" >0.010000</td>\n",
       "      <td id=\"T_38391_row0_col1\" class=\"data row0 col1\" >ArithDecay</td>\n",
       "      <td id=\"T_38391_row0_col2\" class=\"data row0 col2\" >289.67</td>\n",
       "      <td id=\"T_38391_row0_col3\" class=\"data row0 col3\" >15.89</td>\n",
       "      <td id=\"T_38391_row0_col4\" class=\"data row0 col4\" >9431</td>\n",
       "      <td id=\"T_38391_row0_col5\" class=\"data row0 col5\" >8938</td>\n",
       "    </tr>\n",
       "    <tr>\n",
       "      <td id=\"T_38391_row1_col0\" class=\"data row1 col0\" >0.010000</td>\n",
       "      <td id=\"T_38391_row1_col1\" class=\"data row1 col1\" >ExpDecay</td>\n",
       "      <td id=\"T_38391_row1_col2\" class=\"data row1 col2\" >289.67</td>\n",
       "      <td id=\"T_38391_row1_col3\" class=\"data row1 col3\" >15.76</td>\n",
       "      <td id=\"T_38391_row1_col4\" class=\"data row1 col4\" >9431</td>\n",
       "      <td id=\"T_38391_row1_col5\" class=\"data row1 col5\" >8938</td>\n",
       "    </tr>\n",
       "    <tr>\n",
       "      <td id=\"T_38391_row2_col0\" class=\"data row2 col0\" >0.010000</td>\n",
       "      <td id=\"T_38391_row2_col1\" class=\"data row2 col1\" >GeomDecay</td>\n",
       "      <td id=\"T_38391_row2_col2\" class=\"data row2 col2\" >289.67</td>\n",
       "      <td id=\"T_38391_row2_col3\" class=\"data row2 col3\" >15.77</td>\n",
       "      <td id=\"T_38391_row2_col4\" class=\"data row2 col4\" >9431</td>\n",
       "      <td id=\"T_38391_row2_col5\" class=\"data row2 col5\" >8938</td>\n",
       "    </tr>\n",
       "    <tr>\n",
       "      <td id=\"T_38391_row3_col0\" class=\"data row3 col0\" >0.100000</td>\n",
       "      <td id=\"T_38391_row3_col1\" class=\"data row3 col1\" >ArithDecay</td>\n",
       "      <td id=\"T_38391_row3_col2\" class=\"data row3 col2\" >289.67</td>\n",
       "      <td id=\"T_38391_row3_col3\" class=\"data row3 col3\" >16.30</td>\n",
       "      <td id=\"T_38391_row3_col4\" class=\"data row3 col4\" >9431</td>\n",
       "      <td id=\"T_38391_row3_col5\" class=\"data row3 col5\" >8938</td>\n",
       "    </tr>\n",
       "    <tr>\n",
       "      <td id=\"T_38391_row4_col0\" class=\"data row4 col0\" >0.100000</td>\n",
       "      <td id=\"T_38391_row4_col1\" class=\"data row4 col1\" >ExpDecay</td>\n",
       "      <td id=\"T_38391_row4_col2\" class=\"data row4 col2\" >289.67</td>\n",
       "      <td id=\"T_38391_row4_col3\" class=\"data row4 col3\" >15.95</td>\n",
       "      <td id=\"T_38391_row4_col4\" class=\"data row4 col4\" >9431</td>\n",
       "      <td id=\"T_38391_row4_col5\" class=\"data row4 col5\" >8938</td>\n",
       "    </tr>\n",
       "    <tr>\n",
       "      <td id=\"T_38391_row5_col0\" class=\"data row5 col0\" >0.100000</td>\n",
       "      <td id=\"T_38391_row5_col1\" class=\"data row5 col1\" >GeomDecay</td>\n",
       "      <td id=\"T_38391_row5_col2\" class=\"data row5 col2\" >289.67</td>\n",
       "      <td id=\"T_38391_row5_col3\" class=\"data row5 col3\" >16.05</td>\n",
       "      <td id=\"T_38391_row5_col4\" class=\"data row5 col4\" >9431</td>\n",
       "      <td id=\"T_38391_row5_col5\" class=\"data row5 col5\" >8938</td>\n",
       "    </tr>\n",
       "    <tr>\n",
       "      <td id=\"T_38391_row6_col0\" class=\"data row6 col0\" >1.000000</td>\n",
       "      <td id=\"T_38391_row6_col1\" class=\"data row6 col1\" >ArithDecay</td>\n",
       "      <td id=\"T_38391_row6_col2\" class=\"data row6 col2\" >285.33</td>\n",
       "      <td id=\"T_38391_row6_col3\" class=\"data row6 col3\" >17.85</td>\n",
       "      <td id=\"T_38391_row6_col4\" class=\"data row6 col4\" >11574</td>\n",
       "      <td id=\"T_38391_row6_col5\" class=\"data row6 col5\" >9307</td>\n",
       "    </tr>\n",
       "    <tr>\n",
       "      <td id=\"T_38391_row7_col0\" class=\"data row7 col0\" >1.000000</td>\n",
       "      <td id=\"T_38391_row7_col1\" class=\"data row7 col1\" >ExpDecay</td>\n",
       "      <td id=\"T_38391_row7_col2\" class=\"data row7 col2\" >289.33</td>\n",
       "      <td id=\"T_38391_row7_col3\" class=\"data row7 col3\" >16.62</td>\n",
       "      <td id=\"T_38391_row7_col4\" class=\"data row7 col4\" >9482</td>\n",
       "      <td id=\"T_38391_row7_col5\" class=\"data row7 col5\" >8685</td>\n",
       "    </tr>\n",
       "    <tr>\n",
       "      <td id=\"T_38391_row8_col0\" class=\"data row8 col0\" >1.000000</td>\n",
       "      <td id=\"T_38391_row8_col1\" class=\"data row8 col1\" >GeomDecay</td>\n",
       "      <td id=\"T_38391_row8_col2\" class=\"data row8 col2\" >289.33</td>\n",
       "      <td id=\"T_38391_row8_col3\" class=\"data row8 col3\" >16.93</td>\n",
       "      <td id=\"T_38391_row8_col4\" class=\"data row8 col4\" >9482</td>\n",
       "      <td id=\"T_38391_row8_col5\" class=\"data row8 col5\" >8685</td>\n",
       "    </tr>\n",
       "    <tr>\n",
       "      <td id=\"T_38391_row9_col0\" class=\"data row9 col0\" >10.000000</td>\n",
       "      <td id=\"T_38391_row9_col1\" class=\"data row9 col1\" >ArithDecay</td>\n",
       "      <td id=\"T_38391_row9_col2\" class=\"data row9 col2\" >284.67</td>\n",
       "      <td id=\"T_38391_row9_col3\" class=\"data row9 col3\" >22.17</td>\n",
       "      <td id=\"T_38391_row9_col4\" class=\"data row9 col4\" >16478</td>\n",
       "      <td id=\"T_38391_row9_col5\" class=\"data row9 col5\" >9924</td>\n",
       "    </tr>\n",
       "    <tr>\n",
       "      <td id=\"T_38391_row10_col0\" class=\"data row10 col0\" >10.000000</td>\n",
       "      <td id=\"T_38391_row10_col1\" class=\"data row10 col1\" >ExpDecay</td>\n",
       "      <td id=\"T_38391_row10_col2\" class=\"data row10 col2\" >289.67</td>\n",
       "      <td id=\"T_38391_row10_col3\" class=\"data row10 col3\" >17.60</td>\n",
       "      <td id=\"T_38391_row10_col4\" class=\"data row10 col4\" >12039</td>\n",
       "      <td id=\"T_38391_row10_col5\" class=\"data row10 col5\" >9831</td>\n",
       "    </tr>\n",
       "    <tr>\n",
       "      <td id=\"T_38391_row11_col0\" class=\"data row11 col0\" >10.000000</td>\n",
       "      <td id=\"T_38391_row11_col1\" class=\"data row11 col1\" >GeomDecay</td>\n",
       "      <td id=\"T_38391_row11_col2\" class=\"data row11 col2\" >289.67</td>\n",
       "      <td id=\"T_38391_row11_col3\" class=\"data row11 col3\" >17.39</td>\n",
       "      <td id=\"T_38391_row11_col4\" class=\"data row11 col4\" >12039</td>\n",
       "      <td id=\"T_38391_row11_col5\" class=\"data row11 col5\" >9831</td>\n",
       "    </tr>\n",
       "    <tr>\n",
       "      <td id=\"T_38391_row12_col0\" class=\"data row12 col0\" >100.000000</td>\n",
       "      <td id=\"T_38391_row12_col1\" class=\"data row12 col1\" >ArithDecay</td>\n",
       "      <td id=\"T_38391_row12_col2\" class=\"data row12 col2\" >279.67</td>\n",
       "      <td id=\"T_38391_row12_col3\" class=\"data row12 col3\" >22.07</td>\n",
       "      <td id=\"T_38391_row12_col4\" class=\"data row12 col4\" >17828</td>\n",
       "      <td id=\"T_38391_row12_col5\" class=\"data row12 col5\" >9896</td>\n",
       "    </tr>\n",
       "    <tr>\n",
       "      <td id=\"T_38391_row13_col0\" class=\"data row13 col0\" >100.000000</td>\n",
       "      <td id=\"T_38391_row13_col1\" class=\"data row13 col1\" >ExpDecay</td>\n",
       "      <td id=\"T_38391_row13_col2\" class=\"data row13 col2\" >285.67</td>\n",
       "      <td id=\"T_38391_row13_col3\" class=\"data row13 col3\" >18.71</td>\n",
       "      <td id=\"T_38391_row13_col4\" class=\"data row13 col4\" >12409</td>\n",
       "      <td id=\"T_38391_row13_col5\" class=\"data row13 col5\" >9030</td>\n",
       "    </tr>\n",
       "    <tr>\n",
       "      <td id=\"T_38391_row14_col0\" class=\"data row14 col0\" >100.000000</td>\n",
       "      <td id=\"T_38391_row14_col1\" class=\"data row14 col1\" >GeomDecay</td>\n",
       "      <td id=\"T_38391_row14_col2\" class=\"data row14 col2\" >285.67</td>\n",
       "      <td id=\"T_38391_row14_col3\" class=\"data row14 col3\" >18.64</td>\n",
       "      <td id=\"T_38391_row14_col4\" class=\"data row14 col4\" >12409</td>\n",
       "      <td id=\"T_38391_row14_col5\" class=\"data row14 col5\" >9030</td>\n",
       "    </tr>\n",
       "  </tbody>\n",
       "</table>\n"
      ],
      "text/plain": [
       "<pandas.io.formats.style.Styler at 0x1289ea5a0>"
      ]
     },
     "execution_count": 10,
     "metadata": {},
     "output_type": "execute_result"
    }
   ],
   "source": [
    "data = {'Temperature': [], 'Decay Type': [], \n",
    "        'Best Fitness Mean': [], 'Best Time Mean': [], \n",
    "        'Best FEvals Mean': [], 'Best Iterations Mean': []}\n",
    "for group in sorted(sa_df['X'].unique()):\n",
    "    df = sa_df[sa_df['X'] == group]\n",
    "    assert(len(df['group_timestamp'].unique()) == 1)\n",
    "    last_iter = np.inf\n",
    "    for run_i in df['run_number'].unique():\n",
    "        run_df = df[df['run_number'] == run_i]\n",
    "        max_iter = run_df['Iteration'].max()\n",
    "        last_iter = min(max_iter, last_iter)\n",
    "    best_fitness = -np.inf\n",
    "    best_time = None \n",
    "    best_feval = None\n",
    "    best_iters = None\n",
    "    for iter_i in range(1, last_iter+1):\n",
    "        iter_df = df[df['Iteration'] == iter_i]\n",
    "        mean_fit = iter_df['Fitness'].mean()\n",
    "        if mean_fit > best_fitness:\n",
    "            best_fitness = mean_fit\n",
    "            best_time = iter_df['total_runtime'].mean()\n",
    "            best_feval = iter_df['FEvals'].mean()\n",
    "            best_iters = iter_i\n",
    "    data['Temperature'].append(df['Temperature'].iloc[0])\n",
    "    data['Decay Type'].append(f\"{df['decay_type'].iloc[0]}\")\n",
    "    data['Best Fitness Mean'].append(f\"{best_fitness:.2f}\")\n",
    "    data['Best Time Mean'].append(f\"{best_time:.2f}\")\n",
    "    data['Best FEvals Mean'].append(f\"{best_feval:.0f}\")\n",
    "    data['Best Iterations Mean'].append(f\"{best_iters:.0f}\")\n",
    "df = pd.DataFrame(data)\n",
    "df.to_csv('metrics/sa_table.csv', index=False)\n",
    "df.style.hide(axis='index')"
   ]
  },
  {
   "cell_type": "code",
   "execution_count": 11,
   "metadata": {},
   "outputs": [],
   "source": [
    "rhc_df = pd.read_csv('metrics/rhc.csv')"
   ]
  },
  {
   "cell_type": "code",
   "execution_count": 12,
   "metadata": {},
   "outputs": [],
   "source": [
    "rhc_df['Restarts'] = rhc_df['Restarts'].astype(int)"
   ]
  },
  {
   "cell_type": "code",
   "execution_count": 13,
   "metadata": {},
   "outputs": [
    {
     "data": {
      "text/plain": [
       "Index(['Iteration', 'Time', 'Fitness', 'FEvals', 'Restarts', 'max_iters',\n",
       "       'current_restart', 'problem_size', 'max_attempts', 'run_number',\n",
       "       'group_timestamp', 'total_runtime', 'num_edges', 'optimal_fitness'],\n",
       "      dtype='object')"
      ]
     },
     "execution_count": 13,
     "metadata": {},
     "output_type": "execute_result"
    }
   ],
   "source": [
    "rhc_df.columns"
   ]
  },
  {
   "cell_type": "code",
   "execution_count": 14,
   "metadata": {},
   "outputs": [],
   "source": [
    "rhc_df['Restarts'] = rhc_df['Restarts'].astype(int)"
   ]
  },
  {
   "cell_type": "code",
   "execution_count": 15,
   "metadata": {},
   "outputs": [],
   "source": [
    "rhc_df['X'] = rhc_df.apply(lambda row: f\"Restarts={row['Restarts']:.0f}\", axis=1)"
   ]
  },
  {
   "cell_type": "code",
   "execution_count": 16,
   "metadata": {},
   "outputs": [
    {
     "data": {
      "text/plain": [
       "0          Restarts=1\n",
       "1          Restarts=1\n",
       "2          Restarts=1\n",
       "3          Restarts=1\n",
       "4          Restarts=1\n",
       "             ...     \n",
       "190809    Restarts=50\n",
       "190810    Restarts=50\n",
       "190811    Restarts=50\n",
       "190812    Restarts=50\n",
       "190813    Restarts=50\n",
       "Name: X, Length: 190814, dtype: object"
      ]
     },
     "execution_count": 16,
     "metadata": {},
     "output_type": "execute_result"
    }
   ],
   "source": [
    "rhc_df['X']"
   ]
  },
  {
   "cell_type": "code",
   "execution_count": 17,
   "metadata": {},
   "outputs": [
    {
     "data": {
      "text/html": [
       "<style type=\"text/css\">\n",
       "</style>\n",
       "<table id=\"T_44c16\">\n",
       "  <thead>\n",
       "    <tr>\n",
       "      <th id=\"T_44c16_level0_col0\" class=\"col_heading level0 col0\" >Restarts</th>\n",
       "      <th id=\"T_44c16_level0_col1\" class=\"col_heading level0 col1\" >Best Fitness Mean</th>\n",
       "      <th id=\"T_44c16_level0_col2\" class=\"col_heading level0 col2\" >Best Time Mean</th>\n",
       "      <th id=\"T_44c16_level0_col3\" class=\"col_heading level0 col3\" >Best FEvals Mean</th>\n",
       "      <th id=\"T_44c16_level0_col4\" class=\"col_heading level0 col4\" >Best Iterations Mean</th>\n",
       "    </tr>\n",
       "  </thead>\n",
       "  <tbody>\n",
       "    <tr>\n",
       "      <td id=\"T_44c16_row0_col0\" class=\"data row0 col0\" >1</td>\n",
       "      <td id=\"T_44c16_row0_col1\" class=\"data row0 col1\" >264.40</td>\n",
       "      <td id=\"T_44c16_row0_col2\" class=\"data row0 col2\" >1.40</td>\n",
       "      <td id=\"T_44c16_row0_col3\" class=\"data row0 col3\" >966</td>\n",
       "      <td id=\"T_44c16_row0_col4\" class=\"data row0 col4\" >632</td>\n",
       "    </tr>\n",
       "    <tr>\n",
       "      <td id=\"T_44c16_row1_col0\" class=\"data row1 col0\" >5</td>\n",
       "      <td id=\"T_44c16_row1_col1\" class=\"data row1 col1\" >270.25</td>\n",
       "      <td id=\"T_44c16_row1_col2\" class=\"data row1 col2\" >5.34</td>\n",
       "      <td id=\"T_44c16_row1_col3\" class=\"data row1 col3\" >3187</td>\n",
       "      <td id=\"T_44c16_row1_col4\" class=\"data row1 col4\" >849</td>\n",
       "    </tr>\n",
       "    <tr>\n",
       "      <td id=\"T_44c16_row2_col0\" class=\"data row2 col0\" >10</td>\n",
       "      <td id=\"T_44c16_row2_col1\" class=\"data row2 col1\" >270.00</td>\n",
       "      <td id=\"T_44c16_row2_col2\" class=\"data row2 col2\" >12.07</td>\n",
       "      <td id=\"T_44c16_row2_col3\" class=\"data row2 col3\" >4234</td>\n",
       "      <td id=\"T_44c16_row2_col4\" class=\"data row2 col4\" >849</td>\n",
       "    </tr>\n",
       "    <tr>\n",
       "      <td id=\"T_44c16_row3_col0\" class=\"data row3 col0\" >20</td>\n",
       "      <td id=\"T_44c16_row3_col1\" class=\"data row3 col1\" >270.22</td>\n",
       "      <td id=\"T_44c16_row3_col2\" class=\"data row3 col2\" >33.23</td>\n",
       "      <td id=\"T_44c16_row3_col3\" class=\"data row3 col3\" >8441</td>\n",
       "      <td id=\"T_44c16_row3_col4\" class=\"data row3 col4\" >898</td>\n",
       "    </tr>\n",
       "    <tr>\n",
       "      <td id=\"T_44c16_row4_col0\" class=\"data row4 col0\" >50</td>\n",
       "      <td id=\"T_44c16_row4_col1\" class=\"data row4 col1\" >270.71</td>\n",
       "      <td id=\"T_44c16_row4_col2\" class=\"data row4 col2\" >152.52</td>\n",
       "      <td id=\"T_44c16_row4_col3\" class=\"data row4 col3\" >17395</td>\n",
       "      <td id=\"T_44c16_row4_col4\" class=\"data row4 col4\" >984</td>\n",
       "    </tr>\n",
       "  </tbody>\n",
       "</table>\n"
      ],
      "text/plain": [
       "<pandas.io.formats.style.Styler at 0x106084a40>"
      ]
     },
     "execution_count": 17,
     "metadata": {},
     "output_type": "execute_result"
    }
   ],
   "source": [
    "data = {'Restarts': [],\n",
    "        'Best Fitness Mean': [], 'Best Time Mean': [], \n",
    "        'Best FEvals Mean': [], 'Best Iterations Mean': []}\n",
    "def sort_fn(x):\n",
    "    return int(x.split('=')[1])\n",
    "for group in sorted(rhc_df['X'].unique(), key=sort_fn):\n",
    "    df = rhc_df[rhc_df['X'] == group]\n",
    "    assert(len(df['group_timestamp'].unique()) == 1)\n",
    "    last_iter = np.inf\n",
    "    for run_i in df['run_number'].unique():\n",
    "        run_df = df[df['run_number'] == run_i]\n",
    "        max_iter = run_df['Iteration'].max()\n",
    "        last_iter = min(max_iter, last_iter)\n",
    "    best_fitness = -np.inf\n",
    "    best_time = None \n",
    "    best_feval = None\n",
    "    best_iters = None\n",
    "    for iter_i in range(1, last_iter+1):\n",
    "        iter_df = df[df['Iteration'] == iter_i]\n",
    "        mean_fit = iter_df['Fitness'].mean()\n",
    "        if mean_fit > best_fitness:\n",
    "            best_fitness = mean_fit\n",
    "            best_time = iter_df['total_runtime'].mean()\n",
    "            best_feval = iter_df['FEvals'].mean()\n",
    "            best_iters = iter_i\n",
    "    data['Restarts'].append(df['Restarts'].iloc[0])\n",
    "    data['Best Fitness Mean'].append(f\"{best_fitness:.2f}\")\n",
    "    data['Best Time Mean'].append(f\"{best_time:.2f}\")\n",
    "    data['Best FEvals Mean'].append(f\"{best_feval:.0f}\")\n",
    "    data['Best Iterations Mean'].append(f\"{best_iters:.0f}\")\n",
    "df = pd.DataFrame(data)\n",
    "df.to_csv('metrics/rhc_table.csv', index=False)\n",
    "df.style.hide(axis='index')"
   ]
  },
  {
   "cell_type": "code",
   "execution_count": null,
   "metadata": {},
   "outputs": [],
   "source": []
  }
 ],
 "metadata": {
  "kernelspec": {
   "display_name": "venv",
   "language": "python",
   "name": "python3"
  },
  "language_info": {
   "codemirror_mode": {
    "name": "ipython",
    "version": 3
   },
   "file_extension": ".py",
   "mimetype": "text/x-python",
   "name": "python",
   "nbconvert_exporter": "python",
   "pygments_lexer": "ipython3",
   "version": "3.12.2"
  }
 },
 "nbformat": 4,
 "nbformat_minor": 2
}

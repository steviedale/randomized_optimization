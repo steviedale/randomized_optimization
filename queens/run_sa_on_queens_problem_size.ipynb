{
 "cells": [
  {
   "cell_type": "code",
   "execution_count": null,
   "metadata": {},
   "outputs": [],
   "source": [
    "import pandas as pd\n",
    "from tqdm import tqdm\n",
    "import os\n",
    "import time\n",
    "\n",
    "import sys\n",
    "sys.path.append('../mlrose')\n",
    "from mlrose_hiive.generators.queens_generator import QueensGenerator\n",
    "from mlrose_hiive import SARunner\n",
    "from mlrose_hiive import GeomDecay, ExpDecay, ArithDecay\n",
    "import numpy as np"
   ]
  },
  {
   "cell_type": "code",
   "execution_count": null,
   "metadata": {},
   "outputs": [],
   "source": [
    "ALGORITHM = 'sa'\n",
    "PROBLEM_SIZE_LIST = [10, 30, 50, 100, 200]\n",
    "# MAX_ITERATIONS = 10000\n",
    "MAX_ATTEMPTS = 1000\n",
    "NUM_RUNS = 3\n",
    "MIN_T = 0.001\n",
    "\n",
    "TEMPERATURE = 10\n",
    "DECAY = 'ExpDecay'"
   ]
  },
  {
   "cell_type": "code",
   "execution_count": null,
   "metadata": {},
   "outputs": [],
   "source": [
    "def get_max_size(problem_size):\n",
    "    if problem_size <= 1:\n",
    "        return 0\n",
    "    if problem_size == 2:\n",
    "        return 1\n",
    "    return 3*(problem_size-2)"
   ]
  },
  {
   "cell_type": "code",
   "execution_count": null,
   "metadata": {},
   "outputs": [],
   "source": [
    "P = 0.8\n",
    "def get_exp_decay(init_temp, max_iter):\n",
    "    r = (\n",
    "        -np.log(MIN_T / init_temp)\n",
    "        /\n",
    "        int(P * max_iter)\n",
    "    )\n",
    "    return ExpDecay(init_temp=init_temp, exp_const=r, min_temp=MIN_T)\n",
    "def get_geom_decay(init_temp, max_iter):\n",
    "    r = (\n",
    "        (MIN_T / init_temp) ** (1 / int(P * max_iter))\n",
    "    )\n",
    "    return GeomDecay(init_temp=init_temp, decay=r, min_temp=MIN_T)\n",
    "def get_arith_decay(init_temp, max_iter):\n",
    "    r = (\n",
    "        (init_temp - MIN_T)\n",
    "        /\n",
    "        int(P * max_iter)\n",
    "    )\n",
    "    return ArithDecay(init_temp=init_temp, decay=r, min_temp=MIN_T)"
   ]
  },
  {
   "cell_type": "code",
   "execution_count": null,
   "metadata": {},
   "outputs": [],
   "source": [
    "df_path = f'metrics_problem_size/{ALGORITHM}.csv'\n",
    "os.makedirs(os.path.dirname(df_path), exist_ok=True)\n",
    "if not os.path.exists(df_path):\n",
    "    print('Creating new metrics file..')\n",
    "    all_df = pd.DataFrame(columns=[\n",
    "        # runner columns\n",
    "        'Iteration', 'Time', 'Fitness', 'FEvals', 'Temperature', 'max_iters',\n",
    "        # problem config\n",
    "        'problem_size', 'decay_type', 'max_attempts', \n",
    "        # run config\n",
    "        'run_number', 'group_timestamp', 'total_runtime',\n",
    "    ])\n",
    "    all_df.to_csv(df_path, index=False)\n",
    "all_df = pd.read_csv(df_path)"
   ]
  },
  {
   "cell_type": "code",
   "execution_count": null,
   "metadata": {},
   "outputs": [],
   "source": [
    "for problem_size in PROBLEM_SIZE_LIST:\n",
    "    print(f\"Problem Size: {problem_size}\")\n",
    "\n",
    "    MAX_ITERATIONS = 100 * problem_size\n",
    "\n",
    "    if DECAY == 'ExpDecay':\n",
    "        decay_type = get_exp_decay(TEMPERATURE, MAX_ITERATIONS)\n",
    "    elif DECAY == 'GeomDecay':\n",
    "        decay_type = get_geom_decay(TEMPERATURE, MAX_ITERATIONS)\n",
    "    elif DECAY == 'ArithDecay':\n",
    "        decay_type = get_arith_decay(TEMPERATURE, MAX_ITERATIONS)\n",
    "    else:\n",
    "        raise ValueError('Invalid decay type')\n",
    "\n",
    "    if (\n",
    "        (all_df['problem_size'] == problem_size) &\n",
    "        (all_df['decay_type'] == DECAY) &\n",
    "        (all_df['Temperature'] == TEMPERATURE) &\n",
    "        (all_df['max_attempts'] == MAX_ATTEMPTS)\n",
    "    ).any():\n",
    "        print('Already run')\n",
    "        continue\n",
    "\n",
    "    group_timestamp = int(time.time())\n",
    "    time.sleep(1)\n",
    "    max_fitnesses = []\n",
    "    for run_i in tqdm(range(NUM_RUNS)):\n",
    "        t_start = time.perf_counter()\n",
    "        problem = QueensGenerator().generate(seed=run_i, size=problem_size, maximize=True)\n",
    "        runner = SARunner(\n",
    "            problem=problem,\n",
    "            experiment_name='SA',\n",
    "            output_directory='.',\n",
    "            seed=run_i,\n",
    "            iteration_list=[MAX_ITERATIONS],\n",
    "            max_attempts=MAX_ATTEMPTS,\n",
    "            temperature_list=[decay_type],\n",
    "            # decay_list=[decay_type],\n",
    "        )\n",
    "        _, df_run_curves = runner.run()\n",
    "\n",
    "        df_run_curves['problem_size'] = problem_size\n",
    "        df_run_curves['decay_type'] = DECAY\n",
    "        df_run_curves['max_attempts'] = MAX_ATTEMPTS\n",
    "\n",
    "        df_run_curves['Temperature'] = TEMPERATURE\n",
    "        df_run_curves['max_iters'] = MAX_ITERATIONS\n",
    "\n",
    "        df_run_curves['run_number'] = run_i\n",
    "        df_run_curves['group_timestamp'] = group_timestamp\n",
    "\n",
    "        max_fitnesses.append(df_run_curves['Fitness'].max())\n",
    "\n",
    "        t_end = time.perf_counter()\n",
    "        df_run_curves['total_runtime'] = t_end - t_start\n",
    "        df_run_curves['optimal_fitness'] = get_max_size(problem_size)\n",
    "\n",
    "        all_df = pd.concat([all_df, df_run_curves])\n",
    "\n",
    "    print(f'Max Fitness: {np.mean(max_fitnesses)}')\n",
    "    all_df.reset_index(inplace=True, drop=True)\n",
    "    all_df.to_csv(df_path, index=False)"
   ]
  },
  {
   "cell_type": "code",
   "execution_count": null,
   "metadata": {},
   "outputs": [],
   "source": [
    "all_df.columns"
   ]
  },
  {
   "cell_type": "code",
   "execution_count": null,
   "metadata": {},
   "outputs": [],
   "source": [
    "agg_df = pd.DataFrame()\n",
    "for group_timestamp in all_df['group_timestamp'].unique():\n",
    "    df = all_df[all_df['group_timestamp'] == group_timestamp]\n",
    "    max_fit = df['Fitness'].max()\n",
    "    total_iters = df['Iteration'].max()\n",
    "    max_fevals = df['FEvals'].max()\n",
    "    df.drop(columns=['Fitness', 'Iteration', 'FEvals', 'Time'], inplace=True)\n",
    "    assert(len(df) > NUM_RUNS)\n",
    "    df.drop_duplicates(inplace=True)\n",
    "    assert(len(df) == NUM_RUNS)\n",
    "    df['max_fitness'] = max_fit\n",
    "    df['total_iterations'] = total_iters\n",
    "    df['max_fevals'] = max_fevals\n",
    "    agg_df = pd.concat([agg_df, df])\n",
    "agg_df.reset_index(inplace=True, drop=True)"
   ]
  },
  {
   "cell_type": "code",
   "execution_count": null,
   "metadata": {},
   "outputs": [],
   "source": [
    "df_path = f'metrics_problem_size/{ALGORITHM}_agg.csv'\n",
    "agg_df.to_csv(df_path, index=False)"
   ]
  },
  {
   "cell_type": "code",
   "execution_count": null,
   "metadata": {},
   "outputs": [],
   "source": [
    "agg_df"
   ]
  },
  {
   "cell_type": "code",
   "execution_count": null,
   "metadata": {},
   "outputs": [],
   "source": []
  }
 ],
 "metadata": {
  "kernelspec": {
   "display_name": "venv",
   "language": "python",
   "name": "python3"
  },
  "language_info": {
   "codemirror_mode": {
    "name": "ipython",
    "version": 3
   },
   "file_extension": ".py",
   "mimetype": "text/x-python",
   "name": "python",
   "nbconvert_exporter": "python",
   "pygments_lexer": "ipython3",
   "version": "3.12.2"
  }
 },
 "nbformat": 4,
 "nbformat_minor": 2
}

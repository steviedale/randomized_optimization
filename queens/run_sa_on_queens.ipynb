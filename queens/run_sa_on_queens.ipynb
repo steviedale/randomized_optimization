{
 "cells": [
  {
   "cell_type": "code",
   "execution_count": null,
   "metadata": {},
   "outputs": [],
   "source": [
    "import pandas as pd\n",
    "from tqdm import tqdm\n",
    "import os\n",
    "import yaml\n",
    "import time\n",
    "import numpy as np\n",
    "\n",
    "import sys\n",
    "sys.path.append('../mlrose')\n",
    "from mlrose_hiive.generators.queens_generator import QueensGenerator\n",
    "from mlrose_hiive import SARunner\n",
    "from mlrose_hiive import GeomDecay, ExpDecay, ArithDecay\n",
    "import numpy as np"
   ]
  },
  {
   "cell_type": "code",
   "execution_count": null,
   "metadata": {},
   "outputs": [],
   "source": [
    "ALGORITHM = 'sa'\n",
    "PROBLEM_SIZE = 100\n",
    "MAX_ITERATIONS = 10000\n",
    "MAX_ATTEMPTS = 1000\n",
    "NUM_RUNS = 3\n",
    "MIN_T = 0.001\n",
    "\n",
    "TEMPERATURE_LIST = [0.01, 0.1, 1, 10, 100]\n",
    "# TEMPERATURE_LIST = [0.1]\n",
    "DECAY_LIST = ['ExpDecay', 'GeomDecay', 'ArithDecay']"
   ]
  },
  {
   "cell_type": "code",
   "execution_count": null,
   "metadata": {},
   "outputs": [],
   "source": [
    "def get_max_size(problem_size):\n",
    "    if problem_size <= 1:\n",
    "        return 0\n",
    "    if problem_size == 2:\n",
    "        return 1\n",
    "    return 3*(problem_size-2)\n",
    "OPT_SCORE = get_max_size(PROBLEM_SIZE)\n",
    "OPT_SCORE"
   ]
  },
  {
   "cell_type": "code",
   "execution_count": null,
   "metadata": {},
   "outputs": [],
   "source": [
    "P = 0.8\n",
    "def get_exp_decay(init_temp):\n",
    "    r = (\n",
    "        -np.log(MIN_T / init_temp)\n",
    "        /\n",
    "        int(P * MAX_ITERATIONS)\n",
    "    )\n",
    "    return ExpDecay(init_temp=init_temp, exp_const=r, min_temp=MIN_T)\n",
    "def get_geom_decay(init_temp):\n",
    "    r = (\n",
    "        (MIN_T / init_temp) ** (1 / int(P * MAX_ITERATIONS))\n",
    "    )\n",
    "    return GeomDecay(init_temp=init_temp, decay=r, min_temp=MIN_T)\n",
    "def get_arith_decay(init_temp):\n",
    "    r = (\n",
    "        (init_temp - MIN_T)\n",
    "        /\n",
    "        int(P * MAX_ITERATIONS)\n",
    "    )\n",
    "    return ArithDecay(init_temp=init_temp, decay=r, min_temp=MIN_T)\n",
    "\n",
    "# def get_exp_decay(init_temp):\n",
    "#     return ExpDecay(init_temp=init_temp)\n",
    "# def get_geom_decay(init_temp):\n",
    "#     return GeomDecay(init_temp=init_temp)\n",
    "# def get_arith_decay(init_temp):\n",
    "#     return ArithDecay(init_temp=init_temp)"
   ]
  },
  {
   "cell_type": "code",
   "execution_count": null,
   "metadata": {},
   "outputs": [],
   "source": [
    "if False:\n",
    "    # run_i = 6\n",
    "    run_i = int(time.time())\n",
    "\n",
    "    problem = QueensGenerator().generate(seed=run_i, size=PROBLEM_SIZE, maximize=True)\n",
    "\n",
    "    runner = SARunner(\n",
    "        problem=problem,\n",
    "        experiment_name='SA',\n",
    "        output_directory='.',\n",
    "        seed=run_i,\n",
    "        iteration_list=[MAX_ITERATIONS],\n",
    "        max_attempts=MAX_ATTEMPTS,\n",
    "        temperature_list=[get_geom_decay(1000)],\n",
    "    )\n",
    "    x, df_run_curves = runner.run()\n",
    "    print(df_run_curves['Fitness'].max())\n",
    "    df_run_curves.head()"
   ]
  },
  {
   "cell_type": "code",
   "execution_count": null,
   "metadata": {},
   "outputs": [],
   "source": [
    "df_path = f'metrics/{ALGORITHM}.csv'\n",
    "os.makedirs(os.path.dirname(df_path), exist_ok=True)\n",
    "if not os.path.exists(df_path):\n",
    "    print('Creating new metrics file..')\n",
    "    all_df = pd.DataFrame(columns=[\n",
    "        # runner columns\n",
    "        'Iteration', 'Time', 'Fitness', 'FEvals', 'Temperature', 'max_iters', 'decay_type',\n",
    "        # problem config\n",
    "        'problem_size', 'max_attempts',\n",
    "        # run config\n",
    "        'run_number', 'group_timestamp', 'total_runtime',\n",
    "    ])\n",
    "    all_df.to_csv(df_path, index=False)\n",
    "all_df = pd.read_csv(df_path)"
   ]
  },
  {
   "cell_type": "code",
   "execution_count": null,
   "metadata": {},
   "outputs": [],
   "source": [
    "all_df['decay_type'].unique()"
   ]
  },
  {
   "cell_type": "code",
   "execution_count": null,
   "metadata": {},
   "outputs": [],
   "source": [
    "print(len(all_df))\n",
    "print(all_df['decay_type'].unique())\n",
    "all_df = all_df[all_df['decay_type'] != 'ArithDecay']\n",
    "print(len(all_df))\n",
    "print(all_df['decay_type'].unique())"
   ]
  },
  {
   "cell_type": "code",
   "execution_count": null,
   "metadata": {},
   "outputs": [],
   "source": [
    "for temperature in TEMPERATURE_LIST:\n",
    "    print(f'Temp: {temperature}')\n",
    "    for decay_str in DECAY_LIST:\n",
    "        if decay_str == 'ExpDecay':\n",
    "            decay_type = get_exp_decay(temperature)\n",
    "        elif decay_str == 'GeomDecay':\n",
    "            decay_type = get_geom_decay(temperature)\n",
    "        elif decay_str == 'ArithDecay':\n",
    "            decay_type = get_arith_decay(temperature)\n",
    "        else:\n",
    "            raise ValueError('Invalid decay type')\n",
    "        print(f\"Decay Type: {decay_str}\")\n",
    "\n",
    "        if (\n",
    "            (all_df['problem_size'] == PROBLEM_SIZE) &\n",
    "            (all_df['decay_type'] == decay_str) &\n",
    "            (all_df['Temperature'] == temperature) &\n",
    "            (all_df['max_attempts'] == MAX_ATTEMPTS)\n",
    "        ).any():\n",
    "            print('Already run')\n",
    "            continue\n",
    "\n",
    "        group_timestamp = int(time.time())\n",
    "        time.sleep(1)\n",
    "        max_fitnesses = []\n",
    "        for run_i in tqdm(range(NUM_RUNS)):\n",
    "            t_start = time.perf_counter()\n",
    "            problem = QueensGenerator().generate(seed=run_i, size=PROBLEM_SIZE, maximize=True)\n",
    "            runner = SARunner(\n",
    "                problem=problem,\n",
    "                experiment_name='SA',\n",
    "                output_directory='.',\n",
    "                seed=run_i,\n",
    "                iteration_list=[MAX_ITERATIONS],\n",
    "                max_attempts=MAX_ATTEMPTS,\n",
    "                temperature_list=[decay_type],\n",
    "                # decay_list=[decay_type],\n",
    "            )\n",
    "            _, df_run_curves = runner.run()\n",
    "\n",
    "            df_run_curves['problem_size'] = PROBLEM_SIZE\n",
    "            df_run_curves['decay_type'] = decay_str\n",
    "            df_run_curves['max_attempts'] = MAX_ATTEMPTS\n",
    "\n",
    "            df_run_curves['Temperature'] = temperature\n",
    "            df_run_curves['max_iters'] = MAX_ITERATIONS\n",
    "\n",
    "            df_run_curves['run_number'] = run_i\n",
    "            df_run_curves['group_timestamp'] = group_timestamp\n",
    "            df_run_curves['num_edges'] = problem.length\n",
    "\n",
    "            max_fitnesses.append(df_run_curves['Fitness'].max())\n",
    "\n",
    "            t_end = time.perf_counter()\n",
    "            df_run_curves['total_runtime'] = t_end - t_start\n",
    "\n",
    "            all_df = pd.concat([all_df, df_run_curves])\n",
    "\n",
    "        print(f'Max Fitness: {np.mean(max_fitnesses)}')\n",
    "\n",
    "        all_df['optimal_fitness'] = OPT_SCORE\n",
    "        all_df.reset_index(inplace=True, drop=True)\n",
    "        all_df.to_csv(df_path, index=False)"
   ]
  },
  {
   "cell_type": "code",
   "execution_count": null,
   "metadata": {},
   "outputs": [],
   "source": [
    "all_df.columns"
   ]
  },
  {
   "cell_type": "code",
   "execution_count": null,
   "metadata": {},
   "outputs": [],
   "source": [
    "agg_df = pd.DataFrame()\n",
    "for group_timestamp in all_df['group_timestamp'].unique():\n",
    "    df = all_df[all_df['group_timestamp'] == group_timestamp]\n",
    "    max_fit = df['Fitness'].max()\n",
    "    total_iters = df['Iteration'].max()\n",
    "    max_fevals = df['FEvals'].max()\n",
    "    df.drop(columns=['Fitness', 'Iteration', 'FEvals', 'Time'], inplace=True)\n",
    "    assert(len(df) > NUM_RUNS)\n",
    "    df.drop_duplicates(inplace=True)\n",
    "    assert(len(df) == NUM_RUNS)\n",
    "    df['max_fitness'] = max_fit\n",
    "    df['total_iterations'] = total_iters\n",
    "    df['max_fevals'] = max_fevals\n",
    "    agg_df = pd.concat([agg_df, df])\n",
    "agg_df.reset_index(inplace=True, drop=True)"
   ]
  },
  {
   "cell_type": "code",
   "execution_count": null,
   "metadata": {},
   "outputs": [],
   "source": [
    "df_path = f'metrics/{ALGORITHM}_agg.csv'\n",
    "agg_df.to_csv(df_path, index=False)"
   ]
  },
  {
   "cell_type": "code",
   "execution_count": null,
   "metadata": {},
   "outputs": [],
   "source": [
    "agg_df"
   ]
  },
  {
   "cell_type": "code",
   "execution_count": null,
   "metadata": {},
   "outputs": [],
   "source": []
  }
 ],
 "metadata": {
  "kernelspec": {
   "display_name": "venv",
   "language": "python",
   "name": "python3"
  },
  "language_info": {
   "codemirror_mode": {
    "name": "ipython",
    "version": 3
   },
   "file_extension": ".py",
   "mimetype": "text/x-python",
   "name": "python",
   "nbconvert_exporter": "python",
   "pygments_lexer": "ipython3",
   "version": "3.12.2"
  }
 },
 "nbformat": 4,
 "nbformat_minor": 2
}

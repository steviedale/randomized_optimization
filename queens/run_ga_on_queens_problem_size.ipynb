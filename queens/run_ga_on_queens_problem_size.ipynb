{
 "cells": [
  {
   "cell_type": "code",
   "execution_count": 1,
   "metadata": {},
   "outputs": [],
   "source": [
    "import pandas as pd\n",
    "from tqdm import tqdm\n",
    "import os\n",
    "import time\n",
    "\n",
    "import sys\n",
    "sys.path.append('../mlrose')\n",
    "from mlrose_hiive.generators.queens_generator import QueensGenerator\n",
    "from mlrose_hiive import GARunner"
   ]
  },
  {
   "cell_type": "code",
   "execution_count": 2,
   "metadata": {},
   "outputs": [],
   "source": [
    "ALGORITHM = 'ga'\n",
    "PROBLEM_SIZE_LIST = [10, 30, 50, 100, 200]\n",
    "MAX_ITERATIONS = 10000\n",
    "NUM_RUNS = 3\n",
    "\n",
    "MUTATION_RATE = 0.5\n",
    "POPULATION_SIZE = 10"
   ]
  },
  {
   "cell_type": "code",
   "execution_count": 3,
   "metadata": {},
   "outputs": [],
   "source": [
    "def get_max_size(problem_size):\n",
    "    if problem_size <= 1:\n",
    "        return 0\n",
    "    if problem_size == 2:\n",
    "        return 1\n",
    "    return 3*(problem_size-2)"
   ]
  },
  {
   "cell_type": "code",
   "execution_count": 4,
   "metadata": {},
   "outputs": [],
   "source": [
    "df_path = f'metrics_problem_size/{ALGORITHM}.csv'\n",
    "os.makedirs(os.path.dirname(df_path), exist_ok=True)\n",
    "if not os.path.exists(df_path):\n",
    "    all_df = pd.DataFrame(columns=[\n",
    "        # runner columns\n",
    "        'Iteration', 'Time', 'Fitness', 'FEvals', 'Population Size', 'Mutation Rate', 'max_iters',\n",
    "        # problem config\n",
    "        'problem_size', 'max_attempts', \n",
    "        # run config\n",
    "        'run_number', 'group_timestamp', 'total_runtime',\n",
    "    ])\n",
    "    all_df.to_csv(df_path, index=False)\n",
    "all_df = pd.read_csv(df_path)"
   ]
  },
  {
   "cell_type": "code",
   "execution_count": 5,
   "metadata": {},
   "outputs": [
    {
     "name": "stdout",
     "output_type": "stream",
     "text": [
      "Problem Size: 10\n"
     ]
    },
    {
     "name": "stderr",
     "output_type": "stream",
     "text": [
      "100%|██████████| 3/3 [00:00<00:00,  8.32it/s]\n"
     ]
    },
    {
     "name": "stdout",
     "output_type": "stream",
     "text": [
      "Max Fitnesses: [22.0, 23.0, 23.0]\n",
      "Problem Size: 30\n"
     ]
    },
    {
     "name": "stderr",
     "output_type": "stream",
     "text": [
      "100%|██████████| 3/3 [00:03<00:00,  1.22s/it]\n"
     ]
    },
    {
     "name": "stdout",
     "output_type": "stream",
     "text": [
      "Max Fitnesses: [82.0, 81.0, 80.0]\n",
      "Problem Size: 50\n"
     ]
    },
    {
     "name": "stderr",
     "output_type": "stream",
     "text": [
      "100%|██████████| 3/3 [00:13<00:00,  4.40s/it]\n"
     ]
    },
    {
     "name": "stdout",
     "output_type": "stream",
     "text": [
      "Max Fitnesses: [139.0, 138.0, 137.0]\n",
      "Problem Size: 100\n"
     ]
    },
    {
     "name": "stderr",
     "output_type": "stream",
     "text": [
      "100%|██████████| 3/3 [01:01<00:00, 20.61s/it]\n"
     ]
    },
    {
     "name": "stdout",
     "output_type": "stream",
     "text": [
      "Max Fitnesses: [283.0, 285.0, 286.0]\n",
      "Problem Size: 200\n"
     ]
    },
    {
     "name": "stderr",
     "output_type": "stream",
     "text": [
      "100%|██████████| 3/3 [06:48<00:00, 136.19s/it]"
     ]
    },
    {
     "name": "stdout",
     "output_type": "stream",
     "text": [
      "Max Fitnesses: [575.0, 585.0, 580.0]\n"
     ]
    },
    {
     "name": "stderr",
     "output_type": "stream",
     "text": [
      "\n"
     ]
    }
   ],
   "source": [
    "for problem_size in PROBLEM_SIZE_LIST:\n",
    "    print(f\"Problem Size: {problem_size}\")\n",
    "    MAX_ATTEMPTS = problem_size * 5\n",
    "\n",
    "    if (\n",
    "        (all_df['problem_size'] == problem_size) &\n",
    "        (all_df['Population Size'] == POPULATION_SIZE) &\n",
    "        (all_df['Mutation Rate'] == MUTATION_RATE) &\n",
    "        (all_df['max_attempts'] == MAX_ATTEMPTS) &\n",
    "        (all_df['max_iters'] == MAX_ITERATIONS)\n",
    "    ).any():\n",
    "        print('Already run')\n",
    "        continue\n",
    "\n",
    "    group_timestamp = int(time.time())\n",
    "    time.sleep(1)\n",
    "    max_fitnesses = []\n",
    "    for run_i in tqdm(range(NUM_RUNS)):\n",
    "        t_start = time.perf_counter()\n",
    "        problem = QueensGenerator().generate(seed=run_i, size=problem_size, maximize=True)\n",
    "        runner = GARunner(\n",
    "            problem=problem,\n",
    "            experiment_name='GA',\n",
    "            output_directory='.',\n",
    "            seed=run_i,\n",
    "            iteration_list=[MAX_ITERATIONS],\n",
    "            max_attempts=MAX_ATTEMPTS,\n",
    "            population_sizes=[POPULATION_SIZE],\n",
    "            mutation_rates=[MUTATION_RATE],\n",
    "        )\n",
    "        _, df_run_curves = runner.run()\n",
    "\n",
    "        df_run_curves['problem_size'] = problem_size\n",
    "        df_run_curves['max_attempts'] = MAX_ATTEMPTS\n",
    "\n",
    "        df_run_curves['Population Size'] = POPULATION_SIZE\n",
    "        df_run_curves['Mutation Rate'] = MUTATION_RATE\n",
    "        df_run_curves['max_iters'] = MAX_ITERATIONS\n",
    "\n",
    "        df_run_curves['run_number'] = run_i\n",
    "        df_run_curves['group_timestamp'] = group_timestamp\n",
    "\n",
    "        max_fitnesses.append(df_run_curves['Fitness'].max())\n",
    "\n",
    "        t_end = time.perf_counter()\n",
    "        df_run_curves['total_runtime'] = t_end - t_start\n",
    "        df_run_curves['optimal_fitness'] = get_max_size(problem_size)\n",
    "\n",
    "        all_df = pd.concat([all_df, df_run_curves])\n",
    "\n",
    "    print(f\"Max Fitnesses: {max_fitnesses}\")\n",
    "\n",
    "    all_df.reset_index(inplace=True, drop=True)\n",
    "    all_df.to_csv(df_path, index=False)"
   ]
  },
  {
   "cell_type": "code",
   "execution_count": 6,
   "metadata": {},
   "outputs": [
    {
     "data": {
      "text/plain": [
       "Index(['Iteration', 'Time', 'Fitness', 'FEvals', 'Population Size',\n",
       "       'Mutation Rate', 'max_iters', 'problem_size', 'max_attempts',\n",
       "       'run_number', 'group_timestamp', 'total_runtime', 'optimal_fitness'],\n",
       "      dtype='object')"
      ]
     },
     "execution_count": 6,
     "metadata": {},
     "output_type": "execute_result"
    }
   ],
   "source": [
    "all_df.columns"
   ]
  },
  {
   "cell_type": "code",
   "execution_count": 7,
   "metadata": {},
   "outputs": [],
   "source": [
    "agg_df = pd.DataFrame()\n",
    "for group_timestamp in all_df['group_timestamp'].unique():\n",
    "    df = all_df[all_df['group_timestamp'] == group_timestamp]\n",
    "    max_fit = df['Fitness'].max()\n",
    "    total_iters = df['Iteration'].max()\n",
    "    max_fevals = df['FEvals'].max()\n",
    "    df.drop(columns=['Fitness', 'Iteration', 'FEvals', 'Time'], inplace=True)\n",
    "    assert(len(df) > NUM_RUNS)\n",
    "    df.drop_duplicates(inplace=True)\n",
    "    assert(len(df) == NUM_RUNS)\n",
    "    df['max_fitness'] = max_fit\n",
    "    df['total_iterations'] = total_iters\n",
    "    df['max_fevals'] = max_fevals\n",
    "    agg_df = pd.concat([agg_df, df])\n",
    "agg_df.reset_index(inplace=True, drop=True)"
   ]
  },
  {
   "cell_type": "code",
   "execution_count": 8,
   "metadata": {},
   "outputs": [],
   "source": [
    "df_path = f'metrics_problem_size/{ALGORITHM}_agg.csv'\n",
    "agg_df.to_csv(df_path, index=False)"
   ]
  },
  {
   "cell_type": "code",
   "execution_count": null,
   "metadata": {},
   "outputs": [],
   "source": []
  }
 ],
 "metadata": {
  "kernelspec": {
   "display_name": "venv",
   "language": "python",
   "name": "python3"
  },
  "language_info": {
   "codemirror_mode": {
    "name": "ipython",
    "version": 3
   },
   "file_extension": ".py",
   "mimetype": "text/x-python",
   "name": "python",
   "nbconvert_exporter": "python",
   "pygments_lexer": "ipython3",
   "version": "3.12.2"
  }
 },
 "nbformat": 4,
 "nbformat_minor": 2
}

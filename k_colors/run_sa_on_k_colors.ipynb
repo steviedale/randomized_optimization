{
 "cells": [
  {
   "cell_type": "code",
   "execution_count": 1,
   "metadata": {},
   "outputs": [],
   "source": [
    "import pandas as pd\n",
    "from tqdm import tqdm\n",
    "import os\n",
    "import yaml\n",
    "import time\n",
    "import numpy as np\n",
    "\n",
    "import sys\n",
    "sys.path.append('../mlrose')\n",
    "from mlrose_hiive.generators.max_k_color_generator import MaxKColorGenerator\n",
    "from mlrose_hiive import SARunner\n",
    "from mlrose_hiive import GeomDecay, ExpDecay, ArithDecay\n",
    "import numpy as np"
   ]
  },
  {
   "cell_type": "code",
   "execution_count": 2,
   "metadata": {},
   "outputs": [],
   "source": [
    "ALGORITHM = 'sa'\n",
    "PROBLEM_SIZE = 300\n",
    "CONNECTIONS_PER_NODE = 3\n",
    "MAX_COLORS = 4\n",
    "MAX_ITERATIONS = 10000\n",
    "MAX_ATTEMPTS = 100\n",
    "NUM_RUNS = 3\n",
    "MIN_T = 0.001\n",
    "\n",
    "TEMPERATURE_LIST = [1, 10, 100, 1000]\n",
    "DECAY_LIST = ['ExpDecay', 'GeomDecay', 'ArithDecay']"
   ]
  },
  {
   "cell_type": "code",
   "execution_count": 3,
   "metadata": {},
   "outputs": [],
   "source": [
    "# def get_exp_decay(init_temp):\n",
    "#     r = (\n",
    "#         -np.log(MIN_T / init_temp)\n",
    "#         /\n",
    "#         MAX_ITERATIONS\n",
    "#     )\n",
    "#     return ExpDecay(init_temp=init_temp, exp_const=r, min_temp=MIN_T)\n",
    "# def get_geom_decay(init_temp):\n",
    "#     r = (\n",
    "#         (MIN_T / init_temp) ** (1 / MAX_ITERATIONS)\n",
    "#     )\n",
    "#     return GeomDecay(init_temp=init_temp, decay=r, min_temp=MIN_T)\n",
    "# def get_arith_decay(init_temp):\n",
    "#     r = (\n",
    "#         (init_temp - MIN_T)\n",
    "#         /\n",
    "#         MAX_ITERATIONS\n",
    "#     )\n",
    "#     return ArithDecay(init_temp=init_temp, decay=r, min_temp=MIN_T)\n",
    "\n",
    "def get_exp_decay(init_temp):\n",
    "    return ExpDecay(init_temp=init_temp)\n",
    "def get_geom_decay(init_temp):\n",
    "    return GeomDecay(init_temp=init_temp)\n",
    "def get_arith_decay(init_temp):\n",
    "    return ArithDecay(init_temp=init_temp)"
   ]
  },
  {
   "cell_type": "code",
   "execution_count": 4,
   "metadata": {},
   "outputs": [],
   "source": [
    "# SEED = 6\n",
    "SEED = int(time.time())\n",
    "\n",
    "problem = MaxKColorGenerator().generate(seed=SEED, number_of_nodes=PROBLEM_SIZE, \n",
    "                                        max_connections_per_node=CONNECTIONS_PER_NODE, \n",
    "                                        maximize=True, max_colors=MAX_COLORS)\n",
    "\n",
    "runner = SARunner(\n",
    "    problem=problem,\n",
    "    experiment_name='SA',\n",
    "    output_directory='.',\n",
    "    seed=SEED,\n",
    "    iteration_list=[MAX_ITERATIONS],\n",
    "    max_attempts=MAX_ATTEMPTS,\n",
    "    temperature_list=[get_geom_decay(10000)],\n",
    ")\n",
    "x, df_run_curves = runner.run()"
   ]
  },
  {
   "cell_type": "code",
   "execution_count": 5,
   "metadata": {},
   "outputs": [
    {
     "data": {
      "text/plain": [
       "300"
      ]
     },
     "execution_count": 5,
     "metadata": {},
     "output_type": "execute_result"
    }
   ],
   "source": [
    "problem.length"
   ]
  },
  {
   "cell_type": "code",
   "execution_count": 6,
   "metadata": {},
   "outputs": [
    {
     "name": "stdout",
     "output_type": "stream",
     "text": [
      "585.0\n"
     ]
    },
    {
     "data": {
      "text/html": [
       "<div>\n",
       "<style scoped>\n",
       "    .dataframe tbody tr th:only-of-type {\n",
       "        vertical-align: middle;\n",
       "    }\n",
       "\n",
       "    .dataframe tbody tr th {\n",
       "        vertical-align: top;\n",
       "    }\n",
       "\n",
       "    .dataframe thead th {\n",
       "        text-align: right;\n",
       "    }\n",
       "</style>\n",
       "<table border=\"1\" class=\"dataframe\">\n",
       "  <thead>\n",
       "    <tr style=\"text-align: right;\">\n",
       "      <th></th>\n",
       "      <th>Iteration</th>\n",
       "      <th>Time</th>\n",
       "      <th>Fitness</th>\n",
       "      <th>FEvals</th>\n",
       "      <th>Temperature</th>\n",
       "      <th>max_iters</th>\n",
       "    </tr>\n",
       "  </thead>\n",
       "  <tbody>\n",
       "    <tr>\n",
       "      <th>3008</th>\n",
       "      <td>3008</td>\n",
       "      <td>1.476189</td>\n",
       "      <td>583.0</td>\n",
       "      <td>4513.0</td>\n",
       "      <td>10000</td>\n",
       "      <td>10000</td>\n",
       "    </tr>\n",
       "    <tr>\n",
       "      <th>3009</th>\n",
       "      <td>3009</td>\n",
       "      <td>1.476832</td>\n",
       "      <td>583.0</td>\n",
       "      <td>4514.0</td>\n",
       "      <td>10000</td>\n",
       "      <td>10000</td>\n",
       "    </tr>\n",
       "    <tr>\n",
       "      <th>3010</th>\n",
       "      <td>3010</td>\n",
       "      <td>1.477653</td>\n",
       "      <td>584.0</td>\n",
       "      <td>4516.0</td>\n",
       "      <td>10000</td>\n",
       "      <td>10000</td>\n",
       "    </tr>\n",
       "    <tr>\n",
       "      <th>3011</th>\n",
       "      <td>3011</td>\n",
       "      <td>1.478310</td>\n",
       "      <td>584.0</td>\n",
       "      <td>4517.0</td>\n",
       "      <td>10000</td>\n",
       "      <td>10000</td>\n",
       "    </tr>\n",
       "    <tr>\n",
       "      <th>3012</th>\n",
       "      <td>3012</td>\n",
       "      <td>1.478962</td>\n",
       "      <td>584.0</td>\n",
       "      <td>4518.0</td>\n",
       "      <td>10000</td>\n",
       "      <td>10000</td>\n",
       "    </tr>\n",
       "    <tr>\n",
       "      <th>3013</th>\n",
       "      <td>3013</td>\n",
       "      <td>1.479611</td>\n",
       "      <td>584.0</td>\n",
       "      <td>4519.0</td>\n",
       "      <td>10000</td>\n",
       "      <td>10000</td>\n",
       "    </tr>\n",
       "    <tr>\n",
       "      <th>3014</th>\n",
       "      <td>3014</td>\n",
       "      <td>1.480262</td>\n",
       "      <td>584.0</td>\n",
       "      <td>4520.0</td>\n",
       "      <td>10000</td>\n",
       "      <td>10000</td>\n",
       "    </tr>\n",
       "    <tr>\n",
       "      <th>3015</th>\n",
       "      <td>3015</td>\n",
       "      <td>1.481071</td>\n",
       "      <td>584.0</td>\n",
       "      <td>4522.0</td>\n",
       "      <td>10000</td>\n",
       "      <td>10000</td>\n",
       "    </tr>\n",
       "    <tr>\n",
       "      <th>3016</th>\n",
       "      <td>3016</td>\n",
       "      <td>1.481742</td>\n",
       "      <td>584.0</td>\n",
       "      <td>4523.0</td>\n",
       "      <td>10000</td>\n",
       "      <td>10000</td>\n",
       "    </tr>\n",
       "    <tr>\n",
       "      <th>3017</th>\n",
       "      <td>3017</td>\n",
       "      <td>1.482574</td>\n",
       "      <td>585.0</td>\n",
       "      <td>4525.0</td>\n",
       "      <td>10000</td>\n",
       "      <td>10000</td>\n",
       "    </tr>\n",
       "  </tbody>\n",
       "</table>\n",
       "</div>"
      ],
      "text/plain": [
       "      Iteration      Time  Fitness  FEvals Temperature  max_iters\n",
       "3008       3008  1.476189    583.0  4513.0       10000      10000\n",
       "3009       3009  1.476832    583.0  4514.0       10000      10000\n",
       "3010       3010  1.477653    584.0  4516.0       10000      10000\n",
       "3011       3011  1.478310    584.0  4517.0       10000      10000\n",
       "3012       3012  1.478962    584.0  4518.0       10000      10000\n",
       "3013       3013  1.479611    584.0  4519.0       10000      10000\n",
       "3014       3014  1.480262    584.0  4520.0       10000      10000\n",
       "3015       3015  1.481071    584.0  4522.0       10000      10000\n",
       "3016       3016  1.481742    584.0  4523.0       10000      10000\n",
       "3017       3017  1.482574    585.0  4525.0       10000      10000"
      ]
     },
     "execution_count": 6,
     "metadata": {},
     "output_type": "execute_result"
    }
   ],
   "source": [
    "print(df_run_curves['Fitness'].max())\n",
    "df_run_curves.tail(10)\n",
    "# df_run_curves.head()"
   ]
  },
  {
   "cell_type": "code",
   "execution_count": 7,
   "metadata": {},
   "outputs": [
    {
     "name": "stdout",
     "output_type": "stream",
     "text": [
      "Creating new metrics file..\n"
     ]
    }
   ],
   "source": [
    "df_path = f'metrics/{ALGORITHM}.csv'\n",
    "os.makedirs(os.path.dirname(df_path), exist_ok=True)\n",
    "if not os.path.exists(df_path):\n",
    "    print('Creating new metrics file..')\n",
    "    all_df = pd.DataFrame(columns=[\n",
    "        # runner columns\n",
    "        'Iteration', 'Time', 'Fitness', 'FEvals', 'Temperature', 'max_iters',\n",
    "        # problem config\n",
    "        'problem_size', 'connections_per_node', 'decay_type', 'max_attempts', 'num_edges',\n",
    "        # run config\n",
    "        'run_number', 'group_timestamp', 'total_runtime',\n",
    "    ])\n",
    "    all_df.to_csv(df_path, index=False)\n",
    "all_df = pd.read_csv(df_path)"
   ]
  },
  {
   "cell_type": "code",
   "execution_count": 8,
   "metadata": {},
   "outputs": [
    {
     "name": "stdout",
     "output_type": "stream",
     "text": [
      "Temp: 1\n",
      "Decay Type: ExpDecay\n"
     ]
    },
    {
     "name": "stderr",
     "output_type": "stream",
     "text": [
      "100%|██████████| 3/3 [01:53<00:00, 37.70s/it]\n"
     ]
    },
    {
     "name": "stdout",
     "output_type": "stream",
     "text": [
      "Max Fitness: 590.0\n",
      "Decay Type: GeomDecay\n"
     ]
    },
    {
     "name": "stderr",
     "output_type": "stream",
     "text": [
      "100%|██████████| 3/3 [02:02<00:00, 40.79s/it]\n"
     ]
    },
    {
     "name": "stdout",
     "output_type": "stream",
     "text": [
      "Max Fitness: 590.0\n",
      "Decay Type: ArithDecay\n"
     ]
    },
    {
     "name": "stderr",
     "output_type": "stream",
     "text": [
      " 33%|███▎      | 1/3 [00:43<01:26, 43.41s/it]"
     ]
    }
   ],
   "source": [
    "for temperature in TEMPERATURE_LIST:\n",
    "    print(f'Temp: {temperature}')\n",
    "    for decay_str in DECAY_LIST:\n",
    "        if decay_str == 'ExpDecay':\n",
    "            decay_type = get_exp_decay(temperature)\n",
    "        elif decay_str == 'GeomDecay':\n",
    "            decay_type = get_geom_decay(temperature)\n",
    "        elif decay_str == 'ArithDecay':\n",
    "            decay_type = get_arith_decay(temperature)\n",
    "        else:\n",
    "            raise ValueError('Invalid decay type')\n",
    "        print(f\"Decay Type: {decay_str}\")\n",
    "\n",
    "        if (\n",
    "            (all_df['problem_size'] == PROBLEM_SIZE) &\n",
    "            (all_df['connections_per_node'] == CONNECTIONS_PER_NODE) &\n",
    "            (all_df['decay_type'] == decay_str) &\n",
    "            (all_df['Temperature'] == temperature) &\n",
    "            (all_df['max_attempts'] == MAX_ATTEMPTS)\n",
    "        ).any():\n",
    "            print('Already run')\n",
    "            continue\n",
    "\n",
    "        group_timestamp = int(time.time())\n",
    "        time.sleep(1)\n",
    "        max_fitnesses = []\n",
    "        for run_i in tqdm(range(NUM_RUNS)):\n",
    "            t_start = time.perf_counter()\n",
    "            problem = MaxKColorGenerator().generate(seed=run_i, number_of_nodes=PROBLEM_SIZE, \n",
    "                                                    max_connections_per_node=CONNECTIONS_PER_NODE, \n",
    "                                                    maximize=True, max_colors=MAX_COLORS)\n",
    "            runner = SARunner(\n",
    "                problem=problem,\n",
    "                experiment_name='SA',\n",
    "                output_directory='.',\n",
    "                seed=run_i,\n",
    "                iteration_list=[MAX_ITERATIONS],\n",
    "                max_attempts=MAX_ATTEMPTS,\n",
    "                temperature_list=[decay_type],\n",
    "                # decay_list=[decay_type],\n",
    "            )\n",
    "            _, df_run_curves = runner.run()\n",
    "\n",
    "            df_run_curves['problem_size'] = PROBLEM_SIZE\n",
    "            df_run_curves['connections_per_node'] = CONNECTIONS_PER_NODE\n",
    "            df_run_curves['decay_type'] = decay_str\n",
    "            df_run_curves['max_attempts'] = MAX_ATTEMPTS\n",
    "\n",
    "            df_run_curves['Temperature'] = temperature\n",
    "            df_run_curves['max_iters'] = MAX_ITERATIONS\n",
    "\n",
    "            df_run_curves['run_number'] = run_i\n",
    "            df_run_curves['group_timestamp'] = group_timestamp\n",
    "            df_run_curves['num_edges'] = problem.length\n",
    "\n",
    "            max_fitnesses.append(df_run_curves['Fitness'].max())\n",
    "\n",
    "            t_end = time.perf_counter()\n",
    "            df_run_curves['total_runtime'] = t_end - t_start\n",
    "\n",
    "            all_df = pd.concat([all_df, df_run_curves])\n",
    "        print(f'Max Fitness: {np.mean(max_fitnesses)}')\n",
    "        all_df.reset_index(inplace=True, drop=True)\n",
    "        all_df.to_csv(df_path, index=False)"
   ]
  },
  {
   "cell_type": "code",
   "execution_count": null,
   "metadata": {},
   "outputs": [],
   "source": [
    "all_df.columns"
   ]
  },
  {
   "cell_type": "code",
   "execution_count": null,
   "metadata": {},
   "outputs": [],
   "source": [
    "agg_df = pd.DataFrame()\n",
    "for group_timestamp in all_df['group_timestamp'].unique():\n",
    "    df = all_df[all_df['group_timestamp'] == group_timestamp]\n",
    "    max_fit = df['Fitness'].max()\n",
    "    total_iters = df['Iteration'].max()\n",
    "    max_fevals = df['FEvals'].max()\n",
    "    df.drop(columns=['Fitness', 'Iteration', 'FEvals', 'Time'], inplace=True)\n",
    "    assert(len(df) > NUM_RUNS)\n",
    "    df.drop_duplicates(inplace=True)\n",
    "    assert(len(df) == NUM_RUNS)\n",
    "    df['max_fitness'] = max_fit\n",
    "    df['total_iterations'] = total_iters\n",
    "    df['max_fevals'] = max_fevals\n",
    "    agg_df = pd.concat([agg_df, df])\n",
    "agg_df.reset_index(inplace=True, drop=True)"
   ]
  },
  {
   "cell_type": "code",
   "execution_count": null,
   "metadata": {},
   "outputs": [],
   "source": [
    "df_path = f'metrics/{ALGORITHM}_agg.csv'\n",
    "agg_df.to_csv(df_path, index=False)"
   ]
  },
  {
   "cell_type": "code",
   "execution_count": null,
   "metadata": {},
   "outputs": [],
   "source": [
    "agg_df"
   ]
  },
  {
   "cell_type": "code",
   "execution_count": null,
   "metadata": {},
   "outputs": [],
   "source": []
  }
 ],
 "metadata": {
  "kernelspec": {
   "display_name": "venv",
   "language": "python",
   "name": "python3"
  },
  "language_info": {
   "codemirror_mode": {
    "name": "ipython",
    "version": 3
   },
   "file_extension": ".py",
   "mimetype": "text/x-python",
   "name": "python",
   "nbconvert_exporter": "python",
   "pygments_lexer": "ipython3",
   "version": "3.12.2"
  }
 },
 "nbformat": 4,
 "nbformat_minor": 2
}

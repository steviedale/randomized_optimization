{
 "cells": [
  {
   "cell_type": "code",
   "execution_count": 1,
   "metadata": {},
   "outputs": [],
   "source": [
    "import pandas as pd\n",
    "from tqdm import tqdm\n",
    "import os\n",
    "import time\n",
    "import numpy as np\n",
    "\n",
    "import sys\n",
    "sys.path.append('../mlrose')\n",
    "from mlrose_hiive.generators.max_k_color_generator import MaxKColorGenerator\n",
    "from mlrose_hiive import GARunner"
   ]
  },
  {
   "cell_type": "code",
   "execution_count": 2,
   "metadata": {},
   "outputs": [],
   "source": [
    "ALGORITHM = 'ga'\n",
    "PROBLEM_SIZE = 300\n",
    "CONNECTIONS_PER_NODE = 3\n",
    "MAX_COLORS = 4\n",
    "MAX_ITERATIONS = 100\n",
    "MAX_ATTEMPTS = 100\n",
    "NUM_RUNS = 3\n",
    "\n",
    "MUTATION_RATE_LIST = [0.1, 0.3, 0.5, 0.7]\n",
    "\n",
    "POPULATION_SIZES_LIST = [10, 100, 500, 1000]"
   ]
  },
  {
   "cell_type": "code",
   "execution_count": 3,
   "metadata": {},
   "outputs": [],
   "source": [
    "# SEED = 6\n",
    "SEED = int(time.time())\n",
    "problem = MaxKColorGenerator().generate(seed=SEED, number_of_nodes=PROBLEM_SIZE, \n",
    "                                        max_connections_per_node=CONNECTIONS_PER_NODE, \n",
    "                                        maximize=True, max_colors=MAX_COLORS)\n",
    "\n",
    "runner = GARunner(\n",
    "    problem=problem,\n",
    "    experiment_name='GA',\n",
    "    output_directory='.',\n",
    "    seed=SEED,\n",
    "    iteration_list=[MAX_ITERATIONS],\n",
    "    max_attempts=MAX_ATTEMPTS,\n",
    "    population_sizes=[10],\n",
    "    mutation_rates=[0.1],\n",
    ")\n",
    "x, df_run_curves = runner.run()"
   ]
  },
  {
   "cell_type": "code",
   "execution_count": 4,
   "metadata": {},
   "outputs": [
    {
     "name": "stdout",
     "output_type": "stream",
     "text": [
      "498.0\n"
     ]
    },
    {
     "data": {
      "text/html": [
       "<div>\n",
       "<style scoped>\n",
       "    .dataframe tbody tr th:only-of-type {\n",
       "        vertical-align: middle;\n",
       "    }\n",
       "\n",
       "    .dataframe tbody tr th {\n",
       "        vertical-align: top;\n",
       "    }\n",
       "\n",
       "    .dataframe thead th {\n",
       "        text-align: right;\n",
       "    }\n",
       "</style>\n",
       "<table border=\"1\" class=\"dataframe\">\n",
       "  <thead>\n",
       "    <tr style=\"text-align: right;\">\n",
       "      <th></th>\n",
       "      <th>Iteration</th>\n",
       "      <th>Time</th>\n",
       "      <th>Fitness</th>\n",
       "      <th>FEvals</th>\n",
       "      <th>Population Size</th>\n",
       "      <th>Mutation Rate</th>\n",
       "      <th>max_iters</th>\n",
       "    </tr>\n",
       "  </thead>\n",
       "  <tbody>\n",
       "    <tr>\n",
       "      <th>0</th>\n",
       "      <td>0</td>\n",
       "      <td>0.001956</td>\n",
       "      <td>416.0</td>\n",
       "      <td>10.0</td>\n",
       "      <td>10</td>\n",
       "      <td>0.1</td>\n",
       "      <td>100</td>\n",
       "    </tr>\n",
       "    <tr>\n",
       "      <th>1</th>\n",
       "      <td>1</td>\n",
       "      <td>0.007359</td>\n",
       "      <td>443.0</td>\n",
       "      <td>22.0</td>\n",
       "      <td>10</td>\n",
       "      <td>0.1</td>\n",
       "      <td>100</td>\n",
       "    </tr>\n",
       "    <tr>\n",
       "      <th>2</th>\n",
       "      <td>2</td>\n",
       "      <td>0.009402</td>\n",
       "      <td>459.0</td>\n",
       "      <td>34.0</td>\n",
       "      <td>10</td>\n",
       "      <td>0.1</td>\n",
       "      <td>100</td>\n",
       "    </tr>\n",
       "    <tr>\n",
       "      <th>3</th>\n",
       "      <td>3</td>\n",
       "      <td>0.011330</td>\n",
       "      <td>459.0</td>\n",
       "      <td>45.0</td>\n",
       "      <td>10</td>\n",
       "      <td>0.1</td>\n",
       "      <td>100</td>\n",
       "    </tr>\n",
       "    <tr>\n",
       "      <th>4</th>\n",
       "      <td>4</td>\n",
       "      <td>0.013225</td>\n",
       "      <td>459.0</td>\n",
       "      <td>56.0</td>\n",
       "      <td>10</td>\n",
       "      <td>0.1</td>\n",
       "      <td>100</td>\n",
       "    </tr>\n",
       "  </tbody>\n",
       "</table>\n",
       "</div>"
      ],
      "text/plain": [
       "   Iteration      Time  Fitness  FEvals  Population Size  Mutation Rate  \\\n",
       "0          0  0.001956    416.0    10.0               10            0.1   \n",
       "1          1  0.007359    443.0    22.0               10            0.1   \n",
       "2          2  0.009402    459.0    34.0               10            0.1   \n",
       "3          3  0.011330    459.0    45.0               10            0.1   \n",
       "4          4  0.013225    459.0    56.0               10            0.1   \n",
       "\n",
       "   max_iters  \n",
       "0        100  \n",
       "1        100  \n",
       "2        100  \n",
       "3        100  \n",
       "4        100  "
      ]
     },
     "execution_count": 4,
     "metadata": {},
     "output_type": "execute_result"
    }
   ],
   "source": [
    "print(df_run_curves['Fitness'].max())\n",
    "df_run_curves.head()"
   ]
  },
  {
   "cell_type": "code",
   "execution_count": 5,
   "metadata": {},
   "outputs": [],
   "source": [
    "df_path = f'metrics/{ALGORITHM}.csv'\n",
    "os.makedirs(os.path.dirname(df_path), exist_ok=True)\n",
    "if not os.path.exists(df_path):\n",
    "    all_df = pd.DataFrame(columns=[\n",
    "        # runner columns\n",
    "        'Iteration', 'Time', 'Fitness', 'FEvals', 'Population Size', 'Mutation Rate', 'max_iters',\n",
    "        # problem config\n",
    "        'problem_size', 'connections_per_node', 'max_attempts', 'num_edges',\n",
    "        # run config\n",
    "        'run_number', 'group_timestamp', 'total_runtime',\n",
    "    ])\n",
    "    all_df.to_csv(df_path, index=False)\n",
    "all_df = pd.read_csv(df_path)"
   ]
  },
  {
   "cell_type": "code",
   "execution_count": 6,
   "metadata": {},
   "outputs": [
    {
     "name": "stdout",
     "output_type": "stream",
     "text": [
      "Mutation: 0.1\n",
      "Population: 10\n"
     ]
    },
    {
     "name": "stderr",
     "output_type": "stream",
     "text": [
      "100%|██████████| 3/3 [01:46<00:00, 35.46s/it]\n"
     ]
    },
    {
     "name": "stdout",
     "output_type": "stream",
     "text": [
      "Max Fitness: 507.3333333333333\n",
      "Population: 100\n"
     ]
    },
    {
     "name": "stderr",
     "output_type": "stream",
     "text": [
      "  0%|          | 0/3 [00:00<?, ?it/s]"
     ]
    }
   ],
   "source": [
    "for mutation in MUTATION_RATE_LIST:\n",
    "    print(f'Mutation: {mutation}')\n",
    "    for population in POPULATION_SIZES_LIST:\n",
    "        print(f\"Population: {population}\")\n",
    "\n",
    "        if (\n",
    "            (all_df['problem_size'] == PROBLEM_SIZE) &\n",
    "            (all_df['connections_per_node'] == CONNECTIONS_PER_NODE) &\n",
    "            (all_df['Population Size'] == population) &\n",
    "            (all_df['Mutation Rate'] == mutation) &\n",
    "            (all_df['max_attempts'] == MAX_ATTEMPTS) &\n",
    "            (all_df['max_iters'] == MAX_ITERATIONS)\n",
    "        ).any():\n",
    "            print('Already run')\n",
    "            continue\n",
    "\n",
    "        group_timestamp = int(time.time())\n",
    "        time.sleep(1)\n",
    "        max_fitnesses = []\n",
    "        for run_i in tqdm(range(NUM_RUNS)):\n",
    "            t_start = time.perf_counter()\n",
    "            problem = MaxKColorGenerator().generate(seed=run_i, number_of_nodes=PROBLEM_SIZE, \n",
    "                                                    max_connections_per_node=CONNECTIONS_PER_NODE, \n",
    "                                                    maximize=True, max_colors=MAX_COLORS)\n",
    "            runner = GARunner(\n",
    "                problem=problem,\n",
    "                experiment_name='GA',\n",
    "                output_directory='.',\n",
    "                seed=run_i,\n",
    "                iteration_list=[MAX_ITERATIONS],\n",
    "                max_attempts=MAX_ATTEMPTS,\n",
    "                population_sizes=[population],\n",
    "                mutation_rates=[mutation],\n",
    "            )\n",
    "            _, df_run_curves = runner.run()\n",
    "\n",
    "            df_run_curves['problem_size'] = PROBLEM_SIZE\n",
    "            df_run_curves['connections_per_node'] = CONNECTIONS_PER_NODE\n",
    "            df_run_curves['max_attempts'] = MAX_ATTEMPTS\n",
    "\n",
    "            df_run_curves['Population Size'] = population\n",
    "            df_run_curves['Mutation Rate'] = mutation\n",
    "            df_run_curves['max_iters'] = MAX_ITERATIONS\n",
    "\n",
    "            df_run_curves['run_number'] = run_i\n",
    "            df_run_curves['group_timestamp'] = group_timestamp\n",
    "            df_run_curves['num_edges'] = problem.length\n",
    "\n",
    "            # print(f\"Max Fitness: {df_run_curves['Fitness'].max()}\")\n",
    "            # print(f\"Max Iteration: {df_run_curves['Iteration'].max()}\")\n",
    "\n",
    "            max_fitnesses.append(df_run_curves['Fitness'].max())\n",
    "\n",
    "            t_end = time.perf_counter()\n",
    "            df_run_curves['total_runtime'] = t_end - t_start\n",
    "\n",
    "            all_df = pd.concat([all_df, df_run_curves])\n",
    "\n",
    "        print(f'Max Fitness: {np.mean(max_fitnesses)}')\n",
    "\n",
    "        all_df.reset_index(inplace=True, drop=True)\n",
    "        all_df.to_csv(df_path, index=False)"
   ]
  },
  {
   "cell_type": "code",
   "execution_count": null,
   "metadata": {},
   "outputs": [],
   "source": [
    "all_df.columns"
   ]
  },
  {
   "cell_type": "code",
   "execution_count": null,
   "metadata": {},
   "outputs": [],
   "source": [
    "agg_df = pd.DataFrame()\n",
    "for group_timestamp in all_df['group_timestamp'].unique():\n",
    "    df = all_df[all_df['group_timestamp'] == group_timestamp]\n",
    "    max_fit = df['Fitness'].max()\n",
    "    total_iters = df['Iteration'].max()\n",
    "    max_fevals = df['FEvals'].max()\n",
    "    df.drop(columns=['Fitness', 'Iteration', 'FEvals', 'Time'], inplace=True)\n",
    "    assert(len(df) > NUM_RUNS)\n",
    "    df.drop_duplicates(inplace=True)\n",
    "    assert(len(df) == NUM_RUNS)\n",
    "    df['max_fitness'] = max_fit\n",
    "    df['total_iterations'] = total_iters\n",
    "    df['max_fevals'] = max_fevals\n",
    "    agg_df = pd.concat([agg_df, df])\n",
    "agg_df.reset_index(inplace=True, drop=True)"
   ]
  },
  {
   "cell_type": "code",
   "execution_count": null,
   "metadata": {},
   "outputs": [],
   "source": [
    "df_path = f'metrics/{ALGORITHM}_agg.csv'\n",
    "agg_df.to_csv(df_path, index=False)"
   ]
  },
  {
   "cell_type": "code",
   "execution_count": null,
   "metadata": {},
   "outputs": [],
   "source": []
  }
 ],
 "metadata": {
  "kernelspec": {
   "display_name": "venv",
   "language": "python",
   "name": "python3"
  },
  "language_info": {
   "codemirror_mode": {
    "name": "ipython",
    "version": 3
   },
   "file_extension": ".py",
   "mimetype": "text/x-python",
   "name": "python",
   "nbconvert_exporter": "python",
   "pygments_lexer": "ipython3",
   "version": "3.12.2"
  }
 },
 "nbformat": 4,
 "nbformat_minor": 2
}

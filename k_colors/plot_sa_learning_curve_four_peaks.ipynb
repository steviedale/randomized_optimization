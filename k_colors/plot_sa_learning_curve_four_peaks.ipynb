{
 "cells": [
  {
   "cell_type": "code",
   "execution_count": null,
   "metadata": {},
   "outputs": [],
   "source": [
    "# Suppress Warning messages\n",
    "import warnings\n",
    "warnings.simplefilter(action='ignore')"
   ]
  },
  {
   "cell_type": "code",
   "execution_count": null,
   "metadata": {},
   "outputs": [],
   "source": [
    "import pandas as pd\n",
    "import sys\n",
    "import os\n",
    "import matplotlib.pyplot as plt\n",
    "import numpy as np\n",
    "from tqdm import tqdm"
   ]
  },
  {
   "cell_type": "code",
   "execution_count": null,
   "metadata": {},
   "outputs": [],
   "source": [
    "PROBLEM_NAME = 'KColor'\n",
    "ALGORITHM_NAME = 'SA'"
   ]
  },
  {
   "cell_type": "code",
   "execution_count": null,
   "metadata": {},
   "outputs": [],
   "source": [
    "PROBLEM_SIZE = 100\n",
    "CONNECTIONS_PER_NODE = 4"
   ]
  },
  {
   "cell_type": "code",
   "execution_count": null,
   "metadata": {},
   "outputs": [],
   "source": [
    "out_dir = f'metrics'\n",
    "os.makedirs(out_dir, exist_ok=True)"
   ]
  },
  {
   "cell_type": "code",
   "execution_count": null,
   "metadata": {},
   "outputs": [],
   "source": [
    "all_df = pd.read_csv(f'metrics/{ALGORITHM_NAME.lower()}.csv')"
   ]
  },
  {
   "cell_type": "code",
   "execution_count": null,
   "metadata": {},
   "outputs": [],
   "source": [
    "all_df.columns"
   ]
  },
  {
   "cell_type": "code",
   "execution_count": null,
   "metadata": {},
   "outputs": [],
   "source": [
    "print(all_df['decay_type'].unique())\n",
    "print(all_df['Temperature'].unique())"
   ]
  },
  {
   "cell_type": "code",
   "execution_count": null,
   "metadata": {},
   "outputs": [],
   "source": [
    "all_df = all_df[all_df['Temperature'].isin([1, 100, 10000])]"
   ]
  },
  {
   "cell_type": "code",
   "execution_count": null,
   "metadata": {},
   "outputs": [],
   "source": [
    "all_df['X'] = all_df.apply(lambda row: f\"Temp={row['Temperature']}, DecayType={row['decay_type']}\", axis=1)"
   ]
  },
  {
   "cell_type": "code",
   "execution_count": null,
   "metadata": {},
   "outputs": [],
   "source": [
    "all_df['X'].unique()"
   ]
  },
  {
   "cell_type": "code",
   "execution_count": null,
   "metadata": {},
   "outputs": [],
   "source": [
    "def get_color(X):\n",
    "    if 'DecayType=ExpDecay' in X:\n",
    "        return 'red'\n",
    "    elif 'DecayType=GeomDecay' in X:\n",
    "        return 'blue'\n",
    "    elif 'DecayType=ArithDecay' in X:\n",
    "        return 'green'\n",
    "    else:\n",
    "        raise Exception(f'Unknown X: {X}')\n",
    "def get_style(X):\n",
    "    # if X[-6:] == 'Temp=1':\n",
    "    #     return 'dotted'\n",
    "    # elif X[-8:] == 'Temp=100':\n",
    "    #     return '--'\n",
    "    # elif X[-10:] == 'Temp=10000':\n",
    "    #     return '-'\n",
    "    if 'Temp=1,' in X:\n",
    "        return 'dotted'\n",
    "    elif 'Temp=100,' in X:\n",
    "        return '--'\n",
    "    elif 'Temp=10000,' in X:\n",
    "        return '-'"
   ]
  },
  {
   "cell_type": "code",
   "execution_count": null,
   "metadata": {},
   "outputs": [],
   "source": [
    "list(range(1, 100, 10))"
   ]
  },
  {
   "cell_type": "code",
   "execution_count": null,
   "metadata": {},
   "outputs": [],
   "source": [
    "metrics = {}\n",
    "\n",
    "for group in sorted(all_df['X'].unique()):\n",
    "    df = all_df[all_df['X'] == group]\n",
    "    assert(len(df['group_timestamp'].unique()) == 1)\n",
    "    last_iter = df['Iteration'].max()\n",
    "    metrics[group] = {\n",
    "        'iter': [],\n",
    "        'fitness_mean': [],\n",
    "        'fitness_std': [],\n",
    "    }\n",
    "    for iter_i in range(1, last_iter+1, 10):\n",
    "        iter_df = df[df['Iteration'] == iter_i]\n",
    "        metrics[group]['iter'].append(iter_i)\n",
    "        metrics[group]['fitness_mean'].append(iter_df['Fitness'].mean())\n",
    "        metrics[group]['fitness_std'].append(iter_df['Fitness'].std())"
   ]
  },
  {
   "cell_type": "code",
   "execution_count": null,
   "metadata": {},
   "outputs": [],
   "source": [
    "fontsize = 16\n",
    "plt.figure(figsize=(12, 8))\n",
    "last_iter = all_df['Iteration'].max()\n",
    "# plt.hlines(30, 0, last_iter, color='red', linestyle='dashed', alpha=1.0, label='Local Optima (Fitness=30)')\n",
    "# plt.hlines(47, 0, last_iter, color='black', linestyle='dashed', alpha=1.0, label='Global Optima (Fitness=47)')\n",
    "for group in metrics:\n",
    "    linestyle = get_style(group)\n",
    "    color = get_color(group)\n",
    "    # if color != 'red':\n",
    "    #     continue\n",
    "    plt.plot(metrics[group]['iter'], metrics[group]['fitness_mean'], label=group, color=color, linestyle=linestyle)\n",
    "    mean = np.array(metrics[group]['fitness_mean'])\n",
    "    std = np.array(metrics[group]['fitness_std']) / 4\n",
    "    lower = mean - std\n",
    "    upper = mean + std \n",
    "    plt.fill_between(metrics[group]['iter'], lower, upper, alpha=0.2, color=color)\n",
    "plt.title(f'{PROBLEM_NAME} - {ALGORITHM_NAME} - Fitness vs Iteration', fontsize=fontsize)\n",
    "plt.xlabel('Iteration', fontsize=fontsize)\n",
    "plt.ylabel('Fitness', fontsize=fontsize)\n",
    "# plt.xlim(0, 4000)\n",
    "plt.legend()\n",
    "plt.savefig(f'{out_dir}/{PROBLEM_NAME}_{ALGORITHM_NAME.lower()}_fitness_vs_iteration.png')"
   ]
  },
  {
   "cell_type": "code",
   "execution_count": null,
   "metadata": {},
   "outputs": [],
   "source": []
  }
 ],
 "metadata": {
  "kernelspec": {
   "display_name": "venv",
   "language": "python",
   "name": "python3"
  },
  "language_info": {
   "codemirror_mode": {
    "name": "ipython",
    "version": 3
   },
   "file_extension": ".py",
   "mimetype": "text/x-python",
   "name": "python",
   "nbconvert_exporter": "python",
   "pygments_lexer": "ipython3",
   "version": "3.12.2"
  }
 },
 "nbformat": 4,
 "nbformat_minor": 2
}

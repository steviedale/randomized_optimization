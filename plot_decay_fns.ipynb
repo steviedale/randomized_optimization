{
 "cells": [
  {
   "cell_type": "code",
   "execution_count": null,
   "metadata": {},
   "outputs": [],
   "source": [
    "import matplotlib.pyplot as plt\n",
    "import sys\n",
    "sys.path.append('mlrose')\n",
    "from mlrose_hiive import GeomDecay, ExpDecay, ArithDecay\n",
    "import numpy as np"
   ]
  },
  {
   "cell_type": "code",
   "execution_count": null,
   "metadata": {},
   "outputs": [],
   "source": [
    "MAX_ITERATIONS = 10000\n",
    "MIN_T = 0.001\n",
    "\n",
    "TEMPERATURE_LIST = [1, 10, 100, 1000, 10000]\n",
    "DECAY_LIST = [\n",
    "    'ExpDecay', \n",
    "    'GeomDecay', \n",
    "    'ArithDecay',\n",
    "]"
   ]
  },
  {
   "cell_type": "code",
   "execution_count": null,
   "metadata": {},
   "outputs": [],
   "source": [
    "P = 0.8\n",
    "def get_exp_decay(init_temp):\n",
    "    r = (\n",
    "        -np.log(MIN_T / init_temp)\n",
    "        /\n",
    "        int(P * MAX_ITERATIONS)\n",
    "    )\n",
    "    return ExpDecay(init_temp=init_temp, exp_const=r, min_temp=MIN_T)\n",
    "def get_geom_decay(init_temp):\n",
    "    r = (\n",
    "        (MIN_T / init_temp) ** (1 / int(P * MAX_ITERATIONS))\n",
    "    )\n",
    "    return GeomDecay(init_temp=init_temp, decay=r, min_temp=MIN_T)\n",
    "def get_arith_decay(init_temp):\n",
    "    r = (\n",
    "        (init_temp - MIN_T)\n",
    "        /\n",
    "        int(P * MAX_ITERATIONS)\n",
    "    )\n",
    "    return ArithDecay(init_temp=init_temp, decay=r, min_temp=MIN_T)\n"
   ]
  },
  {
   "cell_type": "code",
   "execution_count": null,
   "metadata": {},
   "outputs": [],
   "source": [
    "plt.figure(figsize=(12, 8))\n",
    "fontsize = 16\n",
    "temperature = 1\n",
    "for decay_str in DECAY_LIST:\n",
    "    if decay_str == 'ExpDecay':\n",
    "        decay_fn = get_exp_decay(temperature)\n",
    "        linestyle = '-'\n",
    "        color = 'red'\n",
    "        decay_str = f\"{decay_str} (r={decay_fn.exp_const:0.6f})\"\n",
    "    elif decay_str == 'GeomDecay':\n",
    "        decay_fn = get_geom_decay(temperature)\n",
    "        linestyle = 'dotted'\n",
    "        color = 'blue'\n",
    "        decay_str = f\"{decay_str} (r={decay_fn.decay:0.6f})\"\n",
    "    elif decay_str == 'ArithDecay':\n",
    "        decay_fn = get_arith_decay(temperature)\n",
    "        linestyle = '-'\n",
    "        color = 'green'\n",
    "        decay_str = f\"{decay_str} (r={decay_fn.decay:0.6f})\"\n",
    "    else:\n",
    "        raise ValueError('Invalid decay type')\n",
    "    X = np.arange(0, MAX_ITERATIONS)\n",
    "    y = [decay_fn.evaluate(i) for i in X]\n",
    "    plt.plot(X, y, label=decay_str, linestyle=linestyle, lw=3, color=color, alpha=0.5)\n",
    "plt.legend(fontsize=12)\n",
    "plt.title(f\"Temperature Decay Functions (T_0={temperature})\", fontsize=fontsize)\n",
    "plt.xlabel(\"Iteration\", fontsize=fontsize)\n",
    "plt.ylabel(\"Temperature\", fontsize=fontsize)\n",
    "plt.savefig('temperature_decay_functions.png')"
   ]
  },
  {
   "cell_type": "code",
   "execution_count": null,
   "metadata": {},
   "outputs": [],
   "source": [
    "0.0013815510557964273 + 0.9986194028465246"
   ]
  },
  {
   "cell_type": "code",
   "execution_count": null,
   "metadata": {},
   "outputs": [],
   "source": [
    "-np.log(0.9986194028)"
   ]
  },
  {
   "cell_type": "code",
   "execution_count": null,
   "metadata": {},
   "outputs": [],
   "source": []
  }
 ],
 "metadata": {
  "kernelspec": {
   "display_name": "venv",
   "language": "python",
   "name": "python3"
  },
  "language_info": {
   "codemirror_mode": {
    "name": "ipython",
    "version": 3
   },
   "file_extension": ".py",
   "mimetype": "text/x-python",
   "name": "python",
   "nbconvert_exporter": "python",
   "pygments_lexer": "ipython3",
   "version": "3.12.2"
  }
 },
 "nbformat": 4,
 "nbformat_minor": 2
}

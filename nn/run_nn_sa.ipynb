{
 "cells": [
  {
   "cell_type": "code",
   "execution_count": 1,
   "metadata": {},
   "outputs": [],
   "source": [
    "import pandas as pd\n",
    "from tqdm import tqdm\n",
    "import os\n",
    "import time\n",
    "import pickle\n",
    "import numpy as np\n",
    "import matplotlib.pyplot as plt\n",
    "from sklearn.model_selection import StratifiedKFold\n",
    "\n",
    "from dataset_helper import get_mnist_data\n",
    "\n",
    "import sys\n",
    "sys.path.append('../mlrose')\n",
    "from mlrose_hiive import NeuralNetwork, GeomDecay"
   ]
  },
  {
   "cell_type": "code",
   "execution_count": 2,
   "metadata": {},
   "outputs": [],
   "source": [
    "LR = 1\n",
    "ALG = 'simulated_annealing'\n",
    "MAX_ATTEMPTS = 100\n",
    "CLIP = 5\n",
    "HIDDEN_NODES = [10,]\n",
    "MAX_PATIENCE = 10\n",
    "TEMPERATURE = 1\n",
    "DECAY = 0.99"
   ]
  },
  {
   "cell_type": "code",
   "execution_count": 3,
   "metadata": {},
   "outputs": [],
   "source": [
    "X, y, y_one_hot = get_mnist_data()"
   ]
  },
  {
   "cell_type": "code",
   "execution_count": 17,
   "metadata": {},
   "outputs": [],
   "source": [
    "\n",
    "skf = StratifiedKFold(n_splits=3, random_state=None, shuffle=True)\n",
    "run_i = 0\n",
    "train_index, test_index = list(skf.split(X, y))[run_i]\n",
    "start_time = time.perf_counter()\n",
    "\n",
    "X_train = X[train_index]\n",
    "X_test = X[test_index]\n",
    "y_train = y[train_index]\n",
    "y_test = y[test_index]\n",
    "y_train_one_hot = y_one_hot[train_index]\n",
    "y_test_one_hot = y_one_hot[test_index]\n",
    "\n",
    "nn_model = NeuralNetwork(\n",
    "    hidden_nodes=HIDDEN_NODES, activation='relu', \n",
    "    algorithm=ALG, \n",
    "    max_iters=10000, bias=True, is_classifier=True, \n",
    "    learning_rate=0.01, early_stopping=True, clip_max=CLIP, max_attempts=MAX_ATTEMPTS, \n",
    "    schedule=GeomDecay(init_temp=TEMPERATURE, decay=DECAY, min_temp=0.001),\n",
    "    random_state=run_i, curve=True\n",
    ")\n",
    "nn_model.fit(X_train, y_train_one_hot)\n",
    "score = nn_model.score(X_test, y_test_one_hot)\n",
    "end_time = time.perf_counter()"
   ]
  },
  {
   "cell_type": "code",
   "execution_count": 18,
   "metadata": {},
   "outputs": [
    {
     "name": "stdout",
     "output_type": "stream",
     "text": [
      "Score: 0.041916167664670656\n"
     ]
    },
    {
     "data": {
      "text/plain": [
       "[<matplotlib.lines.Line2D at 0x306889ca0>]"
      ]
     },
     "execution_count": 18,
     "metadata": {},
     "output_type": "execute_result"
    },
    {
     "data": {
      "image/png": "[encoded data removed]",
      "text/plain": [
       "<Figure size 640x480 with 1 Axes>"
      ]
     },
     "metadata": {},
     "output_type": "display_data"
    }
   ],
   "source": [
    "print(f\"Score: {score}\")\n",
    "plt.plot(nn_model.fitness_curve[:,0])"
   ]
  },
  {
   "cell_type": "code",
   "execution_count": null,
   "metadata": {},
   "outputs": [],
   "source": [
    "skf = StratifiedKFold(n_splits=3, random_state=None, shuffle=True)\n",
    "data = {\n",
    "    'lr': LR,\n",
    "    'alg': ALG,\n",
    "    'max_attempts': MAX_ATTEMPTS,\n",
    "    'clip': CLIP,\n",
    "    'hidden_nodes': HIDDEN_NODES,\n",
    "    'runs': [],\n",
    "    'max_patience': MAX_PATIENCE,\n",
    "}\n",
    "for run_i, (train_index, test_index) in enumerate(skf.split(X, y)):\n",
    "    start_time = time.perf_counter()\n",
    "\n",
    "    run_data = {}\n",
    "\n",
    "    X_train = X[train_index]\n",
    "    X_test = X[test_index]\n",
    "    y_train = y[train_index]\n",
    "    y_test = y[test_index]\n",
    "    y_train_one_hot = y_one_hot[train_index]\n",
    "    y_test_one_hot = y_one_hot[test_index]\n",
    "\n",
    "    iter_list = np.arange(1, 10001, 100) \n",
    "    test_scores = []\n",
    "    best_test_score = 0\n",
    "    patience_counter = 0\n",
    "    for iterations in tqdm(iter_list):\n",
    "        nn_model = NeuralNetwork(\n",
    "            hidden_nodes=HIDDEN_NODES, activation='relu', \n",
    "            algorithm=ALG, \n",
    "            max_iters=iterations, bias=True, is_classifier=True, \n",
    "            learning_rate=LR, early_stopping=True, clip_max=CLIP, max_attempts=MAX_ATTEMPTS, \n",
    "            schedule=GeomDecay(init_temp=TEMPERATURE, decay=DECAY, min_temp=0.001),\n",
    "            random_state=run_i, curve=True\n",
    "        )\n",
    "        nn_model.fit(X_train, y_train_one_hot)\n",
    "        score = nn_model.score(X_test, y_test_one_hot)\n",
    "        test_scores.append(score)\n",
    "\n",
    "        # early stopping\n",
    "        if score > best_test_score:\n",
    "            best_test_score = score\n",
    "            patience_counter = 0\n",
    "            print(f'New best test score: {best_test_score}')\n",
    "        else:\n",
    "            patience_counter += 1\n",
    "            print(f'Patience: {patience_counter}, Test score: {score}')\n",
    "            if patience_counter > MAX_PATIENCE:\n",
    "                print(\"Early stopping at \", iterations)\n",
    "                break\n",
    "\n",
    "        if len(nn_model.fitness_curve) < iterations:\n",
    "            print(\"Early stopping at \", iterations)\n",
    "            break\n",
    "    print(test_scores)\n",
    "    end_time = time.perf_counter()\n",
    "    run_data['test_scores'] = test_scores\n",
    "    run_data['iterations'] = iter_list[:len(test_scores)]\n",
    "    run_data['fitness_curve'] = nn_model.fitness_curve\n",
    "    run_data['runtime'] = end_time - start_time\n",
    "\n",
    "    data['runs'].append(run_data)"
   ]
  },
  {
   "cell_type": "code",
   "execution_count": null,
   "metadata": {},
   "outputs": [],
   "source": [
    "path = f'metrics/{ALG}/{ALG}_pat{MAX_PATIENCE}_lr{LR}_clip{CLIP}_max_attempts{MAX_ATTEMPTS}_hidden_nodes{HIDDEN_NODES}.pkl'\n",
    "os.makedirs(os.path.dirname(path), exist_ok=True)\n",
    "pickle.dump(data, open(path, 'wb'))"
   ]
  },
  {
   "cell_type": "code",
   "execution_count": null,
   "metadata": {},
   "outputs": [],
   "source": []
  }
 ],
 "metadata": {
  "kernelspec": {
   "display_name": "venv",
   "language": "python",
   "name": "python3"
  },
  "language_info": {
   "codemirror_mode": {
    "name": "ipython",
    "version": 3
   },
   "file_extension": ".py",
   "mimetype": "text/x-python",
   "name": "python",
   "nbconvert_exporter": "python",
   "pygments_lexer": "ipython3",
   "version": "3.12.2"
  }
 },
 "nbformat": 4,
 "nbformat_minor": 2
}

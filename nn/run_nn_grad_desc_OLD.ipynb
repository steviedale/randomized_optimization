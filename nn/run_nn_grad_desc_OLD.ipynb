{
 "cells": [
  {
   "cell_type": "code",
   "execution_count": null,
   "metadata": {},
   "outputs": [],
   "source": [
    "import pandas as pd\n",
    "from tqdm import tqdm\n",
    "import os\n",
    "import time\n",
    "import numpy as np\n",
    "import matplotlib.pyplot as plt\n",
    "from sklearn.model_selection import StratifiedKFold\n",
    "\n",
    "from dataset_helper import get_mnist_data\n",
    "\n",
    "import sys\n",
    "sys.path.append('../mlrose')\n",
    "from mlrose_hiive import NeuralNetwork"
   ]
  },
  {
   "cell_type": "code",
   "execution_count": null,
   "metadata": {},
   "outputs": [],
   "source": [
    "X, y, y_one_hot = get_mnist_data()"
   ]
  },
  {
   "cell_type": "code",
   "execution_count": null,
   "metadata": {},
   "outputs": [],
   "source": [
    "# Split data into training and test sets\n",
    "skf = StratifiedKFold(n_splits=3, random_state=None, shuffle=True)\n",
    "train_index, test_index = list(skf.split(X, y))[0]\n",
    "X_train = X[train_index]\n",
    "X_test = X[test_index]\n",
    "y_train = y[train_index]\n",
    "y_test = y[test_index]\n",
    "y_train_one_hot = y_one_hot[train_index]\n",
    "y_test_one_hot = y_one_hot[test_index]"
   ]
  },
  {
   "cell_type": "code",
   "execution_count": null,
   "metadata": {},
   "outputs": [],
   "source": [
    "X_train.shape"
   ]
  },
  {
   "cell_type": "code",
   "execution_count": null,
   "metadata": {},
   "outputs": [],
   "source": [
    "nn_model = NeuralNetwork(\n",
    "    hidden_nodes = [10], activation ='relu', \n",
    "    algorithm='gradient_descent', \n",
    "    max_iters = 1000, bias = True, is_classifier = True, \n",
    "    learning_rate = 0.00000001, early_stopping = True, clip_max = 5, max_attempts = 100, \n",
    "    random_state = 1, curve=True)\n",
    "nn_model.fit(X_train, y_train_one_hot)\n",
    "print(nn_model.score(X_test, y_test_one_hot))\n",
    "plt.plot(nn_model.fitness_curve)"
   ]
  },
  {
   "cell_type": "code",
   "execution_count": null,
   "metadata": {},
   "outputs": [],
   "source": [
    "nn_model = NeuralNetwork(\n",
    "    hidden_nodes = [10], activation ='relu', \n",
    "    algorithm='gradient_descent', \n",
    "    max_iters = 1000, bias = True, is_classifier = True, \n",
    "    learning_rate = 0.0000001, early_stopping = True, clip_max = 5, max_attempts = 100, \n",
    "    random_state = 1, curve=True)\n",
    "nn_model.fit(X_train, y_train_one_hot)\n",
    "print(nn_model.score(X_test, y_test_one_hot))\n",
    "plt.plot(nn_model.fitness_curve)"
   ]
  },
  {
   "cell_type": "code",
   "execution_count": null,
   "metadata": {},
   "outputs": [],
   "source": [
    "X_train.shape"
   ]
  },
  {
   "cell_type": "code",
   "execution_count": null,
   "metadata": {},
   "outputs": [],
   "source": [
    "nn_model = NeuralNetwork(\n",
    "    hidden_nodes = [10], activation ='relu', \n",
    "    algorithm='gradient_descent', \n",
    "    max_iters = 201, bias = True, is_classifier = True, \n",
    "    learning_rate = 1e-7, early_stopping = True, clip_max = 5, max_attempts = 100, \n",
    "    random_state = 0, curve=True)\n",
    "nn_model.fit(X_train, y_train_one_hot)\n",
    "print(nn_model.score(X_test, y_test_one_hot))\n",
    "print(len(nn_model.fitness_curve))\n",
    "plt.plot(nn_model.fitness_curve)"
   ]
  },
  {
   "cell_type": "code",
   "execution_count": null,
   "metadata": {},
   "outputs": [],
   "source": [
    "nn_model.fitness_curve.shape"
   ]
  },
  {
   "cell_type": "code",
   "execution_count": null,
   "metadata": {},
   "outputs": [],
   "source": [
    "i = 3\n",
    "nn_model.predict(X_test[i:i+1])\n",
    "print(nn_model.predicted_probs.shape)\n",
    "print(nn_model.predicted_probs)"
   ]
  },
  {
   "cell_type": "code",
   "execution_count": null,
   "metadata": {},
   "outputs": [],
   "source": [
    "# plt.plot(nn_model.fitness_curve[:, 0])"
   ]
  },
  {
   "cell_type": "code",
   "execution_count": null,
   "metadata": {},
   "outputs": [],
   "source": [
    "# plt.plot(nn_model.fitness_curve[:, 0])\n",
    "plt.plot(nn_model.fitness_curve)"
   ]
  },
  {
   "cell_type": "code",
   "execution_count": null,
   "metadata": {},
   "outputs": [],
   "source": [
    "nn_model.score(X_test, y_test_one_hot)"
   ]
  },
  {
   "cell_type": "code",
   "execution_count": null,
   "metadata": {},
   "outputs": [],
   "source": []
  }
 ],
 "metadata": {
  "kernelspec": {
   "display_name": "venv",
   "language": "python",
   "name": "python3"
  },
  "language_info": {
   "codemirror_mode": {
    "name": "ipython",
    "version": 3
   },
   "file_extension": ".py",
   "mimetype": "text/x-python",
   "name": "python",
   "nbconvert_exporter": "python",
   "pygments_lexer": "ipython3",
   "version": "3.8.10"
  }
 },
 "nbformat": 4,
 "nbformat_minor": 2
}
